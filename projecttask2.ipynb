{
 "cells": [
  {
   "cell_type": "code",
   "execution_count": 1,
   "metadata": {},
   "outputs": [
    {
     "name": "stderr",
     "output_type": "stream",
     "text": [
      "C:\\Users\\astri\\AppData\\Local\\Temp\\ipykernel_26872\\964166201.py:1: DeprecationWarning: \n",
      "Pyarrow will become a required dependency of pandas in the next major release of pandas (pandas 3.0),\n",
      "(to allow more performant data types, such as the Arrow string type, and better interoperability with other libraries)\n",
      "but was not found to be installed on your system.\n",
      "If this would cause problems for you,\n",
      "please provide us feedback at https://github.com/pandas-dev/pandas/issues/54466\n",
      "        \n",
      "  import pandas as pd\n",
      "[nltk_data] Downloading package punkt to\n",
      "[nltk_data]     C:\\Users\\astri\\AppData\\Roaming\\nltk_data...\n",
      "[nltk_data]   Package punkt is already up-to-date!\n"
     ]
    }
   ],
   "source": [
    "import pandas as pd\n",
    "import numpy as np\n",
    "import re\n",
    "import math\n",
    "from cleantext import clean\n",
    "import matplotlib.pyplot as plt\n",
    "import nltk\n",
    "from nltk.stem.snowball import SnowballStemmer\n",
    "from collections import Counter\n",
    "import csv\n",
    "\n",
    "nltk.download('punkt')\n",
    "\n",
    "pd.set_option('display.max_rows', None)\n",
    "pd.set_option('display.max_colwidth', 150)"
   ]
  },
  {
   "cell_type": "code",
   "execution_count": null,
   "metadata": {},
   "outputs": [],
   "source": [
    "#det her er ikke færdigt\n",
    "from sklearn.model_selection import train_test_split\n",
    "#remove unknowns\n",
    "relevant = ['fake','reliable']\n",
    "\n",
    "news_data = csv.read(\"small_datasetprocessed.csv\")\n",
    "\n",
    "#sorting data\n",
    "data = news_data[news_data[\"simple_type\"].isin(relevant) == True] #fjerne ikke-relevante rækker, simple type tracker definitionen af fake news \n",
    "\n",
    "print(\"row count after removal:\", len(data))\n",
    "print(list(data))\n",
    "\n",
    "X = data.drop([\"type\"],axis=1).drop([\"simple_type\"],axis=1) #ikke sikker på de skal være i en liste\n",
    "#tjek lige om der er andre mærkelige kolonner vi har lavet i det?\n",
    "y = data[\"simple_type\"] #eller type?\n",
    "\n",
    "X_train, X_val, y_train, y_val= train_test_split(X,y,test_size=0.2,random_state=0,shuffle=True)\n",
    "X_val, X_test, y_val, y_test = train_test_split(X_val,y_val, test_size=0.5,random_state=0,shuffle=True)\n",
    "\n",
    "print(len(X_train),len(X_val),len(X_test))\n",
    "print(\"features\", X_test.head())      \n",
    "#tjek om de stadig passer sammen\n",
    "#spørg til:\n",
    "#1: I opgaven virker det som om at vi først skal splitte data før vi deler i fake og reliable - det giver ikke mening umiddelbart\n"
   ]
  },
  {
   "cell_type": "code",
   "execution_count": null,
   "metadata": {},
   "outputs": [],
   "source": [
    "#baseline model 1: single-feature logistic regression, length of article\n",
    "from sklearn.linear_model import LogisticRegression\n",
    "from sklearn.metrics import accuracy_score\n",
    "\n",
    "def bin_target(x):\n",
    "    if x==\"reliable\":\n",
    "        return 1\n",
    "    if x==\"fake\":\n",
    "        return 0\n",
    "\n",
    "article_length_train = X_train[\"content_stemmed\"].apply(lambda x: len(x)) #get feature with length of article (overvej om det er stemmed man skal gøre det på?)\n",
    "article_length_test = X_test[\"content_stemmed\"].apply(lambda x: len(x)) #get feature with length of article (overvej om det er stemmed man skal gøre det på?)\n",
    "\n",
    "bin_y_train = y_train.apply(lambda x:bin_target(x)) #get binary target\n",
    "bin_y_test = y_test.apply(lambda x:bin_target(x)) #get binary target\n",
    "\n",
    "model = LogisticRegression()\n",
    "reg = model.fit(pd.DataFrame(article_length_train),bin_y_train)\n",
    "\n",
    "y_pred = model.predict(pd.DataFrame(article_length_test)) #er det test eller validation?\n",
    "acc = accuracy_score(y_pred,bin_y_test)\n",
    "\n",
    "#metadata kunne være hjemmeside?\n",
    "print(acc)\n"
   ]
  },
  {
   "cell_type": "code",
   "execution_count": null,
   "metadata": {},
   "outputs": [],
   "source": [
    "#baseline model 2: single-feature logistic regression, mean word length\n",
    "bin_y_train = y_train.apply(lambda x:bin_target(x)) #get binary target\n",
    "bin_y_test = y_test.apply(lambda x:bin_target(x)) #get binary target\n",
    "\n",
    "model = LogisticRegression()\n",
    "reg = model.fit(pd.DataFrame(X_train[\"mean_word_length\"]),bin_y_train)\n",
    "\n",
    "y_pred = model.predict(pd.DataFrame(X_test[\"mean_word_length\"])) #er det test eller validation?\n",
    "acc = accuracy_score(y_pred,bin_y_test)\n",
    "\n",
    "#metadata kunne være hjemmeside?\n",
    "print(acc)\n"
   ]
  }
 ],
 "metadata": {
  "kernelspec": {
   "display_name": "base",
   "language": "python",
   "name": "python3"
  },
  "language_info": {
   "codemirror_mode": {
    "name": "ipython",
    "version": 3
   },
   "file_extension": ".py",
   "mimetype": "text/x-python",
   "name": "python",
   "nbconvert_exporter": "python",
   "pygments_lexer": "ipython3",
   "version": "3.11.5"
  }
 },
 "nbformat": 4,
 "nbformat_minor": 2
}
