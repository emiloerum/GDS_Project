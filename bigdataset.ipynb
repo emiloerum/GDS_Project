{
 "cells": [
  {
   "cell_type": "code",
   "execution_count": null,
   "metadata": {},
   "outputs": [],
   "source": [
    "import pandas as pd\n",
    "import numpy as np\n",
    "import re\n",
    "from cleantext import clean\n",
    "import matplotlib.pyplot as plt\n",
    "import nltk\n",
    "from nltk.stem.snowball import SnowballStemmer\n",
    "from collections import Counter\n",
    "from sklearn.model_selection import train_test_split\n",
    "\n",
    "nltk.download('punkt')\n",
    "\n",
    "#hej\n",
    "pd.set_option('display.max_rows', None)\n",
    "pd.set_option('display.max_colwidth', 150)"
   ]
  },
  {
   "cell_type": "code",
   "execution_count": null,
   "metadata": {},
   "outputs": [],
   "source": [
    "#LOOK THROUGH ENTIRE PREPROCESSING CODE TO ENSURE EVERYTHING IS AS INTENDED TO SAVE TIME SPENT\n",
    "#ON RUNNING THE CODE\n",
    "#Applying data preprocessing pipeline to 995,000_rows.csv dataset\n",
    "large_dataset = pd.read_csv('995,000_rows.csv', low_memory=False)\n",
    "\n",
    "#I've changed the dtype of the large content column to stringDtype such that every element\n",
    "#is treated as strings regardless of their original format, but i have not run the code yet as \n",
    "# the preprocessing pipeline it takes quite a while to run. Maybe now it will be more efficient\n",
    "#as the previous dtype of the content col was \"object\"\n",
    "large_content_column = pd.DataFrame(large_dataset['content'], dtype=pd.StringDtype())\n",
    "print(large_content_column[:100])"
   ]
  },
  {
   "cell_type": "code",
   "execution_count": null,
   "metadata": {},
   "outputs": [],
   "source": [
    "print(large_dataset['type'].value_counts())"
   ]
  },
  {
   "cell_type": "code",
   "execution_count": null,
   "metadata": {},
   "outputs": [],
   "source": [
    "#Preprocessing pileline:\n",
    "#Calling the clean method with appropriate arguments and assigning the result back to 'large_content_column'\n",
    "\n",
    "#This takes 30m on my pc but seems like its just how long it takes to clean. The output seems correct\n",
    "large_content_column_cleaned = large_content_column.apply(lambda x : clean(x,\n",
    "    fix_unicode=False,             # fix various unicode errors\n",
    "    to_ascii=False,                # transliterate to closest ASCII representation\n",
    "    lower=True,                    # lowercase text\n",
    "    no_line_breaks=True,           # fully strip line breaks as opposed to only normalizing them\n",
    "    no_urls=True,                  # replace all URLs with a special token\n",
    "    no_emails=True,                # replace all email addresses with a special token\n",
    "    no_phone_numbers=True,         # replace all phone numbers with a special token\n",
    "    no_numbers=True,               # replace all numbers with a special token\n",
    "    no_digits=True,                # replace all digits with a special token\n",
    "    no_currency_symbols=True,      # replace all currency symbols with a special token\n",
    "    no_punct=True,                 # remove punctuations\n",
    "    replace_with_punct=\"\",         # instead of removing punctuations you may replace them\n",
    "    replace_with_url=\"_URL_\",\n",
    "    replace_with_email=\"_EMAIL_\",\n",
    "    replace_with_phone_number=\"_PHONE_\",\n",
    "    replace_with_number=\"_NUMBER_\",\n",
    "    replace_with_digit=\"0\",\n",
    "    replace_with_currency_symbol=\"_CUR_\",\n",
    "    lang=\"en\"                    \n",
    "))\n",
    "\n",
    "print(large_content_column_cleaned.head(10))\n"
   ]
  },
  {
   "cell_type": "code",
   "execution_count": null,
   "metadata": {},
   "outputs": [],
   "source": [
    "#Remove dates from corpus\n",
    "#Dont know if it actually works as i cant find any places in the output where dates have been substituted??? \n",
    "def remove_dates_from_content(content):\n",
    "    '''Function that attempts to substitute dates in a document for the token \"_DATE_\".\n",
    "    If it fails to do so - for example if the content is not convertable to string, it \n",
    "    handles the typeerror exception and doesnt do anything with the content.'''\n",
    "    date_pattern = re.compile(r\"(([0-9]{4}-(0[0-9]|1[0-2])-([0-2][0-9]|[3[01])|[a-z]{,9} [0-9]{1,2}, [0-9]{2,4})|\\b(\\w+\\s)(\\d{2})(th)?,?(\\s\\d{4})\\b)\")\n",
    "    try:\n",
    "        content_without_dates = re.sub(date_pattern, \"_DATE_\", str(content))\n",
    "    except TypeError:\n",
    "        content_without_dates = content\n",
    "    return content_without_dates\n",
    "\n",
    "large_content_column_cleaned = large_content_column_cleaned.apply(lambda x: remove_dates_from_content(x))\n",
    "print(large_content_column_cleaned.head(10))   "
   ]
  },
  {
   "cell_type": "code",
   "execution_count": null,
   "metadata": {},
   "outputs": [],
   "source": [
    "#Seperate print statement to avoid having to run all code in one block again\n",
    "print(large_content_column_cleaned.head(10))"
   ]
  },
  {
   "cell_type": "code",
   "execution_count": null,
   "metadata": {},
   "outputs": [],
   "source": [
    "#Tokenize the corpus\n",
    "#Took 33minutes to run on my pc\n",
    "large_content_column_tokenized = large_content_column_cleaned.apply(lambda x: nltk.word_tokenize(x))"
   ]
  },
  {
   "cell_type": "code",
   "execution_count": null,
   "metadata": {},
   "outputs": [],
   "source": [
    "print(large_content_column_tokenized.head(10))"
   ]
  },
  {
   "cell_type": "code",
   "execution_count": null,
   "metadata": {},
   "outputs": [],
   "source": [
    "#Remove stopwords from corpus\n",
    "stopwordsDF = pd.read_csv('stopwords.csv')  #571 stopord - den fra nltk har færre, men kan også bruge\n",
    "stopwordsSeries = stopwordsDF.squeeze()\n",
    "stopwords = set(stopwordsSeries)\n",
    "\n",
    "def remove_stopwords(list):\n",
    "     '''Returns a list containing a document with the stopwords removed'''\n",
    "     return [word for word in list if word not in stopwords]\n",
    "\n",
    "large_content_column_no_stopwords = large_content_column_tokenized.apply(lambda x: remove_stopwords(x))"
   ]
  },
  {
   "cell_type": "code",
   "execution_count": null,
   "metadata": {},
   "outputs": [],
   "source": [
    "#Stemming the corpus\n",
    "stemmer = SnowballStemmer(\"english\")\n",
    "def list_stemmer (wordlist): #stemmer hvert ord i en liste\n",
    "    '''Stems each word in the given input list and returns this'''\n",
    "    stemmed_list = []\n",
    "    for word in wordlist:\n",
    "        stemmed_list.append(stemmer.stem(word))\n",
    "    return stemmed_list\n",
    "\n",
    "large_content_column_preprocessed = large_content_column_no_stopwords.apply(lambda x:list_stemmer(x))\n",
    "\n",
    "#IMPORTANT\n",
    "#Maybe more cleaning is needed before proceeding to save the data into new 'cleaned' csv-file for use from here on out!!!\n",
    "#For example we should find out if we want to drop some cols (if theyre empty) and potentially also rows\n",
    "#if we decide to only stick with the rows that have type reliable and fake."
   ]
  },
  {
   "cell_type": "code",
   "execution_count": null,
   "metadata": {},
   "outputs": [],
   "source": [
    "#Saving preprocessed corpus to dataframe\n",
    "large_dataset['content'] = large_content_column_preprocessed\n",
    "\n",
    "#Saving preprocessed dataframe to new csv file\n",
    "\n",
    "\n",
    "# large_dataset.to_csv('large_dataset_cleaned.csv', index=False)"
   ]
  },
  {
   "cell_type": "code",
   "execution_count": null,
   "metadata": {},
   "outputs": [],
   "source": [
    "#None of the following code has been run yet!!\n",
    "\n",
    "large_dataset_cleaned = pd.read_csv('large_dataset_cleaned.csv')\n",
    "#Splitting data into train_test_val sets:\n",
    "\n",
    "#Dividing data into features and label (X and y)\n",
    "y = large_dataset_cleaned['type'] #target\n",
    "\n",
    "X = large_dataset_cleaned.drop(columns=['type']) #features"
   ]
  },
  {
   "cell_type": "code",
   "execution_count": null,
   "metadata": {},
   "outputs": [],
   "source": [
    "#Split data into 80% training and 20% test\n",
    "X_train, X_test, y_train, y_test = train_test_split(X, y, test_size=0.2, random_state=42)\n",
    "\n",
    "#Split the newly created test data equally into validation and test data (10% each of the total dataset)\n",
    "X_val, X_test, y_val, y_test = train_test_split(X_test, y_test, test_size=0.5, random_state=42)"
   ]
  }
 ],
 "metadata": {
  "language_info": {
   "name": "python"
  }
 },
 "nbformat": 4,
 "nbformat_minor": 2
}
