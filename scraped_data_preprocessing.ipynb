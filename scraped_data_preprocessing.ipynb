{
 "cells": [
  {
   "cell_type": "code",
   "execution_count": 12,
   "metadata": {},
   "outputs": [
    {
     "name": "stderr",
     "output_type": "stream",
     "text": [
      "[nltk_data] Downloading package punkt to\n",
      "[nltk_data]     C:\\Users\\emilo\\AppData\\Roaming\\nltk_data...\n",
      "[nltk_data]   Package punkt is already up-to-date!\n"
     ]
    }
   ],
   "source": [
    "import pandas as pd\n",
    "import matplotlib.pyplot as plt\n",
    "from collections import Counter\n",
    "import re\n",
    "from cleantext import clean\n",
    "import nltk\n",
    "from nltk.stem.snowball import SnowballStemmer\n",
    "from sklearn.feature_extraction.text import TfidfVectorizer\n",
    "import numpy as np\n",
    "\n",
    "nltk.download('punkt')\n",
    "\n",
    "pd.set_option('display.max_rows', None)\n",
    "pd.set_option('display.max_colwidth', 150)"
   ]
  },
  {
   "cell_type": "code",
   "execution_count": 7,
   "metadata": {},
   "outputs": [],
   "source": [
    "scraped_data = pd.read_csv('scraped_article_info.csv', low_memory=False)\n",
    "\n",
    "content = scraped_data['text']"
   ]
  },
  {
   "cell_type": "code",
   "execution_count": 8,
   "metadata": {},
   "outputs": [],
   "source": [
    "#Functions for preprocessing\n",
    "def remove_dates_from_content(content):\n",
    "    '''Function that attempts to substitute dates in a document for the token \"_DATE_\".\n",
    "    If it fails to do so - for example if the content is not convertable to string, it \n",
    "    handles the typeerror exception and doesnt do anything with the content.'''\n",
    "    date_pattern = re.compile(r\"(([0-9]{4}-(0[0-9]|1[0-2])-([0-2][0-9]|[3[01])|[a-z]{,9} [0-9]{1,2}, [0-9]{2,4})|\\b(\\w+\\s)(\\d{2})(th)?,?(\\s\\d{4})\\b)\")\n",
    "    try:\n",
    "        content_without_dates = re.sub(date_pattern, \"_DATE_\", str(content))\n",
    "    except TypeError:\n",
    "        content_without_dates = content\n",
    "    return content_without_dates \n",
    "\n",
    "def remove_bar_from_content(content):\n",
    "    '''Function for removing every occurence of \"|\"'''\n",
    "    content_without_bar = str(content).replace(\"|\", \"\")\n",
    "    return content_without_bar\n",
    "\n",
    "def remove_a_from_content(content):\n",
    "    '''Function for removing every occurence of \"a\"'''\n",
    "    return [word for word in content if word != \"a\"]\n",
    "\n",
    "#Reading in stopwords\n",
    "stopwordsDF = pd.read_csv('stopwords.csv')\n",
    "stopwordsSeries = stopwordsDF.squeeze()\n",
    "stopwords = set(stopwordsSeries)\n",
    "\n",
    "def remove_stopwords(list):\n",
    "     '''Function that returns a list containing a document with the stopwords removed'''\n",
    "     return [word for word in list if word not in stopwords]\n",
    "\n",
    "#Initializing stemmer\n",
    "stemmer = SnowballStemmer(\"english\")\n",
    "def list_stemmer (wordlist): #stemmer hvert ord i en liste\n",
    "    '''Function that stems each word in the given input list and returns this'''\n",
    "    stemmed_list = []\n",
    "    for word in wordlist:\n",
    "        stemmed_list.append(stemmer.stem(word))\n",
    "    return stemmed_list\n"
   ]
  },
  {
   "cell_type": "code",
   "execution_count": 9,
   "metadata": {},
   "outputs": [
    {
     "name": "stdout",
     "output_type": "stream",
     "text": [
      "Preprocessing finished\n"
     ]
    }
   ],
   "source": [
    "content = content.apply(lambda x : clean(x,\n",
    "    fix_unicode=False,             # fix various unicode errors\n",
    "    to_ascii=False,                # transliterate to closest ASCII representation\n",
    "    lower=True,                    # lowercase text\n",
    "    no_line_breaks=True,           # fully strip line breaks as opposed to only normalizing them\n",
    "    no_urls=True,                  # replace all URLs with a special token\n",
    "    no_emails=True,                # replace all email addresses with a special token\n",
    "    no_phone_numbers=True,         # replace all phone numbers with a special token\n",
    "    no_numbers=True,               # replace all numbers with a special token\n",
    "    no_digits=True,                # replace all digits with a special token\n",
    "    no_currency_symbols=True,      # replace all currency symbols with a special token\n",
    "    no_punct=True,                 # remove punctuations\n",
    "    replace_with_punct=\"\",         # instead of removing punctuations you may replace them\n",
    "    replace_with_url=\"_URL_\",\n",
    "    replace_with_email=\"_EMAIL_\",\n",
    "    replace_with_phone_number=\"_PHONE_\",\n",
    "    replace_with_number=\"_NUMBER_\",\n",
    "    replace_with_digit=\"0\",\n",
    "    replace_with_currency_symbol=\"_CUR_\",\n",
    "    lang=\"en\"                    \n",
    "))\n",
    "\n",
    "#Final cleaning of the 'content' column chunks\n",
    "content = content.apply(lambda x: remove_dates_from_content(x))\n",
    "content = content.apply(lambda x: remove_bar_from_content(x))\n",
    "\n",
    "#Tokenizing the 'content' column chunks\n",
    "content = content.apply(lambda x: nltk.word_tokenize(x))\n",
    "\n",
    "#Removing stopwords from the 'content' column chunks\n",
    "content = content.apply(lambda x: remove_stopwords(x))\n",
    "content = content.apply(lambda x: remove_a_from_content(x))\n",
    "\n",
    "#Stemming the 'content' column chunks\n",
    "content = content.apply(lambda x:list_stemmer(x))\n",
    "\n",
    "print('Preprocessing finished')"
   ]
  },
  {
   "cell_type": "code",
   "execution_count": 13,
   "metadata": {},
   "outputs": [],
   "source": [
    "content.to_pickle('scraped_data_preprocessed.pkl')"
   ]
  }
 ],
 "metadata": {
  "kernelspec": {
   "display_name": "ds_venv",
   "language": "python",
   "name": "python3"
  },
  "language_info": {
   "codemirror_mode": {
    "name": "ipython",
    "version": 3
   },
   "file_extension": ".py",
   "mimetype": "text/x-python",
   "name": "python",
   "nbconvert_exporter": "python",
   "pygments_lexer": "ipython3",
   "version": "3.12.1"
  }
 },
 "nbformat": 4,
 "nbformat_minor": 2
}
