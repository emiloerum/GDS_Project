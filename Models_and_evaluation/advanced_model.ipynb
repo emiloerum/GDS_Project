{
 "cells": [
  {
   "cell_type": "code",
   "execution_count": 1,
   "metadata": {},
   "outputs": [],
   "source": [
    "#det her er den udgave med det cleanede data\n",
    "from sklearn.model_selection import GridSearchCV\n",
    "from sklearn.model_selection import RandomizedSearchCV\n",
    "from sklearn.feature_extraction.text import TfidfVectorizer\n",
    "from sklearn.model_selection import train_test_split\n",
    "from sklearn.linear_model import LogisticRegression\n",
    "from sklearn.neural_network import MLPClassifier\n",
    "from sklearn.metrics import accuracy_score, f1_score, precision_score, recall_score, confusion_matrix\n",
    "import matplotlib.pyplot as plt\n",
    "import pandas as pd\n",
    "import numpy as np"
   ]
  },
  {
   "cell_type": "code",
   "execution_count": 2,
   "metadata": {},
   "outputs": [],
   "source": [
    "data = pd.read_pickle(\"data/labeled_content_new.pkl\")"
   ]
  },
  {
   "cell_type": "code",
   "execution_count": 3,
   "metadata": {},
   "outputs": [],
   "source": [
    "def bin_target(x):\n",
    "    if x==\"reliable\":\n",
    "        return 0\n",
    "    if x==\"fake\":\n",
    "        return 1\n",
    "\n",
    "y = data[\"type\"].apply(lambda x:bin_target(x)).astype(int)\n",
    "X = data[\"content\"]\n",
    "X_train, X_val, y_train, y_val= train_test_split(X,y,test_size=0.2,random_state=0,shuffle=True)\n",
    "X_val, X_test, y_val, y_test = train_test_split(X_val,y_val, test_size=0.5,random_state=0,shuffle=True) "
   ]
  },
  {
   "cell_type": "code",
   "execution_count": 4,
   "metadata": {},
   "outputs": [],
   "source": [
    "def fun(doc):\n",
    "   return doc\n",
    "\n",
    "vectorizer = TfidfVectorizer(\n",
    "    tokenizer=fun,\n",
    "    preprocessor=fun,\n",
    "    token_pattern=None)  "
   ]
  },
  {
   "cell_type": "code",
   "execution_count": 5,
   "metadata": {},
   "outputs": [
    {
     "name": "stdout",
     "output_type": "stream",
     "text": [
      "(336608, 827974)\n"
     ]
    }
   ],
   "source": [
    "X_train = vectorizer.fit_transform(X_train)\n",
    "print(X_train.shape)"
   ]
  },
  {
   "cell_type": "code",
   "execution_count": 6,
   "metadata": {},
   "outputs": [
    {
     "name": "stdout",
     "output_type": "stream",
     "text": [
      "(42076, 827974)\n"
     ]
    }
   ],
   "source": [
    "X_val = vectorizer.transform(X_val)\n",
    "print(X_val.shape)"
   ]
  },
  {
   "cell_type": "code",
   "execution_count": 7,
   "metadata": {},
   "outputs": [
    {
     "name": "stdout",
     "output_type": "stream",
     "text": [
      "(42077, 827974)\n"
     ]
    }
   ],
   "source": [
    "X_test = vectorizer.transform(X_test)\n",
    "print(X_test.shape)"
   ]
  },
  {
   "cell_type": "code",
   "execution_count": 8,
   "metadata": {},
   "outputs": [
    {
     "name": "stdout",
     "output_type": "stream",
     "text": [
      "accuracy: 0.9459549386823842\n",
      "F1: 0.9440011820330969\n"
     ]
    },
    {
     "name": "stderr",
     "output_type": "stream",
     "text": [
      "c:\\Users\\emilo\\miniconda3\\envs\\ds_venv\\Lib\\site-packages\\sklearn\\neural_network\\_multilayer_perceptron.py:698: UserWarning: Training interrupted by user.\n",
      "  warnings.warn(\"Training interrupted by user.\")\n"
     ]
    }
   ],
   "source": [
    "#first try\n",
    "clf1 = MLPClassifier(random_state=1, hidden_layer_sizes=(20,20), max_iter=1,verbose=True,tol=0.1,n_iter_no_change=2).fit(X_train, y_train)\n",
    "y_pred = clf1.predict(X_val)\n",
    "print(\"accuracy:\", accuracy_score(y_pred,y_val))\n",
    "print(\"F1:\", f1_score(y_pred,y_val))"
   ]
  },
  {
   "cell_type": "code",
   "execution_count": null,
   "metadata": {},
   "outputs": [],
   "source": [
    "clf2 = MLPClassifier(random_state=1, hidden_layer_sizes=(20,20), max_iter=1,verbose=True,tol=0.1,n_iter_no_change=2, activation=\"tanh\").fit(X_train, y_train)\n",
    "y_pred = clf2.predict(X_val)\n",
    "print(\"accuracy:\", accuracy_score(y_pred,y_val))\n",
    "print(\"F1:\", f1_score(y_pred,y_val))"
   ]
  },
  {
   "cell_type": "code",
   "execution_count": null,
   "metadata": {},
   "outputs": [
    {
     "name": "stdout",
     "output_type": "stream",
     "text": [
      "Iteration 1, loss = 0.26011617\n"
     ]
    },
    {
     "name": "stderr",
     "output_type": "stream",
     "text": [
      "c:\\Users\\astri\\miniconda3\\Lib\\site-packages\\sklearn\\neural_network\\_multilayer_perceptron.py:691: ConvergenceWarning: Stochastic Optimizer: Maximum iterations (1) reached and the optimization hasn't converged yet.\n",
      "  warnings.warn(\n"
     ]
    },
    {
     "name": "stdout",
     "output_type": "stream",
     "text": [
      "accuracy: 0.9504705770510504\n",
      "F1: 0.9482518871672626\n"
     ]
    }
   ],
   "source": [
    "#try with different activation function\n",
    "clf3 = MLPClassifier(random_state=1, hidden_layer_sizes=(20,20), max_iter=1,verbose=True,tol=0.1,n_iter_no_change=2, activation=\"logistic\").fit(X_train, y_train)\n",
    "y_pred = clf3.predict(X_val)\n",
    "print(\"accuracy:\", accuracy_score(y_pred,y_val))\n",
    "print(\"F1:\", f1_score(y_pred,y_val))"
   ]
  },
  {
   "cell_type": "code",
   "execution_count": null,
   "metadata": {},
   "outputs": [
    {
     "name": "stderr",
     "output_type": "stream",
     "text": [
      "c:\\Users\\astri\\miniconda3\\Lib\\site-packages\\sklearn\\neural_network\\_multilayer_perceptron.py:698: UserWarning: Training interrupted by user.\n",
      "  warnings.warn(\"Training interrupted by user.\")\n"
     ]
    },
    {
     "name": "stdout",
     "output_type": "stream",
     "text": [
      "accuracy: 0.947998859207149\n",
      "F1: 0.9461508170899784\n"
     ]
    }
   ],
   "source": [
    "#try with more layers\n",
    "clf4 = MLPClassifier(random_state=1, hidden_layer_sizes=(20,20,20,20,20), max_iter=1,verbose=True,tol=0.1,n_iter_no_change=2,activation=\"tanh\").fit(X_train, y_train)\n",
    "y_pred = clf4.predict(X_val)\n",
    "print(\"accuracy:\", accuracy_score(y_pred,y_val))\n",
    "print(\"F1:\", f1_score(y_pred,y_val))"
   ]
  },
  {
   "cell_type": "code",
   "execution_count": null,
   "metadata": {},
   "outputs": [
    {
     "name": "stdout",
     "output_type": "stream",
     "text": [
      "Iteration 1, loss = 0.16668640\n"
     ]
    },
    {
     "name": "stderr",
     "output_type": "stream",
     "text": [
      "c:\\Users\\astri\\miniconda3\\Lib\\site-packages\\sklearn\\neural_network\\_multilayer_perceptron.py:691: ConvergenceWarning: Stochastic Optimizer: Maximum iterations (1) reached and the optimization hasn't converged yet.\n",
      "  warnings.warn(\n"
     ]
    }
   ],
   "source": [
    "#try with less neurons\n",
    "clf5 = MLPClassifier(random_state=1, hidden_layer_sizes=(10,10), max_iter=1,verbose=True,activation=\"tanh\").fit(X_train, y_train)\n",
    "y_pred = clf5.predict(X_val)\n",
    "print(\"accuracy:\", accuracy_score(y_pred,y_val))\n",
    "print(\"F1:\", f1_score(y_pred,y_val))"
   ]
  },
  {
   "cell_type": "code",
   "execution_count": null,
   "metadata": {},
   "outputs": [
    {
     "name": "stdout",
     "output_type": "stream",
     "text": [
      "accuracy: 0.9589314573628672\n",
      "F1: 0.9572171329537014\n",
      "Precision: 0.959974176888315\n",
      "Recall: 0.954475880116526\n"
     ]
    }
   ],
   "source": [
    "#validation\n",
    "clf = clf5\n",
    "y_pred = clf.predict(X_val)\n",
    "print(\"accuracy:\", accuracy_score(y_pred,y_val))\n",
    "print(\"F1:\", f1_score(y_pred,y_val))\n",
    "precision = precision_score(y_val, y_pred)\n",
    "recall = recall_score(y_val, y_pred)\n",
    "print(\"Precision:\", precision)\n",
    "print(\"Recall:\", recall)"
   ]
  },
  {
   "cell_type": "code",
   "execution_count": null,
   "metadata": {},
   "outputs": [],
   "source": [
    "def evaluate(model, name,test_vec):\n",
    "    print(f\"evaluating {name}\")\n",
    "    y_pred = model.predict(test_vec)\n",
    "    print(\"accuracy:\", accuracy_score(y_pred,y_test))\n",
    "    print(\"F1:\", f1_score(y_pred,y_test))\n",
    "    precision = precision_score(y_test, y_pred)\n",
    "    recall = recall_score(y_test, y_pred)\n",
    "    print(\"Precision:\", precision)\n",
    "    print(\"Recall:\", recall)\n",
    "    cm = confusion_matrix(y_true=y_test,y_pred=y_pred)\n",
    "    fig, ax = plt.subplots(figsize=(3,3))\n",
    "    ax.matshow(cm, cmap=plt.cm.Blues, alpha=0.3)\n",
    "    for i in range(2):\n",
    "        for j in range(2):\n",
    "            ax.text(x=j, y=i,s=cm[i, j], va='center', ha='center', size='medium')\n",
    "    plt.xlabel('Predicted', fontsize=8)\n",
    "    plt.ylabel('Actual', fontsize=8)\n",
    "    plt.title(f'Confusion Matrix, {name}', fontsize=10)\n",
    "    plt.show()"
   ]
  },
  {
   "cell_type": "code",
   "execution_count": null,
   "metadata": {},
   "outputs": [
    {
     "name": "stdout",
     "output_type": "stream",
     "text": [
      "evaluating advanced model\n",
      "accuracy: 0.9584571143379994\n",
      "F1: 0.9565109220281635\n",
      "Precision: 0.9584662943757479\n",
      "Recall: 0.9545635117687953\n"
     ]
    },
    {
     "data": {
      "image/png": "[encoded data removed]",
      "text/plain": [
       "<Figure size 300x300 with 1 Axes>"
      ]
     },
     "metadata": {},
     "output_type": "display_data"
    }
   ],
   "source": [
    "evaluate(clf5, \"advanced model\", X_test)"
   ]
  },
  {
   "cell_type": "code",
   "execution_count": null,
   "metadata": {},
   "outputs": [],
   "source": [
    "liar = pd.read_pickle(\"labeled_liar_statements_preprocessed.pkl\")"
   ]
  },
  {
   "cell_type": "code",
   "execution_count": null,
   "metadata": {},
   "outputs": [
    {
     "name": "stdout",
     "output_type": "stream",
     "text": [
      "0           false\n",
      "1       half-true\n",
      "2     mostly-true\n",
      "3           false\n",
      "4       half-true\n",
      "5            true\n",
      "6     barely-true\n",
      "7       half-true\n",
      "8       half-true\n",
      "9     mostly-true\n",
      "10    mostly-true\n",
      "11      half-true\n",
      "12          false\n",
      "13    mostly-true\n",
      "14    barely-true\n",
      "15      half-true\n",
      "16           true\n",
      "17    barely-true\n",
      "18      half-true\n",
      "19    mostly-true\n",
      "Name: Label, dtype: object\n"
     ]
    }
   ],
   "source": [
    "print(liar[\"Label\"].head(20))"
   ]
  },
  {
   "cell_type": "code",
   "execution_count": null,
   "metadata": {},
   "outputs": [
    {
     "name": "stdout",
     "output_type": "stream",
     "text": [
      "12791\n"
     ]
    }
   ],
   "source": [
    "true = set([\"half-true\",\"mostly-true\",\"barely-true\",\"true\"])\n",
    "false = set([\"false\",\"pants-fire\"])\n",
    "\n",
    "def get_bin_y_liar(x):\n",
    "    if x in true:\n",
    "        return 0\n",
    "    elif x in false:\n",
    "        return 1\n",
    "    \n",
    "liar[\"Label_bin\"] = liar[\"Label\"].apply(lambda x: get_bin_y_liar(x))\n",
    "print(len(liar))"
   ]
  },
  {
   "cell_type": "code",
   "execution_count": null,
   "metadata": {},
   "outputs": [
    {
     "data": {
      "text/plain": [
       "Label_bin\n",
       "0    9237\n",
       "1    3554\n",
       "Name: count, dtype: int64"
      ]
     },
     "execution_count": 49,
     "metadata": {},
     "output_type": "execute_result"
    }
   ],
   "source": [
    "liar[\"Label_bin\"].value_counts()"
   ]
  },
  {
   "cell_type": "code",
   "execution_count": null,
   "metadata": {},
   "outputs": [],
   "source": [
    "y_test_liar = liar[\"Label_bin\"]\n",
    "X_test_liar = liar[\"Statement\"]"
   ]
  },
  {
   "cell_type": "code",
   "execution_count": null,
   "metadata": {},
   "outputs": [
    {
     "name": "stdout",
     "output_type": "stream",
     "text": [
      "0.2778516144163865\n"
     ]
    }
   ],
   "source": [
    "print(len(y_test_liar[y_test_liar==1])/len(y_test_liar))"
   ]
  },
  {
   "cell_type": "code",
   "execution_count": null,
   "metadata": {},
   "outputs": [
    {
     "name": "stdout",
     "output_type": "stream",
     "text": [
      "(42077, 827974)\n"
     ]
    }
   ],
   "source": [
    "X_test_liar = vectorizer.transform(X_test_liar)\n",
    "print(X_test.shape)"
   ]
  },
  {
   "cell_type": "code",
   "execution_count": null,
   "metadata": {},
   "outputs": [
    {
     "name": "stdout",
     "output_type": "stream",
     "text": [
      "evaluating advanced model\n",
      "accuracy: 0.39074349151747323\n",
      "F1: 0.4222699977759656\n",
      "Precision: 0.2866633115249119\n",
      "Recall: 0.8013505908835116\n"
     ]
    },
    {
     "data": {
      "image/png": "[encoded data removed]",
      "text/plain": [
       "<Figure size 300x300 with 1 Axes>"
      ]
     },
     "metadata": {},
     "output_type": "display_data"
    }
   ],
   "source": [
    "def evaluate(model, name,test_vec,y_test):\n",
    "    print(f\"evaluating {name}\")\n",
    "    y_pred = model.predict(test_vec)\n",
    "    print(\"accuracy:\", accuracy_score(y_pred,y_test))\n",
    "    print(\"F1:\", f1_score(y_pred,y_test))\n",
    "    precision = precision_score(y_test, y_pred)\n",
    "    recall = recall_score(y_test, y_pred)\n",
    "    print(\"Precision:\", precision)\n",
    "    print(\"Recall:\", recall)\n",
    "    cm = confusion_matrix(y_true=y_test,y_pred=y_pred)\n",
    "    fig, ax = plt.subplots(figsize=(3,3))\n",
    "    ax.matshow(cm, cmap=plt.cm.Blues, alpha=0.3)\n",
    "    for i in range(2):\n",
    "        for j in range(2):\n",
    "            ax.text(x=j, y=i,s=cm[i, j], va='center', ha='center', size='medium')\n",
    "    plt.xlabel('Predicted', fontsize=8)\n",
    "    plt.ylabel('Actual', fontsize=8)\n",
    "    plt.title(f'Confusion Matrix, {name}, LIAR-test', fontsize=10)\n",
    "    plt.show()\n",
    "\n",
    "evaluate(clf5, \"advanced model\", X_test_liar,y_test_liar)"
   ]
  }
 ],
 "metadata": {
  "kernelspec": {
   "display_name": "base",
   "language": "python",
   "name": "python3"
  },
  "language_info": {
   "codemirror_mode": {
    "name": "ipython",
    "version": 3
   },
   "file_extension": ".py",
   "mimetype": "text/x-python",
   "name": "python",
   "nbconvert_exporter": "python",
   "pygments_lexer": "ipython3",
   "version": "3.12.1"
  }
 },
 "nbformat": 4,
 "nbformat_minor": 2
}
