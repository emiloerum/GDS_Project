{
 "cells": [
  {
   "cell_type": "code",
   "execution_count": 1,
   "metadata": {},
   "outputs": [],
   "source": [
    "import pandas as pd\n",
    "import numpy as np\n",
    "from sklearn.model_selection import train_test_split\n",
    "from sklearn.linear_model import LogisticRegression\n",
    "from sklearn.metrics import accuracy_score\n",
    "from sklearn.model_selection import GridSearchCV\n",
    "\n",
    "pd.set_option('display.max_rows', None)\n",
    "pd.set_option('display.max_colwidth', 150)"
   ]
  },
  {
   "cell_type": "code",
   "execution_count": 2,
   "metadata": {},
   "outputs": [],
   "source": [
    "fakenews = set(['fake', 'conspiracy'])\n",
    "relevant = ['reliable', 'fake']\n",
    "\n",
    "def label_news(field):\n",
    "    '''function for labeling news articles as either fake, reliable or unknown'''\n",
    "    if field in fakenews:\n",
    "        return 'fake'\n",
    "    elif field == 'reliable':\n",
    "        return 'reliable'\n",
    "    else:\n",
    "        return 'unknown'\n",
    "    \n",
    "def bin_target(x):\n",
    "    '''returns 0 for reliable content and 1 for fake'''\n",
    "    if x==\"reliable\":\n",
    "        return 0\n",
    "    if x==\"fake\":\n",
    "        return 1"
   ]
  },
  {
   "cell_type": "code",
   "execution_count": 3,
   "metadata": {},
   "outputs": [
    {
     "name": "stdout",
     "output_type": "stream",
     "text": [
      "type\n",
      "reliable                      218564\n",
      "political                     194518\n",
      "bias                          133232\n",
      "fake                          104883\n",
      "conspiracy                     97314\n",
      "rumor                          56445\n",
      "unknown                        43534\n",
      "unreliable                     35332\n",
      "clickbait                      27412\n",
      "junksci                        14040\n",
      "satire                         13160\n",
      "hate                            8779\n",
      "2018-02-10 13:43:39.521661         1\n",
      "Name: count, dtype: int64\n"
     ]
    }
   ],
   "source": [
    "#Reading in preprocessed data\n",
    "big_dataset_preprocessed = pd.read_pickle('data/995,000_rows_preprocessed.pkl')\n",
    "labeled_content = pd.DataFrame(big_dataset_preprocessed[['content', 'type']])\n",
    "\n",
    "print(labeled_content['type'].value_counts())"
   ]
  },
  {
   "cell_type": "code",
   "execution_count": 4,
   "metadata": {},
   "outputs": [
    {
     "name": "stdout",
     "output_type": "stream",
     "text": [
      "type\n",
      "unknown     574239\n",
      "reliable    218564\n",
      "fake        202197\n",
      "Name: count, dtype: int64\n",
      "type\n",
      "reliable    218564\n",
      "fake        202197\n",
      "unknown          0\n",
      "Name: count, dtype: int64\n",
      "420761\n"
     ]
    }
   ],
   "source": [
    "#Preparing the content without the extra scraped data\n",
    "\n",
    "labeled_content['type'] = labeled_content['type'].apply(lambda x: label_news(x)).astype('category')\n",
    "\n",
    "print(labeled_content['type'].value_counts())\n",
    "labeled_content = labeled_content[labeled_content[\"type\"].isin(relevant)]\n",
    "print(labeled_content['type'].value_counts())\n",
    "\n",
    "print(len(labeled_content))\n",
    "\n"
   ]
  },
  {
   "cell_type": "code",
   "execution_count": 5,
   "metadata": {},
   "outputs": [
    {
     "data": {
      "text/plain": [
       "420761"
      ]
     },
     "execution_count": 5,
     "metadata": {},
     "output_type": "execute_result"
    }
   ],
   "source": [
    "X = labeled_content['content']\n",
    "y = labeled_content['type'].apply(lambda x: bin_target(x))\n",
    "\n",
    "len(X)"
   ]
  },
  {
   "cell_type": "code",
   "execution_count": 6,
   "metadata": {},
   "outputs": [],
   "source": [
    "#Split data into 80% training and 20% test\n",
    "X_train, X_test, y_train, y_test = train_test_split(X, y, test_size=0.2, random_state=42)\n",
    "\n",
    "#Split the newly created test data equally into validation and test data (10% each of the total dataset)\n",
    "X_val, X_test, y_val, y_test = train_test_split(X_test, y_test, test_size=0.5, random_state=42)"
   ]
  },
  {
   "cell_type": "code",
   "execution_count": 7,
   "metadata": {},
   "outputs": [
    {
     "name": "stdout",
     "output_type": "stream",
     "text": [
      "0.6007225021389866\n"
     ]
    }
   ],
   "source": [
    "#baseline: logistic regression where x is length of article\n",
    "X_len_train = pd.DataFrame(X_train.apply(lambda x: len(x))) #get feature with length of article\n",
    "X_len_val = pd.DataFrame(X_val.apply(lambda x: len(x))) #get X for validation\n",
    "\n",
    "model = LogisticRegression()\n",
    "reg = model.fit(X_len_train, y_train)\n",
    "\n",
    "y_pred = model.predict(X_len_val)\n",
    "acc = accuracy_score(y_pred,y_val)\n",
    "\n",
    "print(acc)"
   ]
  },
  {
   "cell_type": "code",
   "execution_count": 8,
   "metadata": {},
   "outputs": [],
   "source": [
    "#Reading in extra scraped preprocessed data\n",
    "scraped_data_preprocessed = pd.read_pickle('data/scraped_data_preprocessed.pkl')\n",
    "scraped_data_content = pd.DataFrame(scraped_data_preprocessed)"
   ]
  },
  {
   "cell_type": "code",
   "execution_count": 9,
   "metadata": {},
   "outputs": [],
   "source": [
    "#adding column with default value 'reliable'\n",
    "scraped_data_content['type'] = 'reliable'\n",
    "#Renaming 'text' column to 'content'\n",
    "scraped_data_content.rename(columns={'text' : 'content'}, inplace=True)"
   ]
  },
  {
   "cell_type": "code",
   "execution_count": 10,
   "metadata": {},
   "outputs": [
    {
     "data": {
      "text/plain": [
       "425210"
      ]
     },
     "execution_count": 10,
     "metadata": {},
     "output_type": "execute_result"
    }
   ],
   "source": [
    "#Concatenating the labeled content and the extra scraped and labeled content\n",
    "labeled_content_extended = pd.concat([labeled_content, scraped_data_content])\n",
    "\n",
    "len(labeled_content_extended)"
   ]
  },
  {
   "cell_type": "code",
   "execution_count": 11,
   "metadata": {},
   "outputs": [
    {
     "name": "stdout",
     "output_type": "stream",
     "text": [
      "type\n",
      "reliable    223013\n",
      "fake        202197\n",
      "Name: count, dtype: int64\n"
     ]
    },
    {
     "data": {
      "text/html": [
       "<div>\n",
       "<style scoped>\n",
       "    .dataframe tbody tr th:only-of-type {\n",
       "        vertical-align: middle;\n",
       "    }\n",
       "\n",
       "    .dataframe tbody tr th {\n",
       "        vertical-align: top;\n",
       "    }\n",
       "\n",
       "    .dataframe thead th {\n",
       "        text-align: right;\n",
       "    }\n",
       "</style>\n",
       "<table border=\"1\" class=\"dataframe\">\n",
       "  <thead>\n",
       "    <tr style=\"text-align: right;\">\n",
       "      <th></th>\n",
       "      <th>content</th>\n",
       "      <th>type</th>\n",
       "    </tr>\n",
       "  </thead>\n",
       "  <tbody>\n",
       "    <tr>\n",
       "      <th>1</th>\n",
       "      <td>[cost, senat, bank, committe, jp, morgan, buy, cur000000, bribe, news, hedg, hour, time, jami, dimon, sit, senat, bank, committe, prove, smarter, ...</td>\n",
       "      <td>fake</td>\n",
       "    </tr>\n",
       "    <tr>\n",
       "      <th>3</th>\n",
       "      <td>[julia, geist, ask, draw, pictur, comput, scientist, year, numberyearold, sketch, businessman, wear, glass, tie, classmat, draw, similar, depict, ...</td>\n",
       "      <td>reliable</td>\n",
       "    </tr>\n",
       "    <tr>\n",
       "      <th>4</th>\n",
       "      <td>[number, compil, studi, vaccin, danger, activist, post, sep, number, number, shortag, research, negat, effect, wide, varieti, vaccin, gardasil, se...</td>\n",
       "      <td>fake</td>\n",
       "    </tr>\n",
       "    <tr>\n",
       "      <th>5</th>\n",
       "      <td>[spend, major, wake, hour, stare, content, comput, smartphon, will, ignor, ocular, havoc, blue, light, electron, devic, eyestrain, dryness, irrita...</td>\n",
       "      <td>reliable</td>\n",
       "    </tr>\n",
       "    <tr>\n",
       "      <th>11</th>\n",
       "      <td>[republican, privat, medicar, make, day, sen, chuck, schumer, getti, schumer, accus, gop, war, senior, share, facebook, share, twitter, futur, sen...</td>\n",
       "      <td>reliable</td>\n",
       "    </tr>\n",
       "  </tbody>\n",
       "</table>\n",
       "</div>"
      ],
      "text/plain": [
       "                                                                                                                                                  content  \\\n",
       "1   [cost, senat, bank, committe, jp, morgan, buy, cur000000, bribe, news, hedg, hour, time, jami, dimon, sit, senat, bank, committe, prove, smarter, ...   \n",
       "3   [julia, geist, ask, draw, pictur, comput, scientist, year, numberyearold, sketch, businessman, wear, glass, tie, classmat, draw, similar, depict, ...   \n",
       "4   [number, compil, studi, vaccin, danger, activist, post, sep, number, number, shortag, research, negat, effect, wide, varieti, vaccin, gardasil, se...   \n",
       "5   [spend, major, wake, hour, stare, content, comput, smartphon, will, ignor, ocular, havoc, blue, light, electron, devic, eyestrain, dryness, irrita...   \n",
       "11  [republican, privat, medicar, make, day, sen, chuck, schumer, getti, schumer, accus, gop, war, senior, share, facebook, share, twitter, futur, sen...   \n",
       "\n",
       "        type  \n",
       "1       fake  \n",
       "3   reliable  \n",
       "4       fake  \n",
       "5   reliable  \n",
       "11  reliable  "
      ]
     },
     "execution_count": 11,
     "metadata": {},
     "output_type": "execute_result"
    }
   ],
   "source": [
    "#Labeling news as either fake or reliable\n",
    "labeled_content_extended['type'] = labeled_content_extended['type'].apply(lambda x: label_news(x)).astype('category')\n",
    "\n",
    "print(labeled_content_extended['type'].value_counts())\n",
    "\n",
    "labeled_content_extended.head()"
   ]
  },
  {
   "cell_type": "code",
   "execution_count": 12,
   "metadata": {},
   "outputs": [],
   "source": [
    "labeled_content_extended.to_pickle('labeled_content_extended.pkl')"
   ]
  },
  {
   "cell_type": "code",
   "execution_count": 13,
   "metadata": {},
   "outputs": [],
   "source": [
    "#Prepraring the content with extra scraped data\n",
    "X = labeled_content_extended['content']\n",
    "y = labeled_content_extended['type'].apply(lambda x: bin_target(x))"
   ]
  },
  {
   "cell_type": "code",
   "execution_count": 14,
   "metadata": {},
   "outputs": [],
   "source": [
    "#Split data into 80% training and 20% test\n",
    "X_train, X_test, y_train, y_test = train_test_split(X, y, test_size=0.2, random_state=42)\n",
    "\n",
    "#Split the newly created test data equally into validation and test data (10% each of the total dataset)\n",
    "X_val, X_test, y_val, y_test = train_test_split(X_test, y_test, test_size=0.5, random_state=42)"
   ]
  },
  {
   "cell_type": "code",
   "execution_count": 15,
   "metadata": {},
   "outputs": [
    {
     "name": "stdout",
     "output_type": "stream",
     "text": [
      "0.6107100021166012\n"
     ]
    }
   ],
   "source": [
    "#baseline: logistic regression where x is length of article\n",
    "X_len_train = pd.DataFrame(X_train.apply(lambda x: len(x))) #get feature with length of article\n",
    "X_len_val = pd.DataFrame(X_val.apply(lambda x: len(x))) #get X for validation\n",
    "\n",
    "model = LogisticRegression()\n",
    "reg = model.fit(X_len_train, y_train)\n",
    "\n",
    "y_pred = model.predict(X_len_val)\n",
    "acc = accuracy_score(y_pred,y_val)\n",
    "\n",
    "print(acc)"
   ]
  }
 ],
 "metadata": {
  "kernelspec": {
   "display_name": "ds_venv",
   "language": "python",
   "name": "python3"
  },
  "language_info": {
   "codemirror_mode": {
    "name": "ipython",
    "version": 3
   },
   "file_extension": ".py",
   "mimetype": "text/x-python",
   "name": "python",
   "nbconvert_exporter": "python",
   "pygments_lexer": "ipython3",
   "version": "3.12.1"
  }
 },
 "nbformat": 4,
 "nbformat_minor": 2
}
