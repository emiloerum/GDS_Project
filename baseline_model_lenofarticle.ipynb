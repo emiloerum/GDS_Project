{
 "cells": [
  {
   "cell_type": "code",
   "execution_count": 1,
   "metadata": {},
   "outputs": [],
   "source": [
    "import pandas as pd\n",
    "import numpy as np\n",
    "from sklearn.model_selection import train_test_split\n",
    "from sklearn.linear_model import LogisticRegression\n",
    "from sklearn.metrics import accuracy_score\n",
    "import functions as funs\n",
    "\n",
    "pd.set_option('display.max_rows', None)\n",
    "pd.set_option('display.max_colwidth', 150)"
   ]
  },
  {
   "cell_type": "code",
   "execution_count": 2,
   "metadata": {},
   "outputs": [],
   "source": [
    "fakenews = set(['fake', 'conspiracy'])\n",
    "relevant = ['reliable', 'fake']"
   ]
  },
  {
   "cell_type": "code",
   "execution_count": 3,
   "metadata": {},
   "outputs": [],
   "source": [
    "#Reading in labeled content\n",
    "labeled_content = pd.read_pickle('data/labeled_content.pkl')\n",
    "labeled_content = pd.DataFrame(labeled_content)"
   ]
  },
  {
   "cell_type": "code",
   "execution_count": 5,
   "metadata": {},
   "outputs": [],
   "source": [
    "#Preparing the content without the extra scraped data\n",
    "labeled_content['type'] = labeled_content['type'].apply(lambda x: funs.label_news(x, fakenews)).astype('category')\n",
    "\n",
    "labeled_content = labeled_content[labeled_content[\"type\"].isin(relevant)]"
   ]
  },
  {
   "cell_type": "code",
   "execution_count": 6,
   "metadata": {},
   "outputs": [],
   "source": [
    "#Splitting into feature and target\n",
    "X = labeled_content['content']\n",
    "y = labeled_content['type'].apply(lambda x: funs.bin_target(x))"
   ]
  },
  {
   "cell_type": "code",
   "execution_count": 7,
   "metadata": {},
   "outputs": [],
   "source": [
    "#Split data into 80% training, 10% validation and 10% test\n",
    "X_train, X_test, y_train, y_test = train_test_split(X, y, test_size=0.2, random_state=0, shuffle=True)\n",
    "X_val, X_test, y_val, y_test = train_test_split(X_test, y_test, test_size=0.5, random_state=0, shuffle=True)"
   ]
  },
  {
   "cell_type": "code",
   "execution_count": 11,
   "metadata": {},
   "outputs": [
    {
     "name": "stdout",
     "output_type": "stream",
     "text": [
      "0.5976328548341097\n"
     ]
    }
   ],
   "source": [
    "#baseline: logistic regression where x is length of article\n",
    "X_len_train = pd.DataFrame(X_train.apply(lambda x: len(x))) #get feature with length of article\n",
    "X_len_val = pd.DataFrame(X_val.apply(lambda x: len(x))) #get X for validation\n",
    "\n",
    "#No need for penalty since there is no risk of overfitting to one feature when there only is one\n",
    "model = LogisticRegression(penalty=None)\n",
    "reg = model.fit(X_len_train, y_train)\n",
    "\n",
    "y_pred = model.predict(X_len_val)\n",
    "acc = accuracy_score(y_pred,y_val)\n",
    "\n",
    "print(acc)"
   ]
  },
  {
   "cell_type": "code",
   "execution_count": 12,
   "metadata": {},
   "outputs": [],
   "source": [
    "#Reading in extra scraped preprocessed data\n",
    "scraped_data_preprocessed = pd.read_pickle('data/scraped_data_preprocessed.pkl')\n",
    "scraped_data_content = pd.DataFrame(scraped_data_preprocessed)"
   ]
  },
  {
   "cell_type": "code",
   "execution_count": 13,
   "metadata": {},
   "outputs": [],
   "source": [
    "#adding column with default value 'reliable'\n",
    "scraped_data_content['type'] = 'reliable'\n",
    "#Renaming 'text' column to 'content'\n",
    "scraped_data_content.rename(columns={'text' : 'content'}, inplace=True)"
   ]
  },
  {
   "cell_type": "code",
   "execution_count": 15,
   "metadata": {},
   "outputs": [],
   "source": [
    "#Concatenating the labeled content and the extra scraped and labeled content\n",
    "labeled_content_extended = pd.concat([labeled_content, scraped_data_content])"
   ]
  },
  {
   "cell_type": "code",
   "execution_count": 16,
   "metadata": {},
   "outputs": [],
   "source": [
    "#Re-labeling articles as either \"fake\" or \"reliable\"\n",
    "labeled_content_extended['type'] = labeled_content_extended['type'].apply(lambda x: funs.label_news(x, fakenews)).astype('category')"
   ]
  },
  {
   "cell_type": "code",
   "execution_count": 17,
   "metadata": {},
   "outputs": [],
   "source": [
    "#Prepraring the content with extra scraped data\n",
    "X = labeled_content_extended['content'] # feature\n",
    "y = labeled_content_extended['type'].apply(lambda x: funs.bin_target(x)) #target"
   ]
  },
  {
   "cell_type": "code",
   "execution_count": 18,
   "metadata": {},
   "outputs": [],
   "source": [
    "#Split data into 80% training, 10% validation and 10% test\n",
    "X_train, X_test, y_train, y_test = train_test_split(X, y, test_size=0.2, random_state=0, shuffle=True)\n",
    "X_val, X_test, y_val, y_test = train_test_split(X_test, y_test, test_size=0.5, random_state=0, shuffle=True)"
   ]
  },
  {
   "cell_type": "code",
   "execution_count": 19,
   "metadata": {},
   "outputs": [
    {
     "name": "stdout",
     "output_type": "stream",
     "text": [
      "0.608734507655041\n"
     ]
    }
   ],
   "source": [
    "#baseline: logistic regression where x is length of article\n",
    "X_len_train = pd.DataFrame(X_train.apply(lambda x: len(x))) #get feature with length of article\n",
    "X_len_val = pd.DataFrame(X_val.apply(lambda x: len(x))) #get X for validation\n",
    "\n",
    "#Again no need for penalty since there is no risk of overfitting to one feature when there only is one\n",
    "model = LogisticRegression(penalty=None)\n",
    "reg = model.fit(X_len_train, y_train)\n",
    "\n",
    "y_pred = model.predict(X_len_val)\n",
    "acc = accuracy_score(y_pred,y_val)\n",
    "\n",
    "print(acc)"
   ]
  }
 ],
 "metadata": {
  "kernelspec": {
   "display_name": "ds_venv",
   "language": "python",
   "name": "python3"
  },
  "language_info": {
   "codemirror_mode": {
    "name": "ipython",
    "version": 3
   },
   "file_extension": ".py",
   "mimetype": "text/x-python",
   "name": "python",
   "nbconvert_exporter": "python",
   "pygments_lexer": "ipython3",
   "version": "3.12.1"
  }
 },
 "nbformat": 4,
 "nbformat_minor": 2
}
