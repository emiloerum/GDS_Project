{
 "cells": [
  {
   "cell_type": "code",
   "execution_count": 25,
   "metadata": {},
   "outputs": [],
   "source": [
    "import pandas as pd\n",
    "import numpy as np\n",
    "from sklearn.model_selection import train_test_split\n",
    "from sklearn.linear_model import LogisticRegression\n",
    "from sklearn.metrics import accuracy_score, f1_score, recall_score, precision_score, confusion_matrix\n",
    "import matplotlib.pyplot as plt\n",
    "import functions as funs\n",
    "\n",
    "pd.set_option('display.max_rows', None)\n",
    "pd.set_option('display.max_colwidth', 150)"
   ]
  },
  {
   "cell_type": "code",
   "execution_count": 26,
   "metadata": {},
   "outputs": [],
   "source": [
    "#Reading in labeled content\n",
    "labeled_content = pd.read_pickle('data/labeled_content_new.pkl')\n",
    "labeled_content = pd.DataFrame(labeled_content)"
   ]
  },
  {
   "cell_type": "code",
   "execution_count": 27,
   "metadata": {},
   "outputs": [],
   "source": [
    "#Transforming the content\n",
    "X = pd.DataFrame(labeled_content['content'].apply(lambda x: len(x))) #feature\n",
    "y = labeled_content['type'].apply(lambda x: funs.bin_target(x)) #target"
   ]
  },
  {
   "cell_type": "code",
   "execution_count": 28,
   "metadata": {},
   "outputs": [],
   "source": [
    "#Split data into 80% training, 10% validation and 10% test\n",
    "X_train, X_test, y_train, y_test = train_test_split(X, y, test_size=0.2, random_state=0, shuffle=True)\n",
    "X_val, X_test, y_val, y_test = train_test_split(X_test, y_test, test_size=0.5, random_state=0, shuffle=True)"
   ]
  },
  {
   "cell_type": "code",
   "execution_count": 36,
   "metadata": {},
   "outputs": [
    {
     "name": "stdout",
     "output_type": "stream",
     "text": [
      "0.5976328548341097\n"
     ]
    }
   ],
   "source": [
    "#baseline_len: logistic regression where x is length of article\n",
    "baseline_len = LogisticRegression()\n",
    "baseline_len.fit(X_train, y_train)\n",
    "\n",
    "y_pred = baseline_len.predict(X_val)\n",
    "acc = accuracy_score(y_pred,y_val)\n",
    "\n",
    "print(acc)\n"
   ]
  },
  {
   "cell_type": "code",
   "execution_count": 30,
   "metadata": {},
   "outputs": [
    {
     "name": "stdout",
     "output_type": "stream",
     "text": [
      "evaluating Baseline with length feature\n",
      "accuracy: 0.6009221189723601\n",
      "f1: 0.539667744942157\n",
      "Precision: 0.6023867809057527\n",
      "Recall: 0.4887774356937134\n"
     ]
    },
    {
     "data": {
      "image/png": "[encoded data removed]",
      "text/plain": [
       "<Figure size 300x300 with 1 Axes>"
      ]
     },
     "metadata": {},
     "output_type": "display_data"
    }
   ],
   "source": [
    "funs.evaluate_and_plot(baseline_len, 'Baseline with length feature', X_test, y_test)"
   ]
  },
  {
   "cell_type": "code",
   "execution_count": 58,
   "metadata": {},
   "outputs": [],
   "source": [
    "#Reading in LIAR\n",
    "liar = pd.read_pickle('data/labeled_liar_statements_preprocessed.pkl')\n",
    "liar = pd.DataFrame(liar)\n",
    "\n",
    "#Renaming for consistency with training data column names\n",
    "liar = liar.rename(columns={\"Label\": \"type\", \"Statement\": \"content\"})"
   ]
  },
  {
   "cell_type": "code",
   "execution_count": 59,
   "metadata": {},
   "outputs": [
    {
     "data": {
      "text/plain": [
       "type\n",
       "0    9237\n",
       "1    3554\n",
       "Name: count, dtype: int64"
      ]
     },
     "execution_count": 59,
     "metadata": {},
     "output_type": "execute_result"
    }
   ],
   "source": [
    "true = set([\"half-true\", \"mostly-true\", \"barely-true\", \"true\"])\n",
    "false = set([\"false\", \"pants-fire\"])\n",
    "\n",
    "def get_bin_y_liar(x):\n",
    "    if x in true:\n",
    "        return 0\n",
    "    if x in false:\n",
    "        return 1\n",
    "\n",
    "#Transforming true ('reliable' labels) into 0 and false ('fake' labels) into 1\n",
    "liar[\"type\"] = liar[\"type\"].apply(lambda x: get_bin_y_liar(x))\n",
    "liar['type'].value_counts()"
   ]
  },
  {
   "cell_type": "code",
   "execution_count": 52,
   "metadata": {},
   "outputs": [],
   "source": [
    "X_test = pd.DataFrame(liar[\"content\"].apply(lambda x: len(x))) #Feature\n",
    "y_test = liar[\"type\"] #target"
   ]
  },
  {
   "cell_type": "code",
   "execution_count": 53,
   "metadata": {},
   "outputs": [
    {
     "name": "stdout",
     "output_type": "stream",
     "text": [
      "evaluating Baseline_len, LIAR-test\n",
      "accuracy: 0.27808615432726136\n",
      "f1: 0.43488372093023253\n",
      "Precision: 0.277882058501486\n",
      "Recall: 0.9997186268992684\n"
     ]
    },
    {
     "data": {
      "image/png": "[encoded data removed]",
      "text/plain": [
       "<Figure size 300x300 with 1 Axes>"
      ]
     },
     "metadata": {},
     "output_type": "display_data"
    }
   ],
   "source": [
    "funs.evaluate_and_plot(baseline_len, 'Baseline_len, LIAR-test', X_test, y_test)"
   ]
  },
  {
   "cell_type": "code",
   "execution_count": null,
   "metadata": {},
   "outputs": [],
   "source": [
    "y_pred = baseline_len.predict(X_test)\n",
    "liar_acc = accuracy_score(y_pred,y_val)\n",
    "\n",
    "print(acc)"
   ]
  },
  {
   "cell_type": "code",
   "execution_count": null,
   "metadata": {},
   "outputs": [],
   "source": [
    "labeled_content_extd = pd.read_pickle('data/labeled_content_extended_new.pkl')\n",
    "labeled_content_extd = pd.DataFrame(labeled_content_extd)"
   ]
  },
  {
   "cell_type": "code",
   "execution_count": null,
   "metadata": {},
   "outputs": [],
   "source": [
    "#Tranforming the content with extra scraped data\n",
    "X = pd.DataFrame(labeled_content_extd['content'].apply(lambda x: len(x))) # feature\n",
    "y = labeled_content_extd['type'].apply(lambda x: funs.bin_target(x)) #target"
   ]
  },
  {
   "cell_type": "code",
   "execution_count": null,
   "metadata": {},
   "outputs": [],
   "source": [
    "#Split data into 80% training, 10% validation and 10% test\n",
    "X_train_extd, X_test_extd, y_train_extd, y_test_extd = train_test_split(X, y, test_size=0.2, random_state=0, shuffle=True)\n",
    "X_val_extd, X_test_extd, y_val_extd, y_test_extd = train_test_split(X_test_extd, y_test_extd, test_size=0.5, random_state=0, shuffle=True)"
   ]
  },
  {
   "cell_type": "code",
   "execution_count": null,
   "metadata": {},
   "outputs": [
    {
     "name": "stdout",
     "output_type": "stream",
     "text": [
      "0.608734507655041\n"
     ]
    }
   ],
   "source": [
    "#baseline_len_extended: logistic regression where feature is length of article\n",
    "baseline_len_extended = LogisticRegression()\n",
    "baseline_len_extended.fit(X_train_extd, y_train_extd)\n",
    "\n",
    "y_pred_extended = baseline_len_extended.predict(X_val_extd)\n",
    "acc_extended = accuracy_score(y_val_extd, y_pred_extended)\n",
    "\n",
    "print(acc_extended)"
   ]
  }
 ],
 "metadata": {
  "kernelspec": {
   "display_name": "ds_venv",
   "language": "python",
   "name": "python3"
  },
  "language_info": {
   "codemirror_mode": {
    "name": "ipython",
    "version": 3
   },
   "file_extension": ".py",
   "mimetype": "text/x-python",
   "name": "python",
   "nbconvert_exporter": "python",
   "pygments_lexer": "ipython3",
   "version": "3.12.1"
  }
 },
 "nbformat": 4,
 "nbformat_minor": 2
}
