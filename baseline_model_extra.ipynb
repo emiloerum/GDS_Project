{
 "cells": [
  {
   "cell_type": "code",
   "execution_count": 41,
   "metadata": {},
   "outputs": [],
   "source": [
    "import pandas as pd\n",
    "import numpy as np\n",
    "from sklearn.model_selection import train_test_split\n",
    "from sklearn.linear_model import LogisticRegression\n",
    "from sklearn.metrics import accuracy_score\n",
    "from sklearn.model_selection import GridSearchCV\n",
    "\n",
    "pd.set_option('display.max_rows', None)\n",
    "pd.set_option('display.max_colwidth', 150)"
   ]
  },
  {
   "cell_type": "code",
   "execution_count": 42,
   "metadata": {},
   "outputs": [],
   "source": [
    "fakenews = set(['fake', 'conspiracy'])\n",
    "relevant = ['reliable', 'fake']\n",
    "\n",
    "def label_news(field):\n",
    "    '''function for labeling news articles as either fake, reliable or unknown'''\n",
    "    if field in fakenews:\n",
    "        return 'fake'\n",
    "    elif field == 'reliable':\n",
    "        return 'reliable'\n",
    "    else:\n",
    "        return 'unknown'\n",
    "    \n",
    "def bin_target(x):\n",
    "    if x==\"reliable\":\n",
    "        return 0\n",
    "    if x==\"fake\":\n",
    "        return 1"
   ]
  },
  {
   "cell_type": "code",
   "execution_count": 43,
   "metadata": {},
   "outputs": [
    {
     "data": {
      "text/plain": [
       "995000"
      ]
     },
     "execution_count": 43,
     "metadata": {},
     "output_type": "execute_result"
    }
   ],
   "source": [
    "#Reading in preprocessed data\n",
    "big_dataset_preprocessed = pd.read_pickle('995,000_rows_preprocessed.pkl')\n",
    "labeled_content = pd.DataFrame(big_dataset_preprocessed[['content', 'type']])\n",
    "\n",
    "len(labeled_content)"
   ]
  },
  {
   "cell_type": "code",
   "execution_count": 52,
   "metadata": {},
   "outputs": [
    {
     "data": {
      "text/plain": [
       "420761"
      ]
     },
     "execution_count": 52,
     "metadata": {},
     "output_type": "execute_result"
    }
   ],
   "source": [
    "#Preparing the content without the extra scraped data\n",
    "\n",
    "labeled_content['type'] = labeled_content['type'].apply(lambda x: label_news(x)).astype('category')\n",
    "labeled_content = labeled_content[labeled_content[\"type\"].isin(relevant)]\n",
    "\n",
    "X = labeled_content['content']\n",
    "y = labeled_content['type'].apply(lambda x: bin_target(x))\n",
    "\n",
    "len(X)"
   ]
  },
  {
   "cell_type": "code",
   "execution_count": 53,
   "metadata": {},
   "outputs": [],
   "source": [
    "#Split data into 80% training and 20% test\n",
    "X_train, X_test, y_train, y_test = train_test_split(X, y, test_size=0.2, random_state=42)\n",
    "\n",
    "#Split the newly created test data equally into validation and test data (10% each of the total dataset)\n",
    "X_val, X_test, y_val, y_test = train_test_split(X_test, y_test, test_size=0.5, random_state=42)"
   ]
  },
  {
   "cell_type": "code",
   "execution_count": 54,
   "metadata": {},
   "outputs": [
    {
     "name": "stdout",
     "output_type": "stream",
     "text": [
      "0.6007225021389866\n"
     ]
    }
   ],
   "source": [
    "#baseline: logistic regression where x is length of article\n",
    "X_len_train = pd.DataFrame(X_train.apply(lambda x: len(x))) #get feature with length of article\n",
    "X_len_val = pd.DataFrame(X_val.apply(lambda x: len(x))) #get X for validation\n",
    "\n",
    "model = LogisticRegression()\n",
    "reg = model.fit(X_len_train, y_train)\n",
    "\n",
    "y_pred = model.predict(X_len_val)\n",
    "acc = accuracy_score(y_pred,y_val)\n",
    "\n",
    "print(acc)"
   ]
  },
  {
   "cell_type": "code",
   "execution_count": 55,
   "metadata": {},
   "outputs": [],
   "source": [
    "#Reading in extra scraped preprocessed data\n",
    "scraped_data_preprocessed = pd.read_pickle('scraped_data_preprocessed.pkl')\n",
    "scraped_data_content = pd.DataFrame(scraped_data_preprocessed)"
   ]
  },
  {
   "cell_type": "code",
   "execution_count": 56,
   "metadata": {},
   "outputs": [],
   "source": [
    "#adding column with default value 'reliable'\n",
    "scraped_data_content['type'] = 'reliable'\n",
    "#Renaming 'text' column to 'content'\n",
    "scraped_data_content.rename(columns={'text' : 'content'}, inplace=True)"
   ]
  },
  {
   "cell_type": "code",
   "execution_count": 57,
   "metadata": {},
   "outputs": [
    {
     "data": {
      "text/plain": [
       "425210"
      ]
     },
     "execution_count": 57,
     "metadata": {},
     "output_type": "execute_result"
    }
   ],
   "source": [
    "#Concatenating the labeled content and the extra scraped and labeled content\n",
    "labeled_content_extended = pd.concat([labeled_content, scraped_data_content])\n",
    "\n",
    "len(labeled_content_extended)"
   ]
  },
  {
   "cell_type": "code",
   "execution_count": null,
   "metadata": {},
   "outputs": [
    {
     "data": {
      "text/plain": [
       "type\n",
       "reliable    223013\n",
       "fake        202197\n",
       "Name: count, dtype: int64"
      ]
     },
     "execution_count": 33,
     "metadata": {},
     "output_type": "execute_result"
    }
   ],
   "source": [
    "#Labeling news as either fake or reliable\n",
    "labeled_content_extended['type'] = labeled_content_extended['type'].apply(lambda x: label_news(x)).astype('category')\n",
    "\n",
    "labeled_content_extended['type'].value_counts()"
   ]
  },
  {
   "cell_type": "code",
   "execution_count": 58,
   "metadata": {},
   "outputs": [],
   "source": [
    "#Prepraring the content with extra scraped data\n",
    "X = labeled_content_extended['content']\n",
    "y = labeled_content_extended['type'].apply(lambda x: bin_target(x))"
   ]
  },
  {
   "cell_type": "code",
   "execution_count": 59,
   "metadata": {},
   "outputs": [],
   "source": [
    "#Split data into 80% training and 20% test\n",
    "X_train, X_test, y_train, y_test = train_test_split(X, y, test_size=0.2, random_state=42)\n",
    "\n",
    "#Split the newly created test data equally into validation and test data (10% each of the total dataset)\n",
    "X_val, X_test, y_val, y_test = train_test_split(X_test, y_test, test_size=0.5, random_state=42)"
   ]
  },
  {
   "cell_type": "code",
   "execution_count": 60,
   "metadata": {},
   "outputs": [
    {
     "name": "stdout",
     "output_type": "stream",
     "text": [
      "0.6107100021166012\n"
     ]
    }
   ],
   "source": [
    "#baseline: logistic regression where x is length of article\n",
    "X_len_train = pd.DataFrame(X_train.apply(lambda x: len(x))) #get feature with length of article\n",
    "X_len_val = pd.DataFrame(X_val.apply(lambda x: len(x))) #get X for validation\n",
    "\n",
    "model = LogisticRegression()\n",
    "reg = model.fit(X_len_train, y_train)\n",
    "\n",
    "y_pred = model.predict(X_len_val)\n",
    "acc = accuracy_score(y_pred,y_val)\n",
    "\n",
    "print(acc)"
   ]
  },
  {
   "cell_type": "code",
   "execution_count": null,
   "metadata": {},
   "outputs": [],
   "source": [
    "# from sklearn.feature_extraction.text import TfidfVectorizer\n",
    "# import numpy as np\n",
    "\n",
    "# def fun(doc):\n",
    "#     return doc\n",
    "\n",
    "# vectorizer = TfidfVectorizer(\n",
    "#     tokenizer = fun,\n",
    "#     preprocessor= fun,\n",
    "#     token_pattern=None\n",
    "# )"
   ]
  },
  {
   "cell_type": "code",
   "execution_count": null,
   "metadata": {},
   "outputs": [
    {
     "name": "stdout",
     "output_type": "stream",
     "text": [
      "(420761, 955247)\n"
     ]
    }
   ],
   "source": [
    "# X = vectorizer.fit_transform(X)\n",
    "\n",
    "# print(X.shape)"
   ]
  },
  {
   "cell_type": "code",
   "execution_count": null,
   "metadata": {},
   "outputs": [],
   "source": [
    "# np.save(\"X_tfidf.npy\", X, allow_pickle=True, fix_imports=True)"
   ]
  }
 ],
 "metadata": {
  "kernelspec": {
   "display_name": "ds_venv",
   "language": "python",
   "name": "python3"
  },
  "language_info": {
   "codemirror_mode": {
    "name": "ipython",
    "version": 3
   },
   "file_extension": ".py",
   "mimetype": "text/x-python",
   "name": "python",
   "nbconvert_exporter": "python",
   "pygments_lexer": "ipython3",
   "version": "3.12.1"
  }
 },
 "nbformat": 4,
 "nbformat_minor": 2
}
