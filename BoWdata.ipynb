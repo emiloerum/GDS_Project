{
 "cells": [
  {
   "cell_type": "code",
   "execution_count": null,
   "metadata": {},
   "outputs": [],
   "source": [
    "import pandas as pd\n",
    "data = bigdataset\n",
    "def vocabulary_size(series):\n",
    "    '''Computes the vocabulary size of a corpus by iterating through every word\n",
    "    in every document in the corpus and adding it to a dictionary if it hasnt been seen before\n",
    "    as well as incrementing a variable counting every unique word. Returns the unique_word_count\n",
    "    and sorted list of words and their frequencies'''\n",
    "    # Initialize a counter for unique words count and dictionary to store word frequencies\n",
    "    unique_words_count = 0\n",
    "    word_frequency = {}\n",
    "    # Iterate through each element in the series\n",
    "    for field in series:\n",
    "        # Iterate through each word in the current element\n",
    "        for word in field:\n",
    "            if word in word_frequency: \n",
    "                # If word already in dict, increment its count\n",
    "                word_frequency[word] += 1\n",
    "            else:\n",
    "                # If not add it to the dictionary with count 1 and increment unique_words_count\n",
    "                word_frequency[word] = 1\n",
    "                unique_words_count += 1\n",
    "    # Sort the word_frequency dictionary by frequency in descending order\n",
    "    return word_frequency\n",
    "\n",
    "#vocabulary is key in dict^\n",
    "vocabulary = [*vocabulary_size(data[\"content_stemmed\"])]\n",
    "\n",
    "#making a dataset with BoW representation of stemmed articles\n",
    "from collections import Counter\n",
    "\n",
    "f = lambda x: Counter([y for y in x if y in vocabulary])\n",
    "BoWdata = (pd.DataFrame(data['content_stemmed'].apply(f).values.tolist())\n",
    "               .fillna(0)\n",
    "               .astype(int)\n",
    "               .reindex(columns=vocabulary))\n",
    "\n",
    "Bowdata.to_csv(\"BoWdata.csv\", index=True)\n"
   ]
  }
 ],
 "metadata": {
  "language_info": {
   "name": "python"
  }
 },
 "nbformat": 4,
 "nbformat_minor": 2
}
