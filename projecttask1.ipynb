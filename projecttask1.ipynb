{
 "cells": [
  {
   "cell_type": "markdown",
   "metadata": {},
   "source": []
  },
  {
   "cell_type": "code",
   "execution_count": 97,
   "metadata": {},
   "outputs": [
    {
     "name": "stderr",
     "output_type": "stream",
     "text": [
      "[nltk_data] Downloading package punkt to\n",
      "[nltk_data]     C:\\Users\\astri\\AppData\\Roaming\\nltk_data...\n",
      "[nltk_data]   Package punkt is already up-to-date!\n"
     ]
    }
   ],
   "source": [
    "import pandas as pd\n",
    "import numpy as np\n",
    "import re\n",
    "import math\n",
    "from cleantext import clean\n",
    "import matplotlib.pyplot as plt\n",
    "import nltk\n",
    "from nltk.stem.snowball import SnowballStemmer\n",
    "from collections import Counter\n",
    "\n",
    "nltk.download('punkt')\n",
    "\n",
    "#hej\n",
    "pd.set_option('display.max_rows', None)\n",
    "pd.set_option('display.max_colwidth', 150)\n"
   ]
  },
  {
   "cell_type": "code",
   "execution_count": null,
   "metadata": {},
   "outputs": [],
   "source": []
  },
  {
   "cell_type": "code",
   "execution_count": 98,
   "metadata": {},
   "outputs": [
    {
     "name": "stdout",
     "output_type": "stream",
     "text": [
      "   Unnamed: 0   id                domain        type  \\\n",
      "0           0  141               awm.com  unreliable   \n",
      "1           1  256     beforeitsnews.com        fake   \n",
      "2           2  700           cnnnext.com  unreliable   \n",
      "3           3  768               awm.com  unreliable   \n",
      "4           4  791  bipartisanreport.com   clickbait   \n",
      "\n",
      "                                                                                                                           url  \\\n",
      "0                 http://awm.com/church-congregation-brings-gift-to-waitresses-working-on-christmas-eve-has-them-crying-video/   \n",
      "1  http://beforeitsnews.com/awakening-start-here/2018/01/awakening-of-12-strands-of-dna-reconnecting-with-you-movie-10623.html   \n",
      "2                                  http://www.cnnnext.com/video/18526/never-hike-alone-a-friday-the-13th-fan-film-full-movie-/   \n",
      "3                           http://awm.com/elusive-alien-of-the-sea-caught-by-scientist-for-one-of-the-first-times-ever-video/   \n",
      "4     http://bipartisanreport.com/2018/01/21/trumps-genius-poll-is-complete-the-results-have-americans-bursting-with-laughter/   \n",
      "\n",
      "                                                                                                                                                 content  \\\n",
      "0  Sometimes the power of Christmas will make you do wild and wonderful things. You do not need to believe in the Holy Trinity to believe in the posi...   \n",
      "1  AWAKENING OF 12 STRANDS of DNA – “Reconnecting with You” Movie\\r\\n\\r\\n% of readers think this story is Fact. Add your two cents.\\r\\n\\r\\nHeadline: ...   \n",
      "2  Never Hike Alone: A Friday the 13th Fan Film USA | 2017 | 54 min A fan tribute to Friday the 13th, Never Hike Alone follows an adventure\\r\\n\\r\\nNe...   \n",
      "3  When a rare shark was caught, scientists were left blundering for answers. This shark has a unique feature. And it’s not that it can survive at ex...   \n",
      "4  Donald Trump has the unnerving ability to ability to create his own reality and convince millions of Americans that what he says it is true. The p...   \n",
      "\n",
      "                   scraped_at                 inserted_at  \\\n",
      "0  2018-01-25 16:17:44.789555  2018-02-02 01:19:41.756632   \n",
      "1  2018-01-25 16:17:44.789555  2018-02-02 01:19:41.756632   \n",
      "2  2018-01-25 16:17:44.789555  2018-02-02 01:19:41.756632   \n",
      "3  2018-01-25 16:17:44.789555  2018-02-02 01:19:41.756632   \n",
      "4  2018-01-25 16:17:44.789555  2018-02-02 01:19:41.756632   \n",
      "\n",
      "                   updated_at  \\\n",
      "0  2018-02-02 01:19:41.756664   \n",
      "1  2018-02-02 01:19:41.756664   \n",
      "2  2018-02-02 01:19:41.756664   \n",
      "3  2018-02-02 01:19:41.756664   \n",
      "4  2018-02-02 01:19:41.756664   \n",
      "\n",
      "                                                                                             title  \\\n",
      "0  Church Congregation Brings Gift to Waitresses Working on Christmas Eve, Has Them Crying (video)   \n",
      "1                                   AWAKENING OF 12 STRANDS of DNA – “Reconnecting with You” Movie   \n",
      "2                                       Never Hike Alone - A Friday the 13th Fan Film (Full Movie)   \n",
      "3          Elusive ‘Alien Of The Sea ‘ Caught By Scientist For One Of The First Times Ever (video)   \n",
      "4              Trump’s Genius Poll Is Complete & The Results Have Americans Bursting With Laughter   \n",
      "\n",
      "           authors  keywords meta_keywords  \\\n",
      "0      Ruth Harris       NaN          ['']   \n",
      "1     Zurich Times       NaN          ['']   \n",
      "2              NaN       NaN          ['']   \n",
      "3  Alexander Smith       NaN          ['']   \n",
      "4  Gloria Christie       NaN          ['']   \n",
      "\n",
      "                                                                                                                                        meta_description  \\\n",
      "0                                                                                                                                                    NaN   \n",
      "1                                                                                                                                                    NaN   \n",
      "2  Never Hike Alone: A Friday the 13th Fan Film     USA | 2017 | 54 minA fan tribute to Friday the 13th, Never Hike Alone follows an adventure blogge...   \n",
      "3                                                                                                                                                    NaN   \n",
      "4                                                                                                                                                    NaN   \n",
      "\n",
      "  tags  summary  \n",
      "0  NaN      NaN  \n",
      "1  NaN      NaN  \n",
      "2  NaN      NaN  \n",
      "3  NaN      NaN  \n",
      "4  NaN      NaN  \n"
     ]
    }
   ],
   "source": [
    "news_data = pd.read_csv('data.csv')\n",
    "print(news_data.head())"
   ]
  },
  {
   "cell_type": "markdown",
   "metadata": {},
   "source": []
  },
  {
   "cell_type": "code",
   "execution_count": 99,
   "metadata": {},
   "outputs": [
    {
     "name": "stdout",
     "output_type": "stream",
     "text": [
      "0    sometimes the power of christmas will make you do wild and wonderful things you do not need to believe in the holy trinity to believe in the posit...\n",
      "1    awakening of number strands of dna reconnecting with you movie of readers think this story is fact add your two cents headline bitcoin blockchain ...\n",
      "2    never hike alone a friday the 00th fan film usa | number | number min a fan tribute to friday the 00th never hike alone follows an adventure never...\n",
      "3    when a rare shark was caught scientists were left blundering for answers this shark has a unique feature and its not that it can survive at extrem...\n",
      "4    donald trump has the unnerving ability to ability to create his own reality and convince millions of americans that what he says it is true the pr...\n",
      "Name: content, dtype: object\n"
     ]
    }
   ],
   "source": [
    "#Saving 'content' column into variable\n",
    "content_column = news_data['content']\n",
    "\n",
    "date = re.compile(r\"(([0-9]{4}-(0[0-9]|1[0-2])-([0-2][0-9]|[3[01])|[a-z]{,9} [0-9]{1,2}, [0-9]{2,4})|\\b(\\w+\\s)(\\d{2})(th)?,?(\\s\\d{4})\\b)\")\n",
    "#tjek om regex virker\n",
    "#datoer?\n",
    "#url = re.compile(r'(https?://)?(www\\.)?\\w+-?\\.?\\w+\\.\\w{2,3}/?')\n",
    "content_column = content_column.apply(lambda x: re.sub(date,\"_DATE_\",x))\n",
    "#^fanger flere urls end funktionen fra biblioteket (men får ikke nødvendigvis ender med )\n",
    "\n",
    "#husk også at fjerne |-tegn\n",
    "\n",
    "#Calling the clean method with appropriate arguments and assigning the result back to 'content_column'\n",
    "content_column_cleaned = content_column.apply(lambda x : clean(x,\n",
    "    #Tror vi skal ændre fix_unicode og to_ascii til true? eller bare slette dem\n",
    "    fix_unicode=False,             # fix various unicode errors\n",
    "    to_ascii=False,                # transliterate to closest ASCII representation\n",
    "    lower=True,                    # lowercase text\n",
    "    no_line_breaks=True,           # fully strip line breaks as opposed to only normalizing them\n",
    "    no_urls=True,                  # replace all URLs with a special token\n",
    "    no_emails=True,                # replace all email addresses with a special token\n",
    "    no_phone_numbers=True,         # replace all phone numbers with a special token\n",
    "    no_numbers=True,               # replace all numbers with a special token\n",
    "    no_digits=True,                # replace all digits with a special token\n",
    "    no_currency_symbols=True,      # replace all currency symbols with a special token\n",
    "    no_punct=True,                 # remove punctuations\n",
    "    replace_with_punct=\"\",         # instead of removing punctuations you may replace them\n",
    "    replace_with_url=\"_URL_\",\n",
    "    replace_with_email=\"_EMAIL_\",\n",
    "    replace_with_phone_number=\"_PHONE_\",\n",
    "    replace_with_number=\"_NUMBER_\",\n",
    "    replace_with_digit=\"0\",\n",
    "    replace_with_currency_symbol=\"_CUR_\",\n",
    "    lang=\"en\"                    \n",
    "))\n",
    "print(content_column_cleaned.head())\n",
    "#række med indeks 1: der er en url som ikke bliver fanget\n",
    "\n"
   ]
  },
  {
   "cell_type": "code",
   "execution_count": 100,
   "metadata": {},
   "outputs": [
    {
     "name": "stdout",
     "output_type": "stream",
     "text": [
      "0      [sometimes, the, power, of, christmas, will, make, you, do, wild, and, wonderful, things, you, do, not, need, to, believe, in, the, holy, trinity,...\n",
      "1      [awakening, of, number, strands, of, dna, reconnecting, with, you, movie, of, readers, think, this, story, is, fact, add, your, two, cents, headli...\n",
      "2      [never, hike, alone, a, friday, the, 00th, fan, film, usa, |, number, |, number, min, a, fan, tribute, to, friday, the, 00th, never, hike, alone, ...\n",
      "3      [when, a, rare, shark, was, caught, scientists, were, left, blundering, for, answers, this, shark, has, a, unique, feature, and, its, not, that, i...\n",
      "4      [donald, trump, has, the, unnerving, ability, to, ability, to, create, his, own, reality, and, convince, millions, of, americans, that, what, he, ...\n",
      "5      [republicans, and, democrats, alike, are, willing, to, turn, over, government, coffers, to, bezos, and, his, ilk, and, the, rights, of, the, peopl...\n",
      "6      [could, you, imagine, waking, up, in, the, morgue, i, for, one, would, be, traumatized, for, life, a, numberyearold, prisoner, by, the, name, of, ...\n",
      "7      [citizen, journalist, by, nmorgan, q, has, released, several, new, posts, over, the, last, number, hours, which, are, again, hitting, the, bulls, ...\n",
      "8      [usa, dollar, tanks, on, mnuchin, statement, that, he, wants, a, lower, dollar, value, headline, bitcoin, blockchain, searches, exceed, trump, blo...\n",
      "9      [subscribe, to, canada, free, press, for, free, neither, rev, rodriguez, nor, pope, francis, will, be, there, but, president, trump, will, be, add...\n",
      "10     [clintonobama, emails, key, to, understanding, why, hillary, wasnt, indicted, andrew, mccarthy, headline, bitcoin, blockchain, searches, exceed, t...\n",
      "11     [i, wish, i, had, done, so, when, our, nowadult, daughters, were, teens, two, of, our, girls, experienced, sexual, harassment, at, school, neither...\n",
      "12     [president, trump, right, with, rep, robert, lighthizer, reutersjonathan, ernstreuters, fake, news, is, now, part, of, the, american, vernacular, ...\n",
      "13     [mission, must, be, at, the, heart, of, journalism, pope, says, headline, bitcoin, blockchain, searches, exceed, trump, blockchain, stocks, are, n...\n",
      "14     [full, disclosure, we, have, no, way, of, knowing, if, any, of, these, allegations, by, this, teacher, maimona, afzal, berta, right, are, true, si...\n",
      "15     [screenshot, youtube, andrew, luis, and, kevin, palau, give, a, health, update, date, kevin, andrew, and, luis, palau, all, stood, together, on, t...\n",
      "16     [signs, and, wonders, snap, out, of, it, the, bible, is, clear, that, christians, should, have, compassion, for, the, poor, however, the, federal,...\n",
      "17     [expand, |, collapse, photo, reuterspeter, macdiarmid, ampoules, containing, a, medium, for, stem, cell, storage, in, a, file, photo, a, team, of,...\n",
      "18     [subscribe, to, canada, free, press, for, free, no, totalitarian, system, is, ready, to, tolerate, heretics, within, its, realm, it, hates, presid...\n",
      "19     [subscribe, to, canada, free, press, for, free, how, do, hand, sanitizers, work, washington, alcoholbased, hand, sanitizers, are, the, ubiquitous,...\n",
      "20     [subscribe, to, canada, free, press, for, free, the, supply, of, physicians, in, canada, projections, and, assessment, canada, has, almost, number...\n",
      "21     [have, you, ever, felt, out, of, place, for, no, apparent, reason, or, as, if, nothing, seemed, to, be, going, right, this, could, mean, you, are,...\n",
      "22     [subscribe, to, canada, free, press, for, free, a, new, type, of, computer, hardware, could, improve, cyber, security, in, harsh, environmental, c...\n",
      "23                         [obamas, the, greatest, criminal, in, history, say, trump, and, joe, arpaio, because, he, forged, his, birth, certificate, video]\n",
      "24     [subscribe, to, canada, free, press, for, free, senate, confirms, prolife, hhs, secretary, nominee, alex, azar, after, defeating, democrat, filibu...\n",
      "25     [canada, a, canadian, government, representative, repeatedly, refused, to, say, whether, the, requirement, that, employers, sign, a, proabortion, ...\n",
      "26     [a, black, hole, is, pushing, the, stars, around, in, this, globular, cluster, headline, bitcoin, blockchain, searches, exceed, trump, blockchain,...\n",
      "27     [before, its, news, ©, people, powered, news, ®, valid, number, years, unless, revoked, congress, shall, make, no, law, respecting, an, establishm...\n",
      "28     [mark, smyth, a, former, member, of, the, sae, society, of, automotive, engineers, mark, smyth, has, had, a, lifelong, love, for, machinery, drivi...\n",
      "29     [the, time, factor, active, shooter, incidents, headline, bitcoin, blockchain, searches, exceed, trump, blockchain, stocks, are, next, by, stephen...\n",
      "30     [youll, be, enraged, when, you, find, out, what, the, fbi, just, did, number, cities, targeted, of, readers, think, this, story, is, fact, add, yo...\n",
      "31     [subscribe, to, canada, free, press, for, free, cfp, poetry, online, migraine, nightmare, i, walk, silently, through, the, lonely, corridors, of, ...\n",
      "32     [prepare, for, war, as, trump, tours, asia, all, eyes, on, north, korea, of, readers, think, this, story, is, fact, add, your, two, cents, headlin...\n",
      "33     [subscribe, to, canada, free, press, for, free, i, am, tired, of, being, told, i, am, the, bad, guy, and, america, is, the, problem, illegal, mean...\n",
      "34     [the, integrated, nonusd, platforms, headline, bitcoin, blockchain, searches, exceed, trump, blockchain, stocks, are, next, newsgoldseekcom, by, j...\n",
      "35     [voice, or, no, voice, the, people, can, always, be, brought, to, the, bidding, of, the, leaders, all, you, have, to, do, is, tell, them, they, ar...\n",
      "36     [it, is, one, thing, to, research, collate, and, articulate, a, coherent, message, in, print, but, it, is, the, acid, test, of, knowledge, to, ora...\n",
      "37     [greg, hunter, big, banks, in, big, trouble, syrianorth, korea, update, trump, tax, cuts, update, video, headline, bitcoin, blockchain, searches, ...\n",
      "38     [look, south, to, florence, eleven, miles, distant, and, watch, the, wide, empty, beach, recede, into, a, misty, horizon, look, north, two, miles,...\n",
      "39     [hairraising, revelationwhy, the, tribulation, will, begin, soon, the, greatest, mystery, unfolds, when, you, see, whats, really, going, on, of, r...\n",
      "40     [offers, are, getting, into, the, sixfigure, range, in, prebidding, for, the, namescon, live, auction, headline, bitcoin, blockchain, searches, ex...\n",
      "41                                           [excerpts, from, carl, sagans, cosmos, more, specifically, from, the, episode, titled, who, speaks, for, earth]\n",
      "42     [listen, to, the, podcast, audio, click, here, mike, gleason, it, is, my, privilege, now, to, welcome, in, greg, weldon, ceo, and, president, of, ...\n",
      "43     [opinions, vary, on, the, topic, between, those, of, religion, and, those, without, they, vary, between, the, politically, motivated, those, who, ...\n",
      "44     [californias, pension, fund, looks, to, shift, blame, and, avoid, responsibility, steven, greenhut, writes, the, california, public, employees, re...\n",
      "45     [reckless, putin, just, made, a, bold, threatyou, wont, believe, what, he, said, and, who, its, directed, towards, of, readers, think, this, story...\n",
      "46     [subscribe, to, canada, free, press, for, free, political, correctness, and, socialist, marxist, revisionism, are, attacking, everything, southern...\n",
      "47     [draining, the, swamp, doesnt, matter, as, long, as, groupthink, persists, headline, bitcoin, blockchain, searches, exceed, trump, blockchain, sto...\n",
      "48     [all, three, are, vying, for, power, and, money, rahmbo, and, the, school, board, are, dealing, with, an, unpleasant, reality, a, reality, that, n...\n",
      "49     [number, scandalous, reasons, big, finance, is, trying, hard, to, keep, a, low, profile, photo, credit, songquan, deng, shutterstockcom, few, news...\n",
      "50     [unbearable, slowness, of, 0th, turnings, part, number, and, part, number, headline, bitcoin, blockchain, searches, exceed, trump, blockchain, sto...\n",
      "51     [subscribe, to, canada, free, press, for, free, fairness, is, the, vehicle, obama, uses, to, implement, socialism, obama, and, redistribution, of,...\n",
      "52     [president, trumps, plan, to, continue, deploying, american, military, forces, in, syria, goes, beyond, his, authority, under, federal, law, accor...\n",
      "53     [something, is, wrong, at, newsweek, and, whoever, is, in, charge, over, there, needs, to, get, a, handle, on, the, situation, its, most, recent, ...\n",
      "54     [american, forces, made, one, of, their, most, effective, hits, against, the, islamic, state, on, nov, number, when, us, planes, destroyed, number...\n",
      "55     [in, less, than, one, year, we, are, seeing, our, country, go, from, a, nation, of, laws, to, a, nation, of, men, obama, a, community, organizer, ...\n",
      "56     [in, such, scenarios, playing, cards, can, lead, you, towards, the, path, of, earning, big, amount, presently, many, people, are, investing, a, la...\n",
      "57     [the, white, house, has, informally, extended, an, invitation, to, australian, prime, minister, malcolm, turnbull, to, meet, with, president, trum...\n",
      "58     [subscribe, to, canada, free, press, for, free, more, than, the, money, our, government, is, usurping, the, rights, of, homeowners, and, local, of...\n",
      "59     [the, department, of, justice, on, thursday, formally, asked, the, us, supreme, court, to, overturn, a, lower, courts, ruling, to, block, in, part...\n",
      "60     [a, crowd, enveloped, a, bus, daredevils, scaled, greased, light, poles, someone, started, lighting, fireworks, that, was, the, scene, outside, li...\n",
      "61     [iraqs, oil, industry, and, current, economic, outlook, of, readers, think, this, story, is, fact, add, your, two, cents, headline, bitcoin, block...\n",
      "62                                                                                  [number, by, looking, at, lyme, disease, on, friday, date, numbernumber]\n",
      "63     [clintonlynch, airport, meeting, docs, released, to, watchdog, reveal, deep, state, corruption, +video, headline, bitcoin, blockchain, searches, e...\n",
      "64     [subscribe, to, canada, free, press, for, free, majority, of, the, inspectors, general, find, themselves, unable, to, perform, their, duties, to, ...\n",
      "65     [the, new, cold, war, in, number, headline, bitcoin, blockchain, searches, exceed, trump, blockchain, stocks, are, next, authored, by, turd, fergu...\n",
      "66     [like, many, conservatives, who, live, amongst, those, who, believe, they, own, the, franchise, on, enlightened, thinking, i, have, often, been, a...\n",
      "67     [the, united, states, has, slashed, its, contribution, to, the, un, relief, and, works, agency, for, palestinian, refugees, by, more, than, cur00,...\n",
      "68     [us, equities, dejadump, all, over, again, as, vix, tops, number, of, readers, think, this, story, is, fact, add, your, two, cents, headline, bitc...\n",
      "69     [jim, bray, jim, can, be, reached, at, jim, publishes, technofile, magazine, jim, is, an, affiliate, with, the, automobile, journalists, associati...\n",
      "70     [cbs, news, ran, an, internal, internet, poll, asking, americans, to, grade, the, obama, administration, on, performance, in, the, key, areas, of,...\n",
      "71     [subscribe, to, canada, free, press, for, free, chance, to, learn, about, and, practice, in, a, limited, manner, under, controlled, conditions, op...\n",
      "72     [a, weird, week, draws, to, a, close, headline, bitcoin, blockchain, searches, exceed, trump, blockchain, stocks, are, next, it, began, with, a, h...\n",
      "73     [school, choice, is, often, compared, to, many, things, but, sen, john, kennedy, rla, came, up, with, a, new, one, on, tuesday, mayonnaise, i, can...\n",
      "74     [embattled, republican, missouri, gov, eric, greitens, signaled, tuesday, he, had, no, plans, to, resign, after, admitting, to, a, number, extrama...\n",
      "75     [fbi, plot, to, overthrow, the, presidency, commit, organized, treason, in, america, revealed, headline, bitcoin, blockchain, searches, exceed, tr...\n",
      "76     [so, begins, the, rugyank, phase, of, fed, policy, headline, bitcoin, blockchain, searches, exceed, trump, blockchain, stocks, are, next, this, ar...\n",
      "77     [legionnaires, in, the, water, proximity, to, connecticut, watersheds, linked, to, increased, risk, of, infection, headline, bitcoin, blockchain, ...\n",
      "78     [cryptocurrencies, leg, lower, after, south, korean, tax, headlines, of, readers, think, this, story, is, fact, add, your, two, cents, headline, b...\n",
      "79     [a, super, pac, committed, to, ending, chris, christies, presidential, campaign, is, calling, it, quits, claiming, the, new, jersey, governor, has...\n",
      "80     [richmond, fed, suffers, biggest, numbermonth, drop, since, number, of, readers, think, this, story, is, fact, add, your, two, cents, headline, bi...\n",
      "81     [wait, until, you, see, what, number, world, leaders, just, didradical, agenda, ignites, at, nwo, world, government, summit, of, readers, think, t...\n",
      "82     [transportation, auto, insurance, rates, skyrocket, nationwide, thanks, to, lower, gas, prices, more, drivers, are, hitting, the, road, this, summ...\n",
      "83     [author, michael, wolff, insisted, friday, that, he, interviewed, president, trump, for, three, hours, during, the, campaign, and, while, he, was,...\n",
      "84     [russia, responds, to, us, provocation, open, skies, treaty, faces, hard, times, headline, bitcoin, blockchain, searches, exceed, trump, blockchai...\n",
      "85     [headline, bitcoin, blockchain, searches, exceed, trump, blockchain, stocks, are, next, top, hurricane, matthew, aftermath, footage, number, mains...\n",
      "86     [for, the, past, number, months, i, and, others, have, repeatedly, warned, that, isis, posed, a, special, threat, to, western, nations, we, were, ...\n",
      "87     [venezuelan, president, nicolas, maduro, told, president, trump, to, stop, meddling, in, his, countrys, affairs, friday, after, the, us, implement...\n",
      "88     [insights, from, the, number, inside, etfs, conference, advisor, edition, of, readers, think, this, story, is, fact, add, your, two, cents, headli...\n",
      "89     [interviewed, by, prince, harry, in, september, former, president, barack, obama, took, a, praiseworthy, stand, for, free, speech, in, the, interv...\n",
      "90     [cedar, bayou, at, fm, number, number, clear, creek, at, inumber, number, dayton, number, e, number, marys, creek, at, winding, road, number, beau...\n",
      "91     [headline, bitcoin, blockchain, searches, exceed, trump, blockchain, stocks, are, next, feeling, tired, even, if, we, arent, tired, why, do, we, y...\n",
      "92     [headline, bitcoin, blockchain, searches, exceed, trump, blockchain, stocks, are, next, cia, refuses, to, show, evidence, linking, trump, to, russ...\n",
      "93     [headline, bitcoin, blockchain, searches, exceed, trump, blockchain, stocks, are, next, winter, storm, decima, forecast, breakdown, wild, weather,...\n",
      "94     [the, university, of, alabama, a, public, university, in, tuscaloosa, ala, has, a, yellow, speech, rating, according, to, the, foundation, for, in...\n",
      "95     [democrats, both, on, and, off, the, house, select, committee, on, benghazi, skewered, an, numberpage, report, made, public, tuesday, by, panel, r...\n",
      "96     [smart, things, you, could, say, about, ray, rice, and, isis, of, readers, think, this, story, is, fact, add, your, two, cents, headline, bitcoin,...\n",
      "97     [headline, bitcoin, blockchain, searches, exceed, trump, blockchain, stocks, are, next, scientists, have, discovered, fossil, remains, of, a, new,...\n",
      "98     [small, cap, value, report, tue, number, jan, number, quindell, elco, lpa, boku, eye, flo, ssy, of, readers, think, this, story, is, fact, add, yo...\n",
      "99     [juno, captures, a, stunning, jovian, pearl, headline, bitcoin, blockchain, searches, exceed, trump, blockchain, stocks, are, next, astroimager, d...\n",
      "100    [greenmedinfo, action, item, link, of, readers, think, this, story, is, fact, add, your, two, cents, headline, bitcoin, blockchain, searches, exce...\n",
      "101    [number, most, annoying, twitter, auto, dms, headline, bitcoin, blockchain, searches, exceed, trump, blockchain, stocks, are, next, have, you, see...\n",
      "102    [number, articles, founders, can, read, to, understand, the, state, of, vc, investing, in, number, headline, bitcoin, blockchain, searches, exceed...\n",
      "103    [posted, on, by, willyloman, by, scott, creighton, update, gop, official, in, virginia, calls, union, members, terrorists, shawn, kenney, who, for...\n",
      "104    [buyer, of, btccom, for, cur0million, charged, with, operating, a, ponzi, scheme, of, readers, think, this, story, is, fact, add, your, two, cents...\n",
      "105    [posted, on, by, willyloman, imagine, that, trump, and, his, glorious, generals, killing, more, folks, in, yemen, at, a, faster, rate, than, presi...\n",
      "106    [where, do, you, go, to, get, a, pulse, on, the, chinese, domain, market, headline, bitcoin, blockchain, searches, exceed, trump, blockchain, stoc...\n",
      "107    [how, to, backup, your, data, of, readers, think, this, story, is, fact, add, your, two, cents, headline, bitcoin, blockchain, searches, exceed, t...\n",
      "108    [us, gives, soros, groups, millions, to, destabilize, macedonias, conservative, govt, headline, bitcoin, blockchain, searches, exceed, trump, bloc...\n",
      "109    [healing, our, collective, sickness, headline, bitcoin, blockchain, searches, exceed, trump, blockchain, stocks, are, next, date, by, paul, levy, ...\n",
      "110    [the, son, of, god, goes, forth, to, war, of, readers, think, this, story, is, fact, add, your, two, cents, headline, bitcoin, blockchain, searche...\n",
      "111    [the, cycle, of, desire, why, were, never, satisfied, and, always, want, more, headline, bitcoin, blockchain, searches, exceed, trump, blockchain,...\n",
      "112    [attn, phone, security, number, for, copblockers, headline, bitcoin, blockchain, searches, exceed, trump, blockchain, stocks, are, next, the, post...\n",
      "113    [playing, the, hitler, card, headline, bitcoin, blockchain, searches, exceed, trump, blockchain, stocks, are, next, a, rednecks, guide, to, revers...\n",
      "114    [here, i, outline, one, of, the, core, philosophies, of, sublime, oblivion, i, demonstrate, the, indivisibility, of, the, material, and, platonic,...\n",
      "115    [is, donald, trump, a, part, of, the, new, world, order, heres, why, the, question, video, of, readers, think, this, story, is, fact, add, your, t...\n",
      "116    [chris, hedges, truthdig, the, corporate, forces, that, are, looting, the, treasury, and, have, plunged, us, into, a, depression, will, not, be, c...\n",
      "117    [how, to, choose, a, good, vpn, service, of, readers, think, this, story, is, fact, add, your, two, cents, headline, bitcoin, blockchain, searches...\n",
      "118    [are, negative, interest, rates, ineffective, headline, bitcoin, blockchain, searches, exceed, trump, blockchain, stocks, are, next, this, piece, ...\n",
      "119    [the, now, prophecies, messages, from, god, video, bill, salus, headline, bitcoin, blockchain, searches, exceed, trump, blockchain, stocks, are, n...\n",
      "120    [whos, posterity, are, they, talking, about, headline, bitcoin, blockchain, searches, exceed, trump, blockchain, stocks, are, next, a, rednecks, g...\n",
      "121    [posted, on, by, willyloman, his, opening, statement, the, one, not, yet, hacked, on, youtube, why, not, give, conyers, a, call, phone, call, denn...\n",
      "122    [vice, president, attends, christmas, eve, celebration, says, preserve, our, culture, headline, bitcoin, blockchain, searches, exceed, trump, bloc...\n",
      "123                              [how, to, easily, understand, the, difference, between, the, day, of, christ, and, the, day, of, lord, in, the, end, times]\n",
      "124    [number, principles, that, govern, successful, people, headline, bitcoin, blockchain, searches, exceed, trump, blockchain, stocks, are, next, many...\n",
      "125    [sex, education, may, begin, for, numberyearolds, in, the, uk, too, young, headline, bitcoin, blockchain, searches, exceed, trump, blockchain, sto...\n",
      "126                              [how, to, easily, understand, the, difference, between, the, day, of, christ, and, the, day, of, lord, in, the, end, times]\n",
      "127    [headline, bitcoin, blockchain, searches, exceed, trump, blockchain, stocks, are, next, ahmedabad, india, doctors, in, india, were, shocked, and, ...\n",
      "128    [beyoncé, validates, cheating, rumors, headline, bitcoin, blockchain, searches, exceed, trump, blockchain, stocks, are, next, did, beyoncé, just, ...\n",
      "129    [regarding, the, ramey, memo, of, readers, think, this, story, is, fact, add, your, two, cents, headline, bitcoin, blockchain, searches, exceed, t...\n",
      "130                              [how, to, easily, understand, the, difference, between, the, day, of, christ, and, the, day, of, lord, in, the, end, times]\n",
      "131                              [how, to, easily, understand, the, difference, between, the, day, of, christ, and, the, day, of, lord, in, the, end, times]\n",
      "132    [the, reason, a, record, number, of, states, can, vote, to, legalize, weed, this, fall, headline, bitcoin, blockchain, searches, exceed, trump, bl...\n",
      "133    [by, 00st, century, wire, says, uk, column, anchor, mike, robinson, is, joined, by, 00wires, patrick, henningsen, to, breakdown, the, top, stories...\n",
      "134    [study, cbd, administration, enhances, skeletal, healing, of, readers, think, this, story, is, fact, add, your, two, cents, headline, bitcoin, blo...\n",
      "135    [paean, to, my, wife, headline, bitcoin, blockchain, searches, exceed, trump, blockchain, stocks, are, next, hiding, in, plain, sight, mark, repor...\n",
      "136                              [how, to, easily, understand, the, difference, between, the, day, of, christ, and, the, day, of, lord, in, the, end, times]\n",
      "137    [headline, bitcoin, blockchain, searches, exceed, trump, blockchain, stocks, are, next, videos, for, an, earth, in, transition, url, source, corbe...\n",
      "138    [what, if, workplace, distractions, were, considered, part, of, consumption, instead, of, part, production, headline, bitcoin, blockchain, searche...\n",
      "139    [former, finnish, president, visits, paranal, headline, bitcoin, blockchain, searches, exceed, trump, blockchain, stocks, are, next, high, up, in,...\n",
      "140                              [how, to, easily, understand, the, difference, between, the, day, of, christ, and, the, day, of, lord, in, the, end, times]\n",
      "141    [mary, magdalene, what, is, most, critical, at, this, time, headline, bitcoin, blockchain, searches, exceed, trump, blockchain, stocks, are, next,...\n",
      "142    [stressed, here, are, three, ways, to, help, tackle, anxiety, headline, bitcoin, blockchain, searches, exceed, trump, blockchain, stocks, are, nex...\n",
      "143    [mary, magdalene, healing, shame, around, addictions, and, sexuality, headline, bitcoin, blockchain, searches, exceed, trump, blockchain, stocks, ...\n",
      "144    [shopping, yule, gifts, for, witches, and, wizards, of, readers, think, this, story, is, fact, add, your, two, cents, headline, bitcoin, blockchai...\n",
      "145    [i, have, noticed, nearly, all, tv, shows, especially, reality, tv, feature, a, character, who, has, problems, conceiving, a, child, or, is, conce...\n",
      "146    [trayvon, martin, quick, q, a, headline, bitcoin, blockchain, searches, exceed, trump, blockchain, stocks, are, next, i, am, a, mother, of, four, ...\n",
      "147    [executive, order, coordinating, efforts, to, prepare, the, nation, for, space, weather, events, by, the, authority, vested, in, me, as, president...\n",
      "148    [number, earth, changes, weather, fukushima, headline, bitcoin, blockchain, searches, exceed, trump, blockchain, stocks, are, next, numbernumber, ...\n",
      "149    [hubble, captures, incredibly, rare, image, of, exploding, star, of, readers, think, this, story, is, fact, add, your, two, cents, headline, bitco...\n",
      "150                              [how, to, easily, understand, the, difference, between, the, day, of, christ, and, the, day, of, lord, in, the, end, times]\n",
      "151    [when, he, read, the, number, maastricht, treaty, leach, became, convinced, the, eu, was, a, bureaucratic, oligarchy, not, a, democracy, it, was, ...\n",
      "152    [nra, to, trump, no, guns, for, terrorists, but, due, process, first, headline, bitcoin, blockchain, searches, exceed, trump, blockchain, stocks, ...\n",
      "153    [germany, slams, nato, warmongering, against, russia, headline, bitcoin, blockchain, searches, exceed, trump, blockchain, stocks, are, next, as, w...\n",
      "154    [headline, bitcoin, blockchain, searches, exceed, trump, blockchain, stocks, are, next, a, close, look, at, indian, governor, mike, pence, the, ma...\n",
      "155    [insider, exposes, hollywoods, satanic, underside, of, readers, think, this, story, is, fact, add, your, two, cents, headline, bitcoin, blockchain...\n",
      "156    [take, your, business, global, in, number, of, readers, think, this, story, is, fact, add, your, two, cents, headline, bitcoin, blockchain, search...\n",
      "157    [headline, bitcoin, blockchain, searches, exceed, trump, blockchain, stocks, are, next, sorry, for, the, belated, post, we, spent, the, holidays, ...\n",
      "158    [cnnmoney, lays, off, biz, reporter, in, washington, of, readers, think, this, story, is, fact, add, your, two, cents, headline, bitcoin, blockcha...\n",
      "159    [guest, blogger, sung, hui, kim, headline, bitcoin, blockchain, searches, exceed, trump, blockchain, stocks, are, next, we, are, pleased, to, welc...\n",
      "160    [worldwide, laser, technology, market, analysis, report, number, challenges, opportunities, headline, bitcoin, blockchain, searches, exceed, trump...\n",
      "161    [audio, sensors, market, analysis, by, current, industry, status, growth, opportunities, top, key, players, target, audience, and, forecast, to, n...\n",
      "162    [economic, warning, we, all, know, how, this, party, is, going, to, end, headline, bitcoin, blockchain, searches, exceed, trump, blockchain, stock...\n",
      "163    [global, ent, endoscopic, devices, market, analysis, by, top, key, players, industry, overview, supply, and, consumption, demand, analysis, to, nu...\n",
      "164    [cronyism, for, the, likes, of, google, it, is, really, really, good, to, be, a, friend, of, obama, of, readers, think, this, story, is, fact, add...\n",
      "165    [obama, won, most, lawless, president, in, us, history, title, from, bush, headline, bitcoin, blockchain, searches, exceed, trump, blockchain, sto...\n",
      "166    [feds, seize, cur00, million, in, bitcoins, from, alleged, silk, road, operator, of, readers, think, this, story, is, fact, add, your, two, cents,...\n",
      "167    [i, was, silent, when, they, came, for, you, so, there, was, no, one, left, to, help, when, they, came, for, me, first, they, tortured, a, us, cit...\n",
      "168    [if, we, dont, act, now, fascism, will, be, on, our, doorstep, says, yale, historian, photo, credit, url, how, close, is, president, donald, trump...\n",
      "169    [in, our, modern, world, it, is, very, common, for, people, to, reach, for, manmade, medicine, as, soon, as, they, have, a, complaint, about, some...\n",
      "170    [migrant, crisis, has, europe, shaking, on, its, foundations, only, alternative, to, eu, is, war, headline, bitcoin, blockchain, searches, exceed,...\n",
      "171    [greece, is, just, the, beginning, again, this, kind, of, carnage, can, happen, all, over, europe, headline, bitcoin, blockchain, searches, exceed...\n",
      "172                              [how, to, easily, understand, the, difference, between, the, day, of, christ, and, the, day, of, lord, in, the, end, times]\n",
      "173    [cowboy, mounted, shooting, association, joins, north, american, international, livestock, expo, of, readers, think, this, story, is, fact, add, y...\n",
      "174    [benzalkonium, chloride, industry, number, global, market, trend, profit, growth, and, key, manufacturers, analysis, report, of, readers, think, t...\n",
      "175    [trends, global, connected, enterprise, market, number, analysis, by, growth, platform, solution, service, vertical, applications, drivers, opport...\n",
      "176    [naturalnews, if, you, thought, big, pharma, couldnt, sink, any, lower, you, were, wrong, a, recent, report, led, by, theand, the, center, for, pu...\n",
      "177    [cancer, causes, of, readers, think, this, story, is, fact, add, your, two, cents, headline, bitcoin, blockchain, searches, exceed, trump, blockch...\n",
      "178    [by, giovani, liveanddarecom, are, you, truly, happy, is, happiness, a, passing, feeling, or, a, state, of, being, for, you, tons, of, articles, a...\n",
      "179    [more, evil, cancer, cells, of, readers, think, this, story, is, fact, add, your, two, cents, headline, bitcoin, blockchain, searches, exceed, tru...\n",
      "180    [after, cancer, treatment, is, just, as, important, headline, bitcoin, blockchain, searches, exceed, trump, blockchain, stocks, are, next, you, ge...\n",
      "181    [so, long, coffee, hello, turmeric, latte, headline, bitcoin, blockchain, searches, exceed, trump, blockchain, stocks, are, next, natural, blazeco...\n",
      "182    [number, dairy, is, an, allergen, and, lactose, intolerance, trigger, number, most, people, are, actually, lactose, intolerant, and, dont, know, i...\n",
      "183    [headline, bitcoin, blockchain, searches, exceed, trump, blockchain, stocks, are, next, can, the, existence, of, life, after, death, be, proven, b...\n",
      "184    [recommended, resources, counterthink, cartoons, are, free, to, view, and, download, they, cover, topics, like, health, environment, and, freedom,...\n",
      "185    [fermented, vegetables, kefir, kombucha, apple, cider, vinegar, naturalnews, with, estimates, that, the, body, has, number, times, more, bacteria,...\n",
      "186    [multiple, disasters, means, stretched, resources, donor, fatigue, headline, bitcoin, blockchain, searches, exceed, trump, blockchain, stocks, are...\n",
      "187                              [how, to, easily, understand, the, difference, between, the, day, of, christ, and, the, day, of, lord, in, the, end, times]\n",
      "188    [the, second, of, mary, magdalenes, most, important, messages, how, to, live, a, true, spiritual, life, the, religion, of, feelings, headline, bit...\n",
      "189    [reviving, rivers, reviving, life, headline, bitcoin, blockchain, searches, exceed, trump, blockchain, stocks, are, next, in, february, number, a,...\n",
      "190    [in, response, to, the, democrats, closing, the, government, to, force, an, amnesty, for, daca, and, dreamer, illegals, the, white, house, produce...\n",
      "191    [i, got, the, following, press, release, from, the, dc, usas, office, after, hours, last, thursday, the, us, attorneys, office, for, the, district...\n",
      "192    [a, story, from, ram, dass, headline, bitcoin, blockchain, searches, exceed, trump, blockchain, stocks, are, next, one, day, a, rabbi, in, a, fren...\n",
      "193    [new, class, on, ostara, and, a, free, discussion, group, for, witches, headline, bitcoin, blockchain, searches, exceed, trump, blockchain, stocks...\n",
      "194    [recommended, resources, counterthink, cartoons, are, free, to, view, and, download, they, cover, topics, like, health, environment, and, freedom,...\n",
      "195    [regaining, your, confidence, headline, bitcoin, blockchain, searches, exceed, trump, blockchain, stocks, are, next, om, times, is, a, leading, vo...\n",
      "196    [howard, kurtz, is, the, media, critic, for, fox, news, he, is, fair, in, his, assessment, of, the, media, which, has, gone, over, the, edge, in, ...\n",
      "197                                               [is, there, something, else, goingon, many, of, us, have, speculated, with, the, help, of, qanon, +videos]\n",
      "198    [the, number, unseen, blessings, of, being, mindful, of, readers, think, this, story, is, fact, add, your, two, cents, headline, bitcoin, blockcha...\n",
      "199    [if, you, are, anything, like, me, you, are, very, interested, in, all, things, horror, or, gore, related, and, will, love, these, museums, these,...\n",
      "200    [martin, elvis, an, astrophysicist, recently, took, to, the, internet, to, hopefully, spread, word, to, the, public, and, those, in, the, scientif...\n",
      "201    [the, new, year, is, a, new, beginning, full, of, optimism, and, hope, well, enough, of, that, you, see, as, much, as, we, may, hope, for, new, be...\n",
      "202    [headline, bitcoin, blockchain, searches, exceed, trump, blockchain, stocks, are, next, new, york, city, is, home, to, some, of, the, worlds, wors...\n",
      "203    [trump, arrives, in, davos, of, readers, think, this, story, is, fact, add, your, two, cents, headline, bitcoin, blockchain, searches, exceed, tru...\n",
      "204    [breakthrough, siberian, volcanoes, triggered, earths, great, permian, mass, extinction, headline, bitcoin, blockchain, searches, exceed, trump, b...\n",
      "205    [we, live, in, a, world, where, while, the, reality, to, time, travel, appears, to, be, open, to, all, the, science, still, remained, untested, in...\n",
      "206    [flashback, when, the, rockefeller, trilateral, commission, exposed, its, own, secret, of, readers, think, this, story, is, fact, add, your, two, ...\n",
      "207    [the, team, via, peggy, black, consciousness, is, unlimited, headline, bitcoin, blockchain, searches, exceed, trump, blockchain, stocks, are, next...\n",
      "208    [lapds, numberyear, vendetta, for, death, of, offduty, deputy, sheriff, headline, bitcoin, blockchain, searches, exceed, trump, blockchain, stocks...\n",
      "209    [during, the, ceremony, to, mark, the, 00nd, anniversary, of, the, hiroshima, anniversary, japans, prime, minister, made, an, effort, to, call, fo...\n",
      "210    [feed, amino, acids, market, competitive, landscape, and, regional, analysis, by, numbernumber, of, readers, think, this, story, is, fact, add, yo...\n",
      "211    [what, would, happen, if, someone, destroyed, the, moon, video, of, readers, think, this, story, is, fact, add, your, two, cents, headline, bitcoi...\n",
      "212    [woman, who, flipped, off, trumps, motorcade, was, fired, for, her, behavior, headline, bitcoin, blockchain, searches, exceed, trump, blockchain, ...\n",
      "213    [gold, prices, rallied, cur00, per, ounce, from, yesterdays, fresh, numbermonth, lows, against, the, dollar, in, asian, trade, wednesday, only, to...\n",
      "214    [by, paul, fassa, allowing, and, encouraging, domestic, hemp, cultivation, would, be, a, boon, for, small, farmers, especially, organic, farmers, ...\n",
      "215    [magnesium, in, right, doses, completely, reverses, depression, breakthrough, study, of, readers, think, this, story, is, fact, add, your, two, ce...\n",
      "216    [alps, outdoorz, now, offers, upland, game, vest, x, and, bino, harness, x, of, readers, think, this, story, is, fact, add, your, two, cents, head...\n",
      "217    [night, fision, pro, shooter, corinne, mosher, joins, team, taran, headline, bitcoin, blockchain, searches, exceed, trump, blockchain, stocks, are...\n",
      "218    [is, vietnam, tilting, toward, china, xuan, loc, doan, when, he, traveled, to, china, for, a, state, visit, in, october, number, philippine, presi...\n",
      "219    [potentially, explosive, details, revealed, in, fusion, gps, cofounders, testimony, transcript, of, readers, think, this, story, is, fact, add, yo...\n",
      "220    [mark, levin, has, done, the, nation, a, great, service, he, wrote, a, new, book, its, called, plunder, and, deceit, big, governments, exploitatio...\n",
      "221    [number, food, safety, speech, in, new, zealand, of, readers, think, this, story, is, fact, add, your, two, cents, headline, bitcoin, blockchain, ...\n",
      "222    [for, the, first, time, since, the, end, of, the, cold, war, nato, is, expanding, its, command, structure, a, plan, to, establish, two, new, milit...\n",
      "223    [the, return, of, empires, ii, part, i, a, world, of, postmodernism, or, the, newest, middle, ages, the, process, already, taking, shape, in, the,...\n",
      "224    [gold, prices, slipped, tuesday, in, londons, wholesale, market, falling, for, only, the, fourth, time, in, number, trading, days, as, world, stoc...\n",
      "225    [marxist, professors, berate, and, attack, a, teacher, for, showing, a, debate, about, nongendered, pronouns, of, readers, think, this, story, is,...\n",
      "226    [congress, demands, doj, turn, over, evidence, related, to, obamahezbollah, drug, trafficking, of, readers, think, this, story, is, fact, add, you...\n",
      "227                                               [is, there, something, else, goingon, many, of, us, have, speculated, with, the, help, of, qanon, +videos]\n",
      "228    [by, pam, martens, and, russ, martens, adate, tomorrow, the, senate, banking, committee, chaired, by, senator, richard, shelby, since, the, republ...\n",
      "229    [vulto, creamery, likely, linked, to, listeria, illnesses, in, several, states, headline, bitcoin, blockchain, searches, exceed, trump, blockchain...\n",
      "230    [the, real, story, behind, marijuana, prohibition, of, readers, think, this, story, is, fact, add, your, two, cents, headline, bitcoin, blockchain...\n",
      "231    [numberyearold, girl, dies, after, doctors, misdiagnose, her, infection, as, the, flu, headline, bitcoin, blockchain, searches, exceed, trump, blo...\n",
      "232    [e, coli, outbreak, to, the, north, number, sick, from, flour, in, canada, headline, bitcoin, blockchain, searches, exceed, trump, blockchain, sto...\n",
      "233    [what, is, behind, new, msm, push, for, invasion, of, syria, of, readers, think, this, story, is, fact, add, your, two, cents, headline, bitcoin, ...\n",
      "234                [error, main, error, mesage, here, more, detailed, message, would, go, here, to, provide, context, for, the, user, and, how, to, proceed]\n",
      "235                [error, main, error, mesage, here, more, detailed, message, would, go, here, to, provide, context, for, the, user, and, how, to, proceed]\n",
      "236    [human, sewage, culprit, in, canadian, oyster, norovirus, outbreak, headline, bitcoin, blockchain, searches, exceed, trump, blockchain, stocks, ar...\n",
      "237    [trumps, decision, to, sell, advanced, lethal, weapons, systems, to, the, neonazi, ukrainian, regime, could, easily, spiral, into, a, dangerous, s...\n",
      "238    [netflix, has, announced, that, david, lettermans, new, show, on, the, streaming, service, will, launch, jan, number, and, that, barack, obama, wi...\n",
      "239    [the, disturbing, sugar, daddysugar, baby, relationship, between, donald, sterling, and, v, stiviano, and, how, you, can, learn, from, it, headlin...\n",
      "240    [the, department, of, justice, has, decided, to, review, again, hillary, clintons, use, of, a, private, email, server, and, her, handling, of, cla...\n",
      "241    [democratic, national, committee, chairman, tom, perez, ripped, president, donald, trumps, move, to, end, the, protected, status, for, about, numb...\n",
      "242    [senate, minority, leader, chuck, schumer, dny, said, president, donald, trump, will, get, the, blame, if, the, government, is, forced, to, shut, ...\n",
      "243    [press, before, its, news, ©, people, powered, news, ®, wels, through, my, bible, on, streams, learn, about, wels, wels, is, a, group, of, nearly,...\n",
      "244    [the, senate, voted, late, thursday, to, start, work, on, legislation, to, fund, the, government, until, feb, number, which, passed, the, house, j...\n",
      "245    [prison, for, rahm, gods, work, and, many, others, headline, bitcoin, blockchain, searches, exceed, trump, blockchain, stocks, are, next, by, karl...\n",
      "246    [number, useful, items, for, your, tiny, home, headline, bitcoin, blockchain, searches, exceed, trump, blockchain, stocks, are, next, while, a, ti...\n",
      "247    [former, cia, director, michael, hayden, said, thursday, we, all, collectively, should, be, a, little, bit, frightened, by, donald, trump, reporte...\n",
      "248    [antonio, sabato, jr, says, hollywoods, liberal, elite, desperately, wants, oprah, winfrey, to, run, for, president, in, number, because, she, is,...\n",
      "249    [former, us, president, bill, clinton, on, monday, called, for, the, immediate, release, of, two, reuters, journalists, being, held, in, myanmar, ...\n",
      "Name: content, dtype: object\n"
     ]
    }
   ],
   "source": [
    "#Tokenize\n",
    "content_column_tokenized = content_column_cleaned.apply(lambda x: nltk.word_tokenize(x))\n",
    "print(content_column_tokenized)\n"
   ]
  },
  {
   "cell_type": "code",
   "execution_count": 101,
   "metadata": {},
   "outputs": [
    {
     "name": "stdout",
     "output_type": "stream",
     "text": [
      "vocabulary size before removal of stopwords:  16654\n",
      "vocabulary size after removal of stopwords:  16168\n",
      "Reduction rate of vocabulary size after removing stopwords: 0.029\n"
     ]
    }
   ],
   "source": [
    "#Remove stopwords\n",
    "stopwordsDF = pd.read_csv('stopwords.csv')  #571 stopord - den fra nltk har færre, men kan også bruge\n",
    "stopwordsSeries = stopwordsDF.squeeze()\n",
    "stopwords = set(stopwordsSeries)\n",
    "\n",
    "def remove_stopwords(list):\n",
    "     '''Returns a list containing a document with the stopwords removed'''\n",
    "     return [word for word in list if word not in stopwords]\n",
    "\n",
    "content_column_no_stopwords = content_column_tokenized.apply(lambda x: remove_stopwords(x))\n",
    "\n",
    "def vocabulary_size(series):\n",
    "    '''Computes the vocabulary size of a corpus by iterating through every word\n",
    "    in every document in the corpus and adding it to a dictionary if it hasnt been seen before\n",
    "    as well as incrementing a variable counting every unique word. Returns the unique_word_count\n",
    "    and sorted list of words and their frequencies'''\n",
    "    # Initialize a counter for unique words count and dictionary to store word frequencies\n",
    "    unique_words_count = 0\n",
    "    word_frequency = {}\n",
    "    # Iterate through each element in the series\n",
    "    for field in series:\n",
    "        # Iterate through each word in the current element\n",
    "        for word in field:\n",
    "            if word in word_frequency: \n",
    "                # If word already in dict, increment its count\n",
    "                word_frequency[word] += 1\n",
    "            else:\n",
    "                # If not add it to the dictionary with count 1 and increment unique_words_count\n",
    "                word_frequency[word] = 1\n",
    "                unique_words_count += 1\n",
    "    # Sort the word_frequency dictionary by frequency in descending order\n",
    "    sorted_word_frequency = sorted(word_frequency.items(), key=lambda x: x[1], reverse=True)\n",
    "\n",
    "    return unique_words_count, sorted_word_frequency\n",
    "\n",
    "vocabulary_size_with_stopwords = vocabulary_size(content_column_tokenized)[0]\n",
    "vocabulary_size_no_stopwords = vocabulary_size(content_column_no_stopwords)[0]\n",
    "print(\"vocabulary size before removal of stopwords: \", vocabulary_size_with_stopwords)\n",
    "print(\"vocabulary size after removal of stopwords: \", vocabulary_size_no_stopwords)\n",
    "\n",
    "#Jeg har taget foreskellen ml antal ord før processing og efter of så divideret med\n",
    "# antal ord til at starte med for at få reduction raten\n",
    "def reduction_rate(after,before):\n",
    "     '''Computes the reduction rate of the size of the vocabulary\n",
    "     and returns this rounded to 3 decimal points'''\n",
    "     return round((before - after)/before, 3)\n",
    "\n",
    "print(\"Reduction rate of vocabulary size after removing stopwords:\", reduction_rate(vocabulary_size_no_stopwords,vocabulary_size_with_stopwords))\n",
    "#måske noget med at ordene er meget frekvente, så man kunne også kigge på reduktionen af antal ord.\n"
   ]
  },
  {
   "cell_type": "code",
   "execution_count": 102,
   "metadata": {},
   "outputs": [
    {
     "name": "stdout",
     "output_type": "stream",
     "text": [
      "Vocabulary size before stemming:  16168\n",
      "Vocabulary size after stemming:  10804\n",
      "Reduction rate of vocabulary size after stemming: 0.332\n"
     ]
    }
   ],
   "source": [
    "#Stemming\n",
    "stemmer = SnowballStemmer(\"english\")\n",
    "\n",
    "def list_stemmer (wordlist): #stemmer hvert ord i en liste\n",
    "    '''Stems each word in the given input list and returns this'''\n",
    "    stemmed_list = []\n",
    "    for word in wordlist:\n",
    "        stemmed_list.append(stemmer.stem(word))\n",
    "    return stemmed_list\n",
    "\n",
    "content_column_stemmed = content_column_no_stopwords.apply(lambda x:list_stemmer(x))\n",
    "\n",
    "vocabulary_size_no_stopwords = vocabulary_size(content_column_no_stopwords)[0]\n",
    "vocabulary_size_stemmed = vocabulary_size(content_column_stemmed)[0]\n",
    "print(\"Vocabulary size before stemming: \", vocabulary_size_no_stopwords)\n",
    "print(\"Vocabulary size after stemming: \", vocabulary_size_stemmed)\n",
    "print(\"Reduction rate of vocabulary size after stemming:\", reduction_rate(vocabulary_size_stemmed,vocabulary_size_no_stopwords))\n",
    "\n",
    "\n"
   ]
  },
  {
   "cell_type": "code",
   "execution_count": 103,
   "metadata": {},
   "outputs": [
    {
     "name": "stdout",
     "output_type": "stream",
     "text": [
      "most frequent with stopwords ['the', 'of', 'to', 'and', 'a', 'in', 'is', 'that', 'number', 'for', 'it', 'are', 'on', 'with', 'this', 'you', 'as', 'be', 'i', 'by', 'have', 'not', 'was', 'from', 'at', 'or', 'we', 'they', 'its', 'but', 'your', 'has', 'an', 'their', 'can', 'all', 'will', 'more', 'about', 'if', 'us', 'one', 'what', 'who', 'he', 'were', 'which', 'so', 'there']\n",
      "most frequent without stopwords ['a', 'number', 'people', 'trump', 'time', 'blockchain', 'url', 'market', 'government', 'state', 'president', 'life', 'make', 'world', 'things', 'years', 'bitcoin', 'states', 'stocks', 'fact', 'headline', 'year', 'good', 'exceed', 'searches', 'war', 'dont', 'power', 'back', 'obama', 'american', 'money', 'part', 'free', 'day', 'source', 'news', 'made', 'global', 'work', 'report', 'russia', 'long', 'public', 'research', 'numbernumber', 'policy', 'point', 'law']\n",
      "most frequent stemmed ['a', 'number', 'time', 'peopl', 'state', 'trump', 'market', 'year', 'blockchain', 'make', 'url', 'thing', 'report', 'govern', 'nation', 'presid', 'work', 'stock', 'american', 'world', 'day', 'life', 'power', 'countri', 'includ', 'bitcoin', 'feel', 'fact', 'person', 'war', 'bank', 'obama', 'good', 'search', 'back', 'headlin', 'sourc', 'call', 'part', 'support', 'exceed', 'polici', 'point', 'dont', 'law', 'system', 'clinton', 'live', 'secur']\n"
     ]
    },
    {
     "ename": "TypeError",
     "evalue": "'str' object is not callable",
     "output_type": "error",
     "traceback": [
      "\u001b[1;31m---------------------------------------------------------------------------\u001b[0m",
      "\u001b[1;31mTypeError\u001b[0m                                 Traceback (most recent call last)",
      "Cell \u001b[1;32mIn[103], line 37\u001b[0m\n\u001b[0;32m     29\u001b[0m     plt\u001b[38;5;241m.\u001b[39mtick_params(\n\u001b[0;32m     30\u001b[0m         axis\u001b[38;5;241m=\u001b[39m\u001b[38;5;124m'\u001b[39m\u001b[38;5;124mx\u001b[39m\u001b[38;5;124m'\u001b[39m,          \u001b[38;5;66;03m# changes apply to the x-axis\u001b[39;00m\n\u001b[0;32m     31\u001b[0m         which\u001b[38;5;241m=\u001b[39m\u001b[38;5;124m'\u001b[39m\u001b[38;5;124mboth\u001b[39m\u001b[38;5;124m'\u001b[39m,      \u001b[38;5;66;03m# both major and minor ticks are affected\u001b[39;00m\n\u001b[0;32m     32\u001b[0m         bottom\u001b[38;5;241m=\u001b[39m\u001b[38;5;28;01mFalse\u001b[39;00m,      \u001b[38;5;66;03m# ticks along the bottom edge are off\u001b[39;00m\n\u001b[0;32m     33\u001b[0m         top\u001b[38;5;241m=\u001b[39m\u001b[38;5;28;01mFalse\u001b[39;00m,         \u001b[38;5;66;03m# ticks along the top edge are off\u001b[39;00m\n\u001b[0;32m     34\u001b[0m         labelbottom\u001b[38;5;241m=\u001b[39m\u001b[38;5;28;01mFalse\u001b[39;00m) \u001b[38;5;66;03m# labels along the bottom edge are off\u001b[39;00m\n\u001b[0;32m     35\u001b[0m     plt\u001b[38;5;241m.\u001b[39mshow()\n\u001b[1;32m---> 37\u001b[0m word_frequency_plot(content_column_tokenized, \u001b[38;5;124m'\u001b[39m\u001b[38;5;124mTokenized\u001b[39m\u001b[38;5;124m'\u001b[39m)\n\u001b[0;32m     38\u001b[0m word_frequency_plot(content_column_no_stopwords, \u001b[38;5;124m'\u001b[39m\u001b[38;5;124mNo Stopwords\u001b[39m\u001b[38;5;124m'\u001b[39m)\n\u001b[0;32m     39\u001b[0m word_frequency_plot(content_column_stemmed, \u001b[38;5;124m'\u001b[39m\u001b[38;5;124mStemmed\u001b[39m\u001b[38;5;124m'\u001b[39m)\n",
      "Cell \u001b[1;32mIn[103], line 25\u001b[0m, in \u001b[0;36mword_frequency_plot\u001b[1;34m(series, title)\u001b[0m\n\u001b[0;32m     22\u001b[0m \u001b[38;5;250m\u001b[39m\u001b[38;5;124;03m'''function for plotting from the third most frequent word to the 1000 most frequent word\u001b[39;00m\n\u001b[0;32m     23\u001b[0m \u001b[38;5;124;03mas well as their corresponding frequencies in a barplot.'''\u001b[39;00m\n\u001b[0;32m     24\u001b[0m plt\u001b[38;5;241m.\u001b[39mbar(\u001b[38;5;241m*\u001b[39m\u001b[38;5;28mzip\u001b[39m(\u001b[38;5;241m*\u001b[39mmost_frequent(series, \u001b[38;5;241m3\u001b[39m, \u001b[38;5;241m1000\u001b[39m)\u001b[38;5;241m.\u001b[39mitems())) \u001b[38;5;66;03m#3 for at undgå  \"a\" og \"number\" men hvis det rettes skal der også rettes her\u001b[39;00m\n\u001b[1;32m---> 25\u001b[0m plt\u001b[38;5;241m.\u001b[39mtitle(title)\n\u001b[0;32m     26\u001b[0m plt\u001b[38;5;241m.\u001b[39mxlabel(\u001b[38;5;124m'\u001b[39m\u001b[38;5;124m1000 most frequent words\u001b[39m\u001b[38;5;124m'\u001b[39m)\n\u001b[0;32m     27\u001b[0m plt\u001b[38;5;241m.\u001b[39mylabel(\u001b[38;5;124m'\u001b[39m\u001b[38;5;124mcount\u001b[39m\u001b[38;5;124m'\u001b[39m)\n",
      "\u001b[1;31mTypeError\u001b[0m: 'str' object is not callable"
     ]
    },
    {
     "data": {
      "image/png": "[encoded data removed]",
      "text/plain": [
       "<Figure size 640x480 with 1 Axes>"
      ]
     },
     "metadata": {},
     "output_type": "display_data"
    }
   ],
   "source": [
    "#exploration of vocabulary\n",
    "#finding the most frequent words and plotting frequency distribution after tokenization, removal of stopwords and stemming\n",
    "def most_frequent(series, from_value, to_value):\n",
    "    '''returns a dictionary containing the\n",
    "   \"n\" most frequent words in an interval - [from_value:to_value] - in the input series.'''\n",
    "    return dict(vocabulary_size(series)[1][from_value:to_value])\n",
    "\n",
    "#måske det her er hurtigere hvis man gør det med en dataframe?\n",
    "most_frequent_tokenized = most_frequent(content_column_tokenized, 0, 49)\n",
    "print(\"most frequent with stopwords\", list(most_frequent_tokenized.keys()))\n",
    "\n",
    "most_frequent_no_stopwords = most_frequent(content_column_no_stopwords, 0, 49)\n",
    "print(\"most frequent without stopwords\", list(most_frequent_no_stopwords.keys()))\n",
    "\n",
    "most_frequent_stemmed = most_frequent(content_column_stemmed, 0, 49)\n",
    "print(\"most frequent stemmed\", list(most_frequent_stemmed.keys()))\n",
    "\n",
    "#kig på hvorfor \"a\" ikke fjernes af stopword\n",
    "#kig på hvorfor _number_ erstattes med number, og om det er ok med os\n",
    "def word_frequency_plot(series, title):\n",
    "    '''function for plotting from the third most frequent word to the 1000 most frequent word\n",
    "    as well as their corresponding frequencies in a barplot.'''\n",
    "    plt.bar(*zip(*most_frequent(series, 3, 1000).items())) #3 for at undgå  \"a\" og \"number\" men hvis det rettes skal der også rettes her\n",
    "    plt.title(title)\n",
    "    plt.xlabel('1000 most frequent words')\n",
    "    plt.ylabel('count')\n",
    "    plt.xticks(rotation=90)\n",
    "    plt.tick_params(\n",
    "        axis='x',          # changes apply to the x-axis\n",
    "        which='both',      # both major and minor ticks are affected\n",
    "        bottom=False,      # ticks along the bottom edge are off\n",
    "        top=False,         # ticks along the top edge are off\n",
    "        labelbottom=False) # labels along the bottom edge are off\n",
    "    plt.show()\n",
    "\n",
    "word_frequency_plot(content_column_tokenized, 'Tokenized')\n",
    "word_frequency_plot(content_column_no_stopwords, 'No Stopwords')\n",
    "word_frequency_plot(content_column_stemmed, 'Stemmed')\n",
    "\n",
    "frequent_stemwords = most_frequent(content_column_stemmed, 3, 40)\n",
    "\n",
    "plt.bar(*zip(*frequent_stemwords.items()))\n",
    "plt.xticks(rotation=90)\n",
    "plt.title(\"40 most frequent words in stemmed data\")\n",
    "plt.xlabel('words')\n",
    "plt.ylabel('count')\n",
    "plt.show()\n",
    "#stopwords gør at den ikke ikke har så vildt et peak for det mest frekvente ord - måske er det kun det originale datasæt der følger zipfs lov?\n",
    "#kunne være fedt hvis man kunne plotte dem ved siden af hinanden. (Vi kan bruge subplot til det)\n",
    "#emnerne ser ud til  at være politiske, finensielle/økonomiske"
   ]
  },
  {
   "cell_type": "code",
   "execution_count": null,
   "metadata": {},
   "outputs": [
    {
     "name": "stdout",
     "output_type": "stream",
     "text": [
      "type\n",
      "fake          155\n",
      "conspiracy     31\n",
      "political      23\n",
      "bias            6\n",
      "junksci         6\n",
      "unknown         6\n",
      "unreliable      6\n",
      "reliable        3\n",
      "clickbait       1\n",
      "hate            1\n",
      "Name: count, dtype: int64\n",
      "simple_type\n",
      "fake        192\n",
      "unknown      43\n",
      "reliable      3\n",
      "Name: count, dtype: int64\n"
     ]
    }
   ],
   "source": [
    "#træk informations-kategori og content ud i én dataframe\n",
    "article_type = news_data['type']\n",
    "news_data['type'] = news_data['type'].astype('category')\n",
    "\n",
    "fakenews = set(['unreliable', 'fake', 'conspiracy'])\n",
    "#overskydende er reliable, nan og unknown\n",
    "def label_news(field):\n",
    "    '''function for labeling news articles as either fake, reliable or unknown'''\n",
    "    if field in fakenews:\n",
    "        return 'fake'\n",
    "    elif field == 'reliable':\n",
    "        return 'reliable'\n",
    "    else:\n",
    "        return 'unknown'\n",
    "\n",
    "news_data['simple_type'] = news_data['type'].apply(lambda x:label_news(x)).astype('category') #laver en ny kolonne med lidt simplere kategorier\n",
    "\n",
    "print(news_data['type'].value_counts())\n",
    "print(news_data['simple_type'].value_counts())\n"
   ]
  },
  {
   "cell_type": "code",
   "execution_count": null,
   "metadata": {},
   "outputs": [
    {
     "name": "stdout",
     "output_type": "stream",
     "text": [
      "scraping time statistics:\n",
      " count                            250\n",
      "unique                             2\n",
      "top       2018-01-25 16:17:44.789555\n",
      "freq                             197\n",
      "Name: scraped_at, dtype: object\n"
     ]
    },
    {
     "data": {
      "text/plain": [
       "<Axes: title={'center': 'Distribution of scraping times'}, xlabel='scraped_at', ylabel='count'>"
      ]
     },
     "execution_count": 54,
     "metadata": {},
     "output_type": "execute_result"
    },
    {
     "data": {
      "image/png": "[encoded data removed]",
      "text/plain": [
       "<Figure size 640x480 with 1 Axes>"
      ]
     },
     "metadata": {},
     "output_type": "display_data"
    }
   ],
   "source": [
    "#More  exploration\n",
    "print(\"scraping time statistics:\\n\", news_data['scraped_at'].describe())\n",
    "#print(\"\\n\\n distribution: \\n\", news_data['scraped_at'].value_counts())\n",
    "news_data[\"scraped_at\"].to_frame().value_counts().plot(kind='bar',ylabel=\"count\",title=\"Distribution of scraping times\",xticks=[])\n",
    "#dvs de er alle sammen indsamlet i 2018\n",
    "#obs: det virker ikke muligt at finde ud af præcis hvornår hver enkelt artikel er fra? Det virker vigtigt\n"
   ]
  },
  {
   "cell_type": "code",
   "execution_count": null,
   "metadata": {},
   "outputs": [
    {
     "name": "stdout",
     "output_type": "stream",
     "text": [
      "\n",
      "domains:\n",
      " count                   250\n",
      "unique                   29\n",
      "top       beforeitsnews.com\n",
      "freq                    155\n",
      "Name: domain, dtype: object\n"
     ]
    },
    {
     "data": {
      "text/plain": [
       "<Axes: title={'center': 'Distribution of domains'}, xlabel='domain', ylabel='count'>"
      ]
     },
     "execution_count": 55,
     "metadata": {},
     "output_type": "execute_result"
    },
    {
     "data": {
      "image/png": "[encoded data removed]",
      "text/plain": [
       "<Figure size 640x480 with 1 Axes>"
      ]
     },
     "metadata": {},
     "output_type": "display_data"
    }
   ],
   "source": [
    "print(\"\\ndomains:\\n\", news_data['domain'].describe())\n",
    "news_data['domain'].to_frame().value_counts().plot(kind='bar',ylabel=\"count\",xticks=[],title=\"Distribution of domains\")\n",
    "#obs: 155 af data kommer fra den samme, og generelt ikke særligt velfordelte kilder\n"
   ]
  },
  {
   "cell_type": "code",
   "execution_count": null,
   "metadata": {},
   "outputs": [
    {
     "name": "stdout",
     "output_type": "stream",
     "text": [
      "authors:\n",
      " count            170\n",
      "unique           109\n",
      "top       John Rolls\n",
      "freq              10\n",
      "Name: authors, dtype: object\n"
     ]
    },
    {
     "data": {
      "text/plain": [
       "<Axes: xlabel='authors'>"
      ]
     },
     "execution_count": 56,
     "metadata": {},
     "output_type": "execute_result"
    },
    {
     "data": {
      "image/png": "[encoded data removed]",
      "text/plain": [
       "<Figure size 640x480 with 1 Axes>"
      ]
     },
     "metadata": {},
     "output_type": "display_data"
    }
   ],
   "source": [
    "print(\"authors:\\n\", news_data['authors'].describe())\n",
    "news_data['authors'].to_frame().value_counts().plot(kind='bar',xticks=[])\n",
    "#ser lidt bedre ud her"
   ]
  },
  {
   "cell_type": "code",
   "execution_count": null,
   "metadata": {},
   "outputs": [
    {
     "data": {
      "text/plain": [
       "simple_type\n",
       "fake        Axes(0.125,0.11;0.775x0.77)\n",
       "reliable    Axes(0.125,0.11;0.775x0.77)\n",
       "unknown     Axes(0.125,0.11;0.775x0.77)\n",
       "Name: mean_word_length, dtype: object"
      ]
     },
     "execution_count": 73,
     "metadata": {},
     "output_type": "execute_result"
    },
    {
     "data": {
      "image/png": "[encoded data removed]",
      "text/plain": [
       "<Figure size 640x480 with 1 Axes>"
      ]
     },
     "metadata": {},
     "output_type": "display_data"
    }
   ],
   "source": [
    "#Længde på ord, middelværdi og spredning\n",
    "#alle plots kan også laves uden group-by hvis inddelingen ikke er så interessant\n",
    "#vocabulary size/antal ord, middelværdi og spredning\n",
    "\n",
    "def mean_length_of_words(wordlist):\n",
    "    totallength = 0\n",
    "    for word in wordlist:\n",
    "        totallength = totallength + len(str(word))\n",
    "    return totallength/len(wordlist)\n",
    "\n",
    "def unique_words_ratio(wordlist):\n",
    "    count = 0\n",
    "    words = {}\n",
    "    for word in wordlist:\n",
    "        if word not in words:\n",
    "            words[word]=1\n",
    "            count +=1\n",
    "    return count/len(wordlist)\n",
    "\n",
    "news_data['mean_word_length']=content_column_no_stopwords.apply(lambda x:mean_length_of_words(x))\n",
    "\n",
    "news_data.groupby('simple_type',observed=False)['mean_word_length'].plot(kind='hist',bins=20,title=\"Distribution of mean word length\",legend=list(\"simple_type\"))\n",
    "#news_data[\"mean_word_length\"].plot(kind=\"hist\",bins=100) hvis den skal være uden gruppering\n",
    "#det er måske en lidt mærkelig measure egentlig?"
   ]
  },
  {
   "cell_type": "code",
   "execution_count": null,
   "metadata": {},
   "outputs": [
    {
     "data": {
      "text/html": [
       "<div>\n",
       "<style scoped>\n",
       "    .dataframe tbody tr th:only-of-type {\n",
       "        vertical-align: middle;\n",
       "    }\n",
       "\n",
       "    .dataframe tbody tr th {\n",
       "        vertical-align: top;\n",
       "    }\n",
       "\n",
       "    .dataframe thead th {\n",
       "        text-align: right;\n",
       "    }\n",
       "</style>\n",
       "<table border=\"1\" class=\"dataframe\">\n",
       "  <thead>\n",
       "    <tr style=\"text-align: right;\">\n",
       "      <th></th>\n",
       "      <th>count</th>\n",
       "      <th>mean</th>\n",
       "      <th>std</th>\n",
       "      <th>min</th>\n",
       "      <th>25%</th>\n",
       "      <th>50%</th>\n",
       "      <th>75%</th>\n",
       "      <th>max</th>\n",
       "    </tr>\n",
       "    <tr>\n",
       "      <th>type</th>\n",
       "      <th></th>\n",
       "      <th></th>\n",
       "      <th></th>\n",
       "      <th></th>\n",
       "      <th></th>\n",
       "      <th></th>\n",
       "      <th></th>\n",
       "      <th></th>\n",
       "    </tr>\n",
       "  </thead>\n",
       "  <tbody>\n",
       "    <tr>\n",
       "      <th>bias</th>\n",
       "      <td>6.0</td>\n",
       "      <td>6.491843</td>\n",
       "      <td>0.338671</td>\n",
       "      <td>6.076389</td>\n",
       "      <td>6.284308</td>\n",
       "      <td>6.453439</td>\n",
       "      <td>6.643863</td>\n",
       "      <td>7.032520</td>\n",
       "    </tr>\n",
       "    <tr>\n",
       "      <th>clickbait</th>\n",
       "      <td>1.0</td>\n",
       "      <td>6.130137</td>\n",
       "      <td>NaN</td>\n",
       "      <td>6.130137</td>\n",
       "      <td>6.130137</td>\n",
       "      <td>6.130137</td>\n",
       "      <td>6.130137</td>\n",
       "      <td>6.130137</td>\n",
       "    </tr>\n",
       "    <tr>\n",
       "      <th>conspiracy</th>\n",
       "      <td>31.0</td>\n",
       "      <td>6.562658</td>\n",
       "      <td>0.474517</td>\n",
       "      <td>5.445714</td>\n",
       "      <td>6.313938</td>\n",
       "      <td>6.537438</td>\n",
       "      <td>6.973795</td>\n",
       "      <td>7.255319</td>\n",
       "    </tr>\n",
       "    <tr>\n",
       "      <th>fake</th>\n",
       "      <td>155.0</td>\n",
       "      <td>6.444810</td>\n",
       "      <td>0.535648</td>\n",
       "      <td>5.062500</td>\n",
       "      <td>6.102689</td>\n",
       "      <td>6.500000</td>\n",
       "      <td>6.774144</td>\n",
       "      <td>7.776923</td>\n",
       "    </tr>\n",
       "    <tr>\n",
       "      <th>hate</th>\n",
       "      <td>1.0</td>\n",
       "      <td>6.782609</td>\n",
       "      <td>NaN</td>\n",
       "      <td>6.782609</td>\n",
       "      <td>6.782609</td>\n",
       "      <td>6.782609</td>\n",
       "      <td>6.782609</td>\n",
       "      <td>6.782609</td>\n",
       "    </tr>\n",
       "    <tr>\n",
       "      <th>junksci</th>\n",
       "      <td>6.0</td>\n",
       "      <td>6.979628</td>\n",
       "      <td>0.323195</td>\n",
       "      <td>6.666667</td>\n",
       "      <td>6.771919</td>\n",
       "      <td>6.838997</td>\n",
       "      <td>7.256150</td>\n",
       "      <td>7.388350</td>\n",
       "    </tr>\n",
       "    <tr>\n",
       "      <th>political</th>\n",
       "      <td>23.0</td>\n",
       "      <td>6.643682</td>\n",
       "      <td>0.347343</td>\n",
       "      <td>5.950000</td>\n",
       "      <td>6.522475</td>\n",
       "      <td>6.693215</td>\n",
       "      <td>6.854967</td>\n",
       "      <td>7.280899</td>\n",
       "    </tr>\n",
       "    <tr>\n",
       "      <th>reliable</th>\n",
       "      <td>3.0</td>\n",
       "      <td>6.496296</td>\n",
       "      <td>0.700029</td>\n",
       "      <td>5.800000</td>\n",
       "      <td>6.144444</td>\n",
       "      <td>6.488889</td>\n",
       "      <td>6.844444</td>\n",
       "      <td>7.200000</td>\n",
       "    </tr>\n",
       "    <tr>\n",
       "      <th>unknown</th>\n",
       "      <td>6.0</td>\n",
       "      <td>6.744350</td>\n",
       "      <td>0.471922</td>\n",
       "      <td>5.993007</td>\n",
       "      <td>6.472349</td>\n",
       "      <td>6.915233</td>\n",
       "      <td>7.071607</td>\n",
       "      <td>7.194175</td>\n",
       "    </tr>\n",
       "    <tr>\n",
       "      <th>unreliable</th>\n",
       "      <td>6.0</td>\n",
       "      <td>6.289632</td>\n",
       "      <td>0.507246</td>\n",
       "      <td>5.805825</td>\n",
       "      <td>6.032670</td>\n",
       "      <td>6.083671</td>\n",
       "      <td>6.432634</td>\n",
       "      <td>7.200000</td>\n",
       "    </tr>\n",
       "  </tbody>\n",
       "</table>\n",
       "</div>"
      ],
      "text/plain": [
       "            count      mean       std       min       25%       50%       75%  \\\n",
       "type                                                                            \n",
       "bias          6.0  6.491843  0.338671  6.076389  6.284308  6.453439  6.643863   \n",
       "clickbait     1.0  6.130137       NaN  6.130137  6.130137  6.130137  6.130137   \n",
       "conspiracy   31.0  6.562658  0.474517  5.445714  6.313938  6.537438  6.973795   \n",
       "fake        155.0  6.444810  0.535648  5.062500  6.102689  6.500000  6.774144   \n",
       "hate          1.0  6.782609       NaN  6.782609  6.782609  6.782609  6.782609   \n",
       "junksci       6.0  6.979628  0.323195  6.666667  6.771919  6.838997  7.256150   \n",
       "political    23.0  6.643682  0.347343  5.950000  6.522475  6.693215  6.854967   \n",
       "reliable      3.0  6.496296  0.700029  5.800000  6.144444  6.488889  6.844444   \n",
       "unknown       6.0  6.744350  0.471922  5.993007  6.472349  6.915233  7.071607   \n",
       "unreliable    6.0  6.289632  0.507246  5.805825  6.032670  6.083671  6.432634   \n",
       "\n",
       "                 max  \n",
       "type                  \n",
       "bias        7.032520  \n",
       "clickbait   6.130137  \n",
       "conspiracy  7.255319  \n",
       "fake        7.776923  \n",
       "hate        6.782609  \n",
       "junksci     7.388350  \n",
       "political   7.280899  \n",
       "reliable    7.200000  \n",
       "unknown     7.194175  \n",
       "unreliable  7.200000  "
      ]
     },
     "execution_count": 72,
     "metadata": {},
     "output_type": "execute_result"
    }
   ],
   "source": [
    "#news_data[\"mean_word_length\"].describe()\n",
    "news_data.groupby('type',observed=False)['mean_word_length'].describe()\n"
   ]
  },
  {
   "cell_type": "code",
   "execution_count": null,
   "metadata": {},
   "outputs": [
    {
     "name": "stderr",
     "output_type": "stream",
     "text": [
      "C:\\Users\\astri\\AppData\\Local\\Temp\\ipykernel_21128\\3536828274.py:2: FutureWarning: The default of observed=False is deprecated and will be changed to True in a future version of pandas. Pass observed=False to retain current behavior or observed=True to adopt the future default and silence this warning.\n",
      "  news_data.groupby('type')['unique_words_ratio'].describe()\n"
     ]
    },
    {
     "data": {
      "text/html": [
       "<div>\n",
       "<style scoped>\n",
       "    .dataframe tbody tr th:only-of-type {\n",
       "        vertical-align: middle;\n",
       "    }\n",
       "\n",
       "    .dataframe tbody tr th {\n",
       "        vertical-align: top;\n",
       "    }\n",
       "\n",
       "    .dataframe thead th {\n",
       "        text-align: right;\n",
       "    }\n",
       "</style>\n",
       "<table border=\"1\" class=\"dataframe\">\n",
       "  <thead>\n",
       "    <tr style=\"text-align: right;\">\n",
       "      <th></th>\n",
       "      <th>count</th>\n",
       "      <th>mean</th>\n",
       "      <th>std</th>\n",
       "      <th>min</th>\n",
       "      <th>25%</th>\n",
       "      <th>50%</th>\n",
       "      <th>75%</th>\n",
       "      <th>max</th>\n",
       "    </tr>\n",
       "    <tr>\n",
       "      <th>type</th>\n",
       "      <th></th>\n",
       "      <th></th>\n",
       "      <th></th>\n",
       "      <th></th>\n",
       "      <th></th>\n",
       "      <th></th>\n",
       "      <th></th>\n",
       "      <th></th>\n",
       "    </tr>\n",
       "  </thead>\n",
       "  <tbody>\n",
       "    <tr>\n",
       "      <th>bias</th>\n",
       "      <td>6.0</td>\n",
       "      <td>0.717553</td>\n",
       "      <td>0.086175</td>\n",
       "      <td>0.597855</td>\n",
       "      <td>0.652701</td>\n",
       "      <td>0.754286</td>\n",
       "      <td>0.774652</td>\n",
       "      <td>0.798611</td>\n",
       "    </tr>\n",
       "    <tr>\n",
       "      <th>clickbait</th>\n",
       "      <td>1.0</td>\n",
       "      <td>0.671233</td>\n",
       "      <td>NaN</td>\n",
       "      <td>0.671233</td>\n",
       "      <td>0.671233</td>\n",
       "      <td>0.671233</td>\n",
       "      <td>0.671233</td>\n",
       "      <td>0.671233</td>\n",
       "    </tr>\n",
       "    <tr>\n",
       "      <th>conspiracy</th>\n",
       "      <td>31.0</td>\n",
       "      <td>0.721893</td>\n",
       "      <td>0.083821</td>\n",
       "      <td>0.576577</td>\n",
       "      <td>0.662572</td>\n",
       "      <td>0.706383</td>\n",
       "      <td>0.750000</td>\n",
       "      <td>0.941176</td>\n",
       "    </tr>\n",
       "    <tr>\n",
       "      <th>fake</th>\n",
       "      <td>155.0</td>\n",
       "      <td>0.706153</td>\n",
       "      <td>0.136763</td>\n",
       "      <td>0.325095</td>\n",
       "      <td>0.623656</td>\n",
       "      <td>0.693820</td>\n",
       "      <td>0.803425</td>\n",
       "      <td>1.000000</td>\n",
       "    </tr>\n",
       "    <tr>\n",
       "      <th>hate</th>\n",
       "      <td>1.0</td>\n",
       "      <td>0.956522</td>\n",
       "      <td>NaN</td>\n",
       "      <td>0.956522</td>\n",
       "      <td>0.956522</td>\n",
       "      <td>0.956522</td>\n",
       "      <td>0.956522</td>\n",
       "      <td>0.956522</td>\n",
       "    </tr>\n",
       "    <tr>\n",
       "      <th>junksci</th>\n",
       "      <td>6.0</td>\n",
       "      <td>0.721669</td>\n",
       "      <td>0.137005</td>\n",
       "      <td>0.639769</td>\n",
       "      <td>0.669903</td>\n",
       "      <td>0.672030</td>\n",
       "      <td>0.675751</td>\n",
       "      <td>1.000000</td>\n",
       "    </tr>\n",
       "    <tr>\n",
       "      <th>political</th>\n",
       "      <td>23.0</td>\n",
       "      <td>0.716906</td>\n",
       "      <td>0.116851</td>\n",
       "      <td>0.508058</td>\n",
       "      <td>0.621247</td>\n",
       "      <td>0.740000</td>\n",
       "      <td>0.817720</td>\n",
       "      <td>0.900000</td>\n",
       "    </tr>\n",
       "    <tr>\n",
       "      <th>reliable</th>\n",
       "      <td>3.0</td>\n",
       "      <td>0.712394</td>\n",
       "      <td>0.076441</td>\n",
       "      <td>0.659259</td>\n",
       "      <td>0.668591</td>\n",
       "      <td>0.677922</td>\n",
       "      <td>0.738961</td>\n",
       "      <td>0.800000</td>\n",
       "    </tr>\n",
       "    <tr>\n",
       "      <th>unknown</th>\n",
       "      <td>6.0</td>\n",
       "      <td>0.593096</td>\n",
       "      <td>0.100929</td>\n",
       "      <td>0.430859</td>\n",
       "      <td>0.541534</td>\n",
       "      <td>0.628219</td>\n",
       "      <td>0.644633</td>\n",
       "      <td>0.708535</td>\n",
       "    </tr>\n",
       "    <tr>\n",
       "      <th>unreliable</th>\n",
       "      <td>6.0</td>\n",
       "      <td>0.757909</td>\n",
       "      <td>0.192054</td>\n",
       "      <td>0.570732</td>\n",
       "      <td>0.630909</td>\n",
       "      <td>0.680110</td>\n",
       "      <td>0.921525</td>\n",
       "      <td>1.000000</td>\n",
       "    </tr>\n",
       "  </tbody>\n",
       "</table>\n",
       "</div>"
      ],
      "text/plain": [
       "            count      mean       std       min       25%       50%       75%  \\\n",
       "type                                                                            \n",
       "bias          6.0  0.717553  0.086175  0.597855  0.652701  0.754286  0.774652   \n",
       "clickbait     1.0  0.671233       NaN  0.671233  0.671233  0.671233  0.671233   \n",
       "conspiracy   31.0  0.721893  0.083821  0.576577  0.662572  0.706383  0.750000   \n",
       "fake        155.0  0.706153  0.136763  0.325095  0.623656  0.693820  0.803425   \n",
       "hate          1.0  0.956522       NaN  0.956522  0.956522  0.956522  0.956522   \n",
       "junksci       6.0  0.721669  0.137005  0.639769  0.669903  0.672030  0.675751   \n",
       "political    23.0  0.716906  0.116851  0.508058  0.621247  0.740000  0.817720   \n",
       "reliable      3.0  0.712394  0.076441  0.659259  0.668591  0.677922  0.738961   \n",
       "unknown       6.0  0.593096  0.100929  0.430859  0.541534  0.628219  0.644633   \n",
       "unreliable    6.0  0.757909  0.192054  0.570732  0.630909  0.680110  0.921525   \n",
       "\n",
       "                 max  \n",
       "type                  \n",
       "bias        0.798611  \n",
       "clickbait   0.671233  \n",
       "conspiracy  0.941176  \n",
       "fake        1.000000  \n",
       "hate        0.956522  \n",
       "junksci     1.000000  \n",
       "political   0.900000  \n",
       "reliable    0.800000  \n",
       "unknown     0.708535  \n",
       "unreliable  1.000000  "
      ]
     },
     "execution_count": 75,
     "metadata": {},
     "output_type": "execute_result"
    }
   ],
   "source": [
    "news_data['unique_words_ratio']=content_column_no_stopwords.apply(lambda x:unique_words_ratio(x))\n",
    "news_data.groupby('type')['unique_words_ratio'].describe()"
   ]
  },
  {
   "cell_type": "code",
   "execution_count": null,
   "metadata": {},
   "outputs": [
    {
     "data": {
      "text/plain": [
       "simple_type\n",
       "fake        Axes(0.125,0.11;0.775x0.77)\n",
       "reliable    Axes(0.125,0.11;0.775x0.77)\n",
       "unknown     Axes(0.125,0.11;0.775x0.77)\n",
       "Name: unique_words_ratio, dtype: object"
      ]
     },
     "execution_count": 86,
     "metadata": {},
     "output_type": "execute_result"
    },
    {
     "data": {
      "image/png": "[encoded data removed]",
      "text/plain": [
       "<Figure size 640x480 with 1 Axes>"
      ]
     },
     "metadata": {},
     "output_type": "display_data"
    }
   ],
   "source": [
    "news_data.groupby('simple_type',observed=False)[\"unique_words_ratio\"].plot(kind='hist',bins=20,title=\"Distribution of unique word ratio\",legend=list(\"simple_type\"))"
   ]
  },
  {
   "cell_type": "code",
   "execution_count": null,
   "metadata": {},
   "outputs": [
    {
     "data": {
      "text/plain": [
       "simple_type\n",
       "fake        Axes(0.125,0.11;0.775x0.77)\n",
       "reliable    Axes(0.125,0.11;0.775x0.77)\n",
       "unknown     Axes(0.125,0.11;0.775x0.77)\n",
       "Name: length, dtype: object"
      ]
     },
     "execution_count": 87,
     "metadata": {},
     "output_type": "execute_result"
    },
    {
     "data": {
      "image/png": "[encoded data removed]",
      "text/plain": [
       "<Figure size 640x480 with 1 Axes>"
      ]
     },
     "metadata": {},
     "output_type": "display_data"
    }
   ],
   "source": [
    "news_data[\"length\"]=news_data[\"content_no_stopwords\"].apply(lambda x: len(x))\n",
    "news_data.groupby('simple_type',observed=False)[\"length\"].plot(kind='hist',bins=20,title=\"Distribution of length of articles\",legend=list(\"simple_type\"))"
   ]
  },
  {
   "cell_type": "code",
   "execution_count": null,
   "metadata": {},
   "outputs": [
    {
     "name": "stdout",
     "output_type": "stream",
     "text": [
      "\"trump\" mention, fake: 0.8516129032258064\n",
      "\"trump\" mention, reliable: 0.0\n",
      "\"reseach\" mention, fake: 0.16129032258064516\n",
      "\"reseach\" mention, reliable: 0.3333333333333333\n"
     ]
    }
   ],
   "source": [
    "#vil gerne have et histogran, der markerer for nogle bestemte ord, hvor stor en andel af artiklerne i kategorierne der indeholder ordet\n",
    "news_data['content_no_stopwords']=content_column_no_stopwords\n",
    "news_data['content_stemmed']=content_column_stemmed\n",
    "\n",
    "#how many articles out of all articles mentions the topic?\n",
    "def mention_ratio(topic,type):\n",
    "    #gives mention ratio for whole column\n",
    "    count = 0\n",
    "    for field in news_data[news_data.type==type]['content_no_stopwords']:\n",
    "        if topic in field:\n",
    "            count+=1\n",
    "    return count/len(news_data[news_data.type==type])\n",
    "    #man kunne måske også få en fordeling?\n",
    "\n",
    "print('\"trump\" mention, fake:', mention_ratio(\"trump\",\"fake\"))\n",
    "print('\"trump\" mention, reliable:', mention_ratio(\"trump\",\"reliable\"))\n",
    "print('\"reseach\" mention, fake:', mention_ratio(\"research\",\"fake\"))\n",
    "print('\"reseach\" mention, reliable:', mention_ratio(\"research\",\"reliable\"))\n",
    "#man kan lave nogle flere"
   ]
  },
  {
   "cell_type": "code",
   "execution_count": null,
   "metadata": {},
   "outputs": [
    {
     "data": {
      "text/plain": [
       "simple_type\n",
       "fake        Axes(0.125,0.11;0.775x0.77)\n",
       "reliable    Axes(0.125,0.11;0.775x0.77)\n",
       "unknown     Axes(0.125,0.11;0.775x0.77)\n",
       "Name: numbers, dtype: object"
      ]
     },
     "execution_count": 95,
     "metadata": {},
     "output_type": "execute_result"
    },
    {
     "data": {
      "image/png": "[encoded data removed]",
      "text/plain": [
       "<Figure size 640x480 with 1 Axes>"
      ]
     },
     "metadata": {},
     "output_type": "display_data"
    }
   ],
   "source": [
    "#count number of numbers\n",
    "news_data[\"numbers\"]=news_data[\"content_stemmed\"].apply(lambda x:Counter(x)[\"number\"])\n",
    "news_data.groupby('simple_type',observed=False)[\"numbers\"].plot(kind='hist',bins=20,title=\"Distribution of number of numbers in articles\",legend=list(\"simple_type\"))\n"
   ]
  },
  {
   "cell_type": "code",
   "execution_count": null,
   "metadata": {},
   "outputs": [
    {
     "name": "stdout",
     "output_type": "stream",
     "text": [
      "['Unnamed: 0', 'id', 'domain', 'type', 'url', 'content', 'scraped_at', 'inserted_at', 'updated_at', 'title', 'authors', 'keywords', 'meta_keywords', 'meta_description', 'tags', 'summary', 'simple_type', 'mean_word_length', 'unique_words_ratio', 'content_no_stopwords', 'content_stemmed', 'length', 'numbers']\n"
     ]
    }
   ],
   "source": [
    "news_data.to_csv('small_datasetprocessed.csv', index=True)\n",
    "print(list(news_data))"
   ]
  }
 ],
 "metadata": {
  "kernelspec": {
   "display_name": "my_environment",
   "language": "python",
   "name": "python3"
  },
  "language_info": {
   "codemirror_mode": {
    "name": "ipython",
    "version": 3
   },
   "file_extension": ".py",
   "mimetype": "text/x-python",
   "name": "python",
   "nbconvert_exporter": "python",
   "pygments_lexer": "ipython3",
   "version": "3.11.5"
  }
 },
 "nbformat": 4,
 "nbformat_minor": 2
}
