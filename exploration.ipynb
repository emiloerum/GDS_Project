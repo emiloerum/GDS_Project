{
 "cells": [
  {
   "cell_type": "code",
   "execution_count": 3,
   "metadata": {},
   "outputs": [
    {
     "name": "stderr",
     "output_type": "stream",
     "text": [
      "C:\\Users\\astri\\AppData\\Local\\Temp\\ipykernel_1784\\1629638367.py:1: DeprecationWarning: \n",
      "Pyarrow will become a required dependency of pandas in the next major release of pandas (pandas 3.0),\n",
      "(to allow more performant data types, such as the Arrow string type, and better interoperability with other libraries)\n",
      "but was not found to be installed on your system.\n",
      "If this would cause problems for you,\n",
      "please provide us feedback at https://github.com/pandas-dev/pandas/issues/54466\n",
      "        \n",
      "  import pandas as pd\n"
     ]
    }
   ],
   "source": [
    "import pandas as pd\n",
    "from collections import Counter\n",
    "from ast import literal_eval\n"
   ]
  },
  {
   "cell_type": "code",
   "execution_count": 4,
   "metadata": {},
   "outputs": [
    {
     "name": "stderr",
     "output_type": "stream",
     "text": [
      "C:\\Users\\astri\\AppData\\Local\\Temp\\ipykernel_1784\\2110240922.py:1: DtypeWarning: Columns (0,1) have mixed types. Specify dtype option on import or set low_memory=False.\n",
      "  data = pd.read_csv('large_dataset_cleaned.csv', low_memory=True)\n"
     ]
    }
   ],
   "source": [
    "data = pd.read_csv('large_dataset_cleaned.csv', low_memory=True)"
   ]
  },
  {
   "cell_type": "code",
   "execution_count": 5,
   "metadata": {},
   "outputs": [],
   "source": [
    "data[\"content\"]=data[\"content\"].apply(lambda x:literal_eval(x))"
   ]
  },
  {
   "cell_type": "code",
   "execution_count": null,
   "metadata": {},
   "outputs": [],
   "source": []
  },
  {
   "cell_type": "code",
   "execution_count": null,
   "metadata": {},
   "outputs": [],
   "source": [
    "print(data[\"content\"][0][0])"
   ]
  },
  {
   "cell_type": "code",
   "execution_count": 8,
   "metadata": {},
   "outputs": [
    {
     "name": "stdout",
     "output_type": "stream",
     "text": [
      "type\n",
      "reliable                      218564\n",
      "political                     194518\n",
      "bias                          133232\n",
      "fake                          104883\n",
      "conspiracy                     97314\n",
      "rumor                          56445\n",
      "unknown                        43534\n",
      "unreliable                     35332\n",
      "clickbait                      27412\n",
      "junksci                        14040\n",
      "satire                         13160\n",
      "hate                            8779\n",
      "2018-02-10 13:43:39.521661         1\n",
      "Name: count, dtype: int64\n",
      "simple_type\n",
      "unknown     491121\n",
      "fake        237529\n",
      "reliable    218564\n",
      "Name: count, dtype: int64\n"
     ]
    }
   ],
   "source": [
    "#træk informations-kategori og content ud i én dataframe\n",
    "article_type = data['type']\n",
    "data['type'] = data['type'].astype('category')\n",
    "\n",
    "fakenews = set(['unreliable', 'fake', 'conspiracy'])\n",
    "#overskydende er reliable, nan og unknown\n",
    "def label_news(field):\n",
    "    '''function for labeling news articles as either fake, reliable or unknown'''\n",
    "    if field in fakenews:\n",
    "        return 'fake'\n",
    "    elif field == 'reliable':\n",
    "        return 'reliable'\n",
    "    else:\n",
    "        return 'unknown'\n",
    "\n",
    "data['simple_type'] = data['type'].apply(lambda x:label_news(x)).astype('category') #laver en ny kolonne med lidt simplere kategorier\n",
    "\n",
    "print(data['type'].value_counts())\n",
    "data[\"type\"].to_frame().value_counts().plot(kind='bar',ylabel=\"count\",title=\"Distribution of types\")\n",
    "print(data['simple_type'].value_counts())"
   ]
  },
  {
   "cell_type": "markdown",
   "metadata": {},
   "source": [
    "Exploration uden cleaning"
   ]
  },
  {
   "cell_type": "code",
   "execution_count": 4,
   "metadata": {},
   "outputs": [
    {
     "name": "stdout",
     "output_type": "stream",
     "text": [
      "scraping time statistics:\n",
      " count                         994987\n",
      "unique                        214961\n",
      "top       2018-01-25 20:13:50.426130\n",
      "freq                          121551\n",
      "Name: scraped_at, dtype: object\n"
     ]
    },
    {
     "data": {
      "text/plain": [
       "<Axes: title={'center': 'Distribution of scraping times'}, xlabel='scraped_at', ylabel='count'>"
      ]
     },
     "execution_count": 4,
     "metadata": {},
     "output_type": "execute_result"
    },
    {
     "data": {
      "image/png": "[encoded data removed]",
      "text/plain": [
       "<Figure size 640x480 with 1 Axes>"
      ]
     },
     "metadata": {},
     "output_type": "display_data"
    }
   ],
   "source": [
    "#More  exploration\n",
    "print(\"scraping time statistics:\\n\", data['scraped_at'].describe())\n",
    "#data[\"scraped_at\"].to_frame().value_counts().plot(kind='bar',ylabel=\"count\",title=\"Distribution of scraping times\",xticks=[])\n",
    "#dvs de er alle sammen indsamlet i 2018\n",
    "#obs: det virker ikke muligt at finde ud af præcis hvornår hver enkelt artikel er fra? Det virker vigtigt"
   ]
  },
  {
   "cell_type": "code",
   "execution_count": 5,
   "metadata": {},
   "outputs": [
    {
     "name": "stdout",
     "output_type": "stream",
     "text": [
      "authors:\n",
      " count                                                552243\n",
      "unique                                                99957\n",
      "top       Backgroundurl Avatar_Large, Nickname, Joined, ...\n",
      "freq                                                  61398\n",
      "Name: authors, dtype: object\n"
     ]
    }
   ],
   "source": [
    "print(\"authors:\\n\", data['authors'].describe())\n",
    "#data['authors'].to_frame().value_counts().plot(kind='bar',xticks=[])"
   ]
  },
  {
   "cell_type": "code",
   "execution_count": 6,
   "metadata": {},
   "outputs": [
    {
     "name": "stdout",
     "output_type": "stream",
     "text": [
      "\n",
      "domains:\n",
      " count          994989\n",
      "unique            683\n",
      "top       nytimes.com\n",
      "freq           176144\n",
      "Name: domain, dtype: object\n"
     ]
    }
   ],
   "source": [
    "print(\"\\ndomains:\\n\", data['domain'].describe())\n",
    "#data['domain'].to_frame().value_counts().plot(kind='bar',ylabel=\"count\",xticks=[],title=\"Distribution of domains\")\n",
    "#obs: 155 af data kommer fra den samme, og generelt ikke særligt velfordelte kilder\n"
   ]
  },
  {
   "cell_type": "code",
   "execution_count": null,
   "metadata": {},
   "outputs": [],
   "source": [
    "data[\"numbers\"]=data[\"content\"].apply(lambda x:Counter(x)[\"number\"])\n",
    "data[\"numbers\"].describe()"
   ]
  },
  {
   "cell_type": "markdown",
   "metadata": {},
   "source": [
    "Exploration post cleaning"
   ]
  },
  {
   "cell_type": "code",
   "execution_count": 23,
   "metadata": {},
   "outputs": [],
   "source": [
    "#Længde på ord, middelværdi og spredning\n",
    "#alle plots kan også laves uden group-by hvis inddelingen ikke er så interessant\n",
    "#vocabulary size/antal ord, middelværdi og spredning\n",
    "def mean_length_of_words(wordlist):\n",
    "    totallength = 0\n",
    "    wordcount = 0\n",
    "    for word in wordlist:\n",
    "        totallength = totallength + len(str(word))\n",
    "        wordcount+=1\n",
    "    return totallength/len(wordlist)\n",
    "\n",
    "def unique_words_ratio(wordlist):\n",
    "    count = 0\n",
    "    words = {}\n",
    "    for word in wordlist:\n",
    "        if word not in words:\n",
    "            words[word]=1\n",
    "            count +=1\n",
    "    return count/len(wordlist)"
   ]
  },
  {
   "cell_type": "code",
   "execution_count": 9,
   "metadata": {},
   "outputs": [
    {
     "data": {
      "text/html": [
       "<div>\n",
       "<style scoped>\n",
       "    .dataframe tbody tr th:only-of-type {\n",
       "        vertical-align: middle;\n",
       "    }\n",
       "\n",
       "    .dataframe tbody tr th {\n",
       "        vertical-align: top;\n",
       "    }\n",
       "\n",
       "    .dataframe thead th {\n",
       "        text-align: right;\n",
       "    }\n",
       "</style>\n",
       "<table border=\"1\" class=\"dataframe\">\n",
       "  <thead>\n",
       "    <tr style=\"text-align: right;\">\n",
       "      <th></th>\n",
       "      <th>count</th>\n",
       "      <th>mean</th>\n",
       "      <th>std</th>\n",
       "      <th>min</th>\n",
       "      <th>25%</th>\n",
       "      <th>50%</th>\n",
       "      <th>75%</th>\n",
       "      <th>max</th>\n",
       "    </tr>\n",
       "    <tr>\n",
       "      <th>type</th>\n",
       "      <th></th>\n",
       "      <th></th>\n",
       "      <th></th>\n",
       "      <th></th>\n",
       "      <th></th>\n",
       "      <th></th>\n",
       "      <th></th>\n",
       "      <th></th>\n",
       "    </tr>\n",
       "  </thead>\n",
       "  <tbody>\n",
       "    <tr>\n",
       "      <th>2018-02-10 13:43:39.521661</th>\n",
       "      <td>1.0</td>\n",
       "      <td>1.0</td>\n",
       "      <td>NaN</td>\n",
       "      <td>1.0</td>\n",
       "      <td>1.0</td>\n",
       "      <td>1.0</td>\n",
       "      <td>1.0</td>\n",
       "      <td>1.0</td>\n",
       "    </tr>\n",
       "    <tr>\n",
       "      <th>bias</th>\n",
       "      <td>133232.0</td>\n",
       "      <td>1.0</td>\n",
       "      <td>0.0</td>\n",
       "      <td>1.0</td>\n",
       "      <td>1.0</td>\n",
       "      <td>1.0</td>\n",
       "      <td>1.0</td>\n",
       "      <td>1.0</td>\n",
       "    </tr>\n",
       "    <tr>\n",
       "      <th>clickbait</th>\n",
       "      <td>27412.0</td>\n",
       "      <td>1.0</td>\n",
       "      <td>0.0</td>\n",
       "      <td>1.0</td>\n",
       "      <td>1.0</td>\n",
       "      <td>1.0</td>\n",
       "      <td>1.0</td>\n",
       "      <td>1.0</td>\n",
       "    </tr>\n",
       "    <tr>\n",
       "      <th>conspiracy</th>\n",
       "      <td>97314.0</td>\n",
       "      <td>1.0</td>\n",
       "      <td>0.0</td>\n",
       "      <td>1.0</td>\n",
       "      <td>1.0</td>\n",
       "      <td>1.0</td>\n",
       "      <td>1.0</td>\n",
       "      <td>1.0</td>\n",
       "    </tr>\n",
       "    <tr>\n",
       "      <th>fake</th>\n",
       "      <td>104883.0</td>\n",
       "      <td>1.0</td>\n",
       "      <td>0.0</td>\n",
       "      <td>1.0</td>\n",
       "      <td>1.0</td>\n",
       "      <td>1.0</td>\n",
       "      <td>1.0</td>\n",
       "      <td>1.0</td>\n",
       "    </tr>\n",
       "    <tr>\n",
       "      <th>hate</th>\n",
       "      <td>8779.0</td>\n",
       "      <td>1.0</td>\n",
       "      <td>0.0</td>\n",
       "      <td>1.0</td>\n",
       "      <td>1.0</td>\n",
       "      <td>1.0</td>\n",
       "      <td>1.0</td>\n",
       "      <td>1.0</td>\n",
       "    </tr>\n",
       "    <tr>\n",
       "      <th>junksci</th>\n",
       "      <td>14040.0</td>\n",
       "      <td>1.0</td>\n",
       "      <td>0.0</td>\n",
       "      <td>1.0</td>\n",
       "      <td>1.0</td>\n",
       "      <td>1.0</td>\n",
       "      <td>1.0</td>\n",
       "      <td>1.0</td>\n",
       "    </tr>\n",
       "    <tr>\n",
       "      <th>political</th>\n",
       "      <td>194518.0</td>\n",
       "      <td>1.0</td>\n",
       "      <td>0.0</td>\n",
       "      <td>1.0</td>\n",
       "      <td>1.0</td>\n",
       "      <td>1.0</td>\n",
       "      <td>1.0</td>\n",
       "      <td>1.0</td>\n",
       "    </tr>\n",
       "    <tr>\n",
       "      <th>reliable</th>\n",
       "      <td>218564.0</td>\n",
       "      <td>1.0</td>\n",
       "      <td>0.0</td>\n",
       "      <td>1.0</td>\n",
       "      <td>1.0</td>\n",
       "      <td>1.0</td>\n",
       "      <td>1.0</td>\n",
       "      <td>1.0</td>\n",
       "    </tr>\n",
       "    <tr>\n",
       "      <th>rumor</th>\n",
       "      <td>56445.0</td>\n",
       "      <td>1.0</td>\n",
       "      <td>0.0</td>\n",
       "      <td>1.0</td>\n",
       "      <td>1.0</td>\n",
       "      <td>1.0</td>\n",
       "      <td>1.0</td>\n",
       "      <td>1.0</td>\n",
       "    </tr>\n",
       "    <tr>\n",
       "      <th>satire</th>\n",
       "      <td>13160.0</td>\n",
       "      <td>1.0</td>\n",
       "      <td>0.0</td>\n",
       "      <td>1.0</td>\n",
       "      <td>1.0</td>\n",
       "      <td>1.0</td>\n",
       "      <td>1.0</td>\n",
       "      <td>1.0</td>\n",
       "    </tr>\n",
       "    <tr>\n",
       "      <th>unknown</th>\n",
       "      <td>43534.0</td>\n",
       "      <td>1.0</td>\n",
       "      <td>0.0</td>\n",
       "      <td>1.0</td>\n",
       "      <td>1.0</td>\n",
       "      <td>1.0</td>\n",
       "      <td>1.0</td>\n",
       "      <td>1.0</td>\n",
       "    </tr>\n",
       "    <tr>\n",
       "      <th>unreliable</th>\n",
       "      <td>35332.0</td>\n",
       "      <td>1.0</td>\n",
       "      <td>0.0</td>\n",
       "      <td>1.0</td>\n",
       "      <td>1.0</td>\n",
       "      <td>1.0</td>\n",
       "      <td>1.0</td>\n",
       "      <td>1.0</td>\n",
       "    </tr>\n",
       "  </tbody>\n",
       "</table>\n",
       "</div>"
      ],
      "text/plain": [
       "                               count  mean  std  min  25%  50%  75%  max\n",
       "type                                                                    \n",
       "2018-02-10 13:43:39.521661       1.0   1.0  NaN  1.0  1.0  1.0  1.0  1.0\n",
       "bias                        133232.0   1.0  0.0  1.0  1.0  1.0  1.0  1.0\n",
       "clickbait                    27412.0   1.0  0.0  1.0  1.0  1.0  1.0  1.0\n",
       "conspiracy                   97314.0   1.0  0.0  1.0  1.0  1.0  1.0  1.0\n",
       "fake                        104883.0   1.0  0.0  1.0  1.0  1.0  1.0  1.0\n",
       "hate                          8779.0   1.0  0.0  1.0  1.0  1.0  1.0  1.0\n",
       "junksci                      14040.0   1.0  0.0  1.0  1.0  1.0  1.0  1.0\n",
       "political                   194518.0   1.0  0.0  1.0  1.0  1.0  1.0  1.0\n",
       "reliable                    218564.0   1.0  0.0  1.0  1.0  1.0  1.0  1.0\n",
       "rumor                        56445.0   1.0  0.0  1.0  1.0  1.0  1.0  1.0\n",
       "satire                       13160.0   1.0  0.0  1.0  1.0  1.0  1.0  1.0\n",
       "unknown                      43534.0   1.0  0.0  1.0  1.0  1.0  1.0  1.0\n",
       "unreliable                   35332.0   1.0  0.0  1.0  1.0  1.0  1.0  1.0"
      ]
     },
     "execution_count": 9,
     "metadata": {},
     "output_type": "execute_result"
    }
   ],
   "source": [
    "data['mean_word_length']=data[\"content\"].apply(lambda x:mean_length_of_words(x))\n",
    "data.groupby('type',observed=False)['mean_word_length'].describe()"
   ]
  },
  {
   "cell_type": "code",
   "execution_count": null,
   "metadata": {},
   "outputs": [],
   "source": [
    "data.groupby('simple_type',observed=False)['mean_word_length'].describe()"
   ]
  },
  {
   "cell_type": "code",
   "execution_count": null,
   "metadata": {},
   "outputs": [],
   "source": [
    "data['unique_words_ratio']=data[\"content\"].apply(lambda x:unique_words_ratio(x))\n",
    "data.groupby('type')['unique_words_ratio'].describe()"
   ]
  },
  {
   "cell_type": "code",
   "execution_count": null,
   "metadata": {},
   "outputs": [],
   "source": [
    "data.groupby('simple_type')['unique_words_ratio'].describe()"
   ]
  },
  {
   "cell_type": "code",
   "execution_count": null,
   "metadata": {},
   "outputs": [],
   "source": [
    "data[\"length\"]=data[\"content\"].apply(lambda x: len(x))\n",
    "data.groupby('type')['length'].describe()\n"
   ]
  },
  {
   "cell_type": "code",
   "execution_count": null,
   "metadata": {},
   "outputs": [],
   "source": [
    "data.groupby('simple_type')['length'].describe()"
   ]
  },
  {
   "cell_type": "markdown",
   "metadata": {},
   "source": [
    "Baseline"
   ]
  },
  {
   "cell_type": "code",
   "execution_count": null,
   "metadata": {},
   "outputs": [],
   "source": [
    "from sklearn.model_selection import train_test_split\n",
    "from sklearn.model_selection import train_test_split\n",
    "from sklearn.linear_model import LogisticRegression\n",
    "from sklearn.metrics import accuracy_score\n",
    "from sklearn.model_selection import GridSearchCV\n",
    "from sklearn import svm\n",
    "\n",
    "#getting relevant variebles for modelling\n",
    "relevant = ['fake','reliable']\n",
    "\n",
    "data = data[data[\"simple_type\"].isin(relevant) == True] #fjerne ikke-relevante rækker, simple type tracker definitionen af fake news \n",
    "print(\"row count after removal:\", len(data))\n",
    "\n",
    "X = data.drop([\"type\"],axis=1).drop([\"simple_type\"],axis=1) #lav x-vector\n",
    "y = data[\"simple_type\"] #lav target-vector\n",
    "\n",
    "X_train, X_val, y_train, y_val= train_test_split(X,y,test_size=0.2,random_state=0,shuffle=True)\n",
    "X_val, X_test, y_val, y_test = train_test_split(X_val,y_val, test_size=0.5,random_state=0,shuffle=True)\n",
    "\n",
    "#lav numerisk target-vector\n",
    "def bin_target(x):\n",
    "    if x==\"reliable\":\n",
    "        return 0\n",
    "    if x==\"fake\":\n",
    "        return 1\n",
    "\n",
    "bin_y_train = y_train.apply(lambda x:bin_target(x)) #get binary target\n",
    "bin_y_test = y_test.apply(lambda x:bin_target(x)) #get binary target\n",
    "\n",
    " "
   ]
  },
  {
   "cell_type": "code",
   "execution_count": null,
   "metadata": {},
   "outputs": [],
   "source": [
    "#baseline: logistic regression where x is length of article\n",
    "article_length_train = pd.DataFrame(X_train[\"content\"].apply(lambda x: len(x))) #get feature with length of article (overvej om det er stemmed man skal gøre det på?)\n",
    "article_length_test = pd.DataFrame(X_test[\"content\"].apply(lambda x: len(x))) #get feature with length of article (overvej om det er stemmed man skal gøre det på?)\n",
    "\n",
    "def gridSearch(solver,penalties,data,target):\n",
    "    model = LogisticRegression()\n",
    "    parameters = {'solver' : solver,'penalty': penalties, 'C' : [0.001, 0.01, 0.1, 1.0, 10]}\n",
    "    clf = GridSearchCV(model, parameters, scoring='accuracy', cv=5)\n",
    "    clf.fit(data,target)\n",
    "    return clf\n",
    "\n",
    "articlelen1 = gridSearch([\"liblinear\"], [\"l2\",\"l2\"], pd.DataFrame(article_length_train), bin_y_train)\n",
    "articlelen2 = gridSearch([\"newton-cg\", \"sag\",\"lbfgs\"], [\"l2\",\"None\"],pd.DataFrame(article_length_train), bin_y_train)\n",
    "articlelen3 = gridSearch([\"saga\"], [\"elastic-net\",\"l1\",\"l2\",\"None\"], pd.DataFrame(article_length_train), bin_y_train)\n",
    "\n",
    "baselines = [articlelen1,articlelen2,articlelen3]\n",
    "#for baseline in baselines:\n",
    "#    bestscore = 0\n",
    "#    bestmodel = articlelen1\n",
    "#    if baseline.best_score_>bestscore:\n",
    "#        bestscore = baseline.best_score_\n",
    "#        bestmodel = baseline.best_params_\n",
    "\n",
    "#print('Baseline model is logistic regression with parameters ',bestmodel)\n",
    "#print(\"with accuracy:\", bestscore)\n"
   ]
  },
  {
   "cell_type": "code",
   "execution_count": null,
   "metadata": {},
   "outputs": [],
   "source": [
    "results_df = pd.DataFrame(baselines)\n",
    "results_df = results_df.sort_values(by=[\"rank_test_score\"])\n",
    "results_df = results_df.set_index(\n",
    "    results_df[\"params\"].apply(lambda x: \"_\".join(str(val) for val in x.values()))\n",
    ").rename_axis(\"kernel\")\n",
    "results_df[[\"params\", \"rank_test_score\", \"mean_test_score\", \"std_test_score\"]]"
   ]
  },
  {
   "cell_type": "code",
   "execution_count": null,
   "metadata": {},
   "outputs": [],
   "source": [
    "from itertools import combinations\n",
    "from math import factorial\n",
    "from scipy.stats import t\n",
    "import numpy as np\n",
    "#forsøg på at kontrollere for multiple comparison\n",
    "\n",
    "pairwise_bayesian = []\n",
    "model_scores = results_df.filter(regex=r\"split\\d*_test_score\")\n",
    "\n",
    "model_1_scores = model_scores.iloc[0].values  # scores of the best model\n",
    "model_2_scores = model_scores.iloc[1].values  # scores of the second-best model\n",
    "\n",
    "differences = model_1_scores - model_2_scores\n",
    "\n",
    "n = differences.shape[0]  # number of test sets\n",
    "df = n - 1\n",
    "\n",
    "def corrected_std(differences, n_train, n_test):\n",
    "    kr = len(differences)\n",
    "    corrected_var = np.var(differences, ddof=1) * (1 / kr + n_test / n_train)\n",
    "    corrected_std = np.sqrt(corrected_var)\n",
    "    return corrected_std\n",
    "\n",
    "rope_interval = [-0.01, 0.01]\n",
    "\n",
    "\n",
    "for model_i, model_k in combinations(range(len(model_scores)), 2):\n",
    "    model_i_scores = model_scores.iloc[model_i].values\n",
    "    model_k_scores = model_scores.iloc[model_k].values\n",
    "    differences = model_i_scores - model_k_scores\n",
    "    t_post = t(\n",
    "        df, loc=np.mean(differences), scale=corrected_std(differences, article_length_train, article_length_test)\n",
    "    )\n",
    "    worse_prob = t_post.cdf(rope_interval[0])\n",
    "    better_prob = 1 - t_post.cdf(rope_interval[1])\n",
    "    rope_prob = t_post.cdf(rope_interval[1]) - t_post.cdf(rope_interval[0])\n",
    "\n",
    "    pairwise_bayesian.append([worse_prob, better_prob, rope_prob])\n",
    "\n",
    "pairwise_bayesian_df = pd.DataFrame(\n",
    "    pairwise_bayesian, columns=[\"worse_prob\", \"better_prob\", \"rope_prob\"]\n",
    ").round(3)\n",
    "\n",
    "pairwise_bayesian_df"
   ]
  },
  {
   "cell_type": "code",
   "execution_count": null,
   "metadata": {},
   "outputs": [],
   "source": []
  }
 ],
 "metadata": {
  "kernelspec": {
   "display_name": "base",
   "language": "python",
   "name": "python3"
  },
  "language_info": {
   "codemirror_mode": {
    "name": "ipython",
    "version": 3
   },
   "file_extension": ".py",
   "mimetype": "text/x-python",
   "name": "python",
   "nbconvert_exporter": "python",
   "pygments_lexer": "ipython3",
   "version": "3.11.5"
  }
 },
 "nbformat": 4,
 "nbformat_minor": 2
}
