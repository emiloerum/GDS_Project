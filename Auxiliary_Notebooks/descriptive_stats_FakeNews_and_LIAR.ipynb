{
 "cells": [
  {
   "cell_type": "code",
   "execution_count": 1,
   "metadata": {},
   "outputs": [
    {
     "name": "stderr",
     "output_type": "stream",
     "text": [
      "Since the GPL-licensed package `unidecode` is not installed, using Python's `unicodedata` package which yields worse results.\n",
      "[nltk_data] Downloading package punkt to\n",
      "[nltk_data]     C:\\Users\\emilo\\AppData\\Roaming\\nltk_data...\n",
      "[nltk_data]   Package punkt is already up-to-date!\n"
     ]
    }
   ],
   "source": [
    "#Importing necessary modules\n",
    "import pandas as pd\n",
    "from collections import Counter\n",
    "from cleantext import clean\n",
    "import nltk\n",
    "import sys\n",
    "sys.path.append('C:/Users/emilo/Desktop/GDS_Project')\n",
    "import functions as funs\n",
    "\n",
    "nltk.download('punkt')\n",
    "\n",
    "pd.set_option('display.max_rows', None)\n",
    "pd.set_option('display.max_colwidth', 150)"
   ]
  },
  {
   "cell_type": "code",
   "execution_count": 2,
   "metadata": {},
   "outputs": [],
   "source": [
    "liar = pd.read_pickle('../data/labeled_liar_statements_preprocessed.pkl')\n",
    "labeled_content = pd.read_pickle('../data/labeled_content_new.pkl')\n",
    "\n",
    "liar = pd.DataFrame(liar)\n",
    "labeled_content = pd.DataFrame(labeled_content)"
   ]
  },
  {
   "cell_type": "code",
   "execution_count": 7,
   "metadata": {},
   "outputs": [
    {
     "name": "stdout",
     "output_type": "stream",
     "text": [
      "count    420761.000000\n",
      "mean        228.799779\n",
      "std         308.415839\n",
      "min           0.000000\n",
      "25%          52.000000\n",
      "50%         141.000000\n",
      "75%         316.000000\n",
      "max       14047.000000\n",
      "Name: content, dtype: float64\n"
     ]
    }
   ],
   "source": [
    "print(labeled_content['content'].apply(lambda x: len(x)).describe())"
   ]
  },
  {
   "cell_type": "code",
   "execution_count": 8,
   "metadata": {},
   "outputs": [
    {
     "name": "stdout",
     "output_type": "stream",
     "text": [
      "count    12791.000000\n",
      "mean         9.595810\n",
      "std          6.003741\n",
      "min          1.000000\n",
      "25%          7.000000\n",
      "50%          9.000000\n",
      "75%         12.000000\n",
      "max        323.000000\n",
      "Name: Statement, dtype: float64\n"
     ]
    }
   ],
   "source": [
    "print(liar['Statement'].apply(lambda x: len(x)).describe())"
   ]
  }
 ],
 "metadata": {
  "kernelspec": {
   "display_name": "ds_venv",
   "language": "python",
   "name": "python3"
  },
  "language_info": {
   "codemirror_mode": {
    "name": "ipython",
    "version": 3
   },
   "file_extension": ".py",
   "mimetype": "text/x-python",
   "name": "python",
   "nbconvert_exporter": "python",
   "pygments_lexer": "ipython3",
   "version": "3.12.1"
  }
 },
 "nbformat": 4,
 "nbformat_minor": 2
}
