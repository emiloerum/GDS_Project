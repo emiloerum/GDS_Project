{
 "cells": [
  {
   "cell_type": "code",
   "execution_count": 40,
   "metadata": {},
   "outputs": [],
   "source": [
    "import os, nltk, collections\n",
    "import pandas as pd\n",
    "import collections\n",
    "from nltk.tokenize import word_tokenize, sent_tokenize\n",
    "from pprint import pprint\n",
    "from sklearn.feature_extraction.text import CountVectorizer\n",
    "from sklearn.feature_extraction.text import TfidfTransformer\n",
    "from sklearn.feature_extraction.text import TfidfVectorizer\n",
    "from sklearn.model_selection import train_test_split\n",
    "from ast import literal_eval\n",
    "data = pd.read_csv(\"small_datasetprocessed.csv\")\n",
    "X = data[\"content_stemmed\"].apply(lambda x:literal_eval(x))#ikke sikker på de skal være i en liste\n",
    "#tjek lige om der er andre mærkelige kolonner vi har lavet i det?\n",
    "y = data[\"type\"] #eller type?\n",
    "\n",
    "X_train, X_val, y_train, y_val= train_test_split(X,y,test_size=0.2,random_state=0,shuffle=True)\n",
    "X_val, X_test, y_val, y_test = train_test_split(X_val,y_val, test_size=0.5,random_state=0,shuffle=True) \n"
   ]
  },
  {
   "cell_type": "code",
   "execution_count": 41,
   "metadata": {},
   "outputs": [
    {
     "name": "stdout",
     "output_type": "stream",
     "text": [
      "<class 'list'>\n"
     ]
    }
   ],
   "source": [
    "print(type(X[0]))\n"
   ]
  },
  {
   "cell_type": "code",
   "execution_count": 55,
   "metadata": {},
   "outputs": [
    {
     "ename": "AttributeError",
     "evalue": "'Series' object has no attribute 'toarray'",
     "output_type": "error",
     "traceback": [
      "\u001b[1;31m---------------------------------------------------------------------------\u001b[0m",
      "\u001b[1;31mAttributeError\u001b[0m                            Traceback (most recent call last)",
      "\u001b[1;32m~\\AppData\\Local\\Temp\\ipykernel_19040\\2192972326.py\u001b[0m in \u001b[0;36m?\u001b[1;34m()\u001b[0m\n\u001b[0;32m      1\u001b[0m \u001b[0mtfIdfTransformer\u001b[0m \u001b[1;33m=\u001b[0m \u001b[0mTfidfTransformer\u001b[0m\u001b[1;33m(\u001b[0m\u001b[0muse_idf\u001b[0m\u001b[1;33m=\u001b[0m\u001b[1;32mTrue\u001b[0m\u001b[1;33m)\u001b[0m\u001b[1;33m\u001b[0m\u001b[1;33m\u001b[0m\u001b[0m\n\u001b[0;32m      2\u001b[0m \u001b[0mcountVectorizer\u001b[0m \u001b[1;33m=\u001b[0m \u001b[0mCountVectorizer\u001b[0m\u001b[1;33m(\u001b[0m\u001b[1;33m)\u001b[0m\u001b[1;33m\u001b[0m\u001b[1;33m\u001b[0m\u001b[0m\n\u001b[1;32m----> 3\u001b[1;33m \u001b[0mX_BoW\u001b[0m \u001b[1;33m=\u001b[0m \u001b[0mcountVectorizer\u001b[0m\u001b[1;33m.\u001b[0m\u001b[0mfit_transform\u001b[0m\u001b[1;33m(\u001b[0m\u001b[0mX_train\u001b[0m\u001b[1;33m.\u001b[0m\u001b[0mtoarray\u001b[0m\u001b[1;33m(\u001b[0m\u001b[1;33m)\u001b[0m\u001b[1;33m)\u001b[0m\u001b[1;33m\u001b[0m\u001b[1;33m\u001b[0m\u001b[0m\n\u001b[0m\u001b[0;32m      4\u001b[0m \u001b[1;33m\u001b[0m\u001b[0m\n\u001b[0;32m      5\u001b[0m \u001b[1;31m#det virker lidt som om den antager at den ikke får en tokenized tekst?\u001b[0m\u001b[1;33m\u001b[0m\u001b[1;33m\u001b[0m\u001b[0m\n",
      "\u001b[1;32mc:\\Users\\astri\\miniconda3\\Lib\\site-packages\\pandas\\core\\generic.py\u001b[0m in \u001b[0;36m?\u001b[1;34m(self, name)\u001b[0m\n\u001b[0;32m   6289\u001b[0m             \u001b[1;32mand\u001b[0m \u001b[0mname\u001b[0m \u001b[1;32mnot\u001b[0m \u001b[1;32min\u001b[0m \u001b[0mself\u001b[0m\u001b[1;33m.\u001b[0m\u001b[0m_accessors\u001b[0m\u001b[1;33m\u001b[0m\u001b[1;33m\u001b[0m\u001b[0m\n\u001b[0;32m   6290\u001b[0m             \u001b[1;32mand\u001b[0m \u001b[0mself\u001b[0m\u001b[1;33m.\u001b[0m\u001b[0m_info_axis\u001b[0m\u001b[1;33m.\u001b[0m\u001b[0m_can_hold_identifiers_and_holds_name\u001b[0m\u001b[1;33m(\u001b[0m\u001b[0mname\u001b[0m\u001b[1;33m)\u001b[0m\u001b[1;33m\u001b[0m\u001b[1;33m\u001b[0m\u001b[0m\n\u001b[0;32m   6291\u001b[0m         ):\n\u001b[0;32m   6292\u001b[0m             \u001b[1;32mreturn\u001b[0m \u001b[0mself\u001b[0m\u001b[1;33m[\u001b[0m\u001b[0mname\u001b[0m\u001b[1;33m]\u001b[0m\u001b[1;33m\u001b[0m\u001b[1;33m\u001b[0m\u001b[0m\n\u001b[1;32m-> 6293\u001b[1;33m         \u001b[1;32mreturn\u001b[0m \u001b[0mobject\u001b[0m\u001b[1;33m.\u001b[0m\u001b[0m__getattribute__\u001b[0m\u001b[1;33m(\u001b[0m\u001b[0mself\u001b[0m\u001b[1;33m,\u001b[0m \u001b[0mname\u001b[0m\u001b[1;33m)\u001b[0m\u001b[1;33m\u001b[0m\u001b[1;33m\u001b[0m\u001b[0m\n\u001b[0m",
      "\u001b[1;31mAttributeError\u001b[0m: 'Series' object has no attribute 'toarray'"
     ]
    }
   ],
   "source": [
    "tfIdfTransformer = TfidfTransformer(use_idf=True)\n",
    "countVectorizer = CountVectorizer()\n",
    "X_BoW = countVectorizer.fit_transform(X_train.toarray())\n",
    "\n",
    "#det virker lidt som om den antager at den ikke får en tokenized tekst?"
   ]
  },
  {
   "cell_type": "code",
   "execution_count": 63,
   "metadata": {},
   "outputs": [],
   "source": [
    "def fun(doc):\n",
    "    return doc\n",
    "\n",
    "tfidf = TfidfVectorizer(\n",
    "    analyzer='word',\n",
    "    tokenizer=fun,\n",
    "    preprocessor=fun,\n",
    "    token_pattern=None)  \n",
    "\n",
    "tfidf.fit(X_train) #vær opmærksom på at vocab nu er relativt til træningssættet, men det skal det jo sådan set også være, ellers ville der være leakage\n",
    "tfidf.vocabulary_\n",
    "X_tfidf = X_train.apply(lambda x: tfidf.transform([x]))\n",
    "#X_tfidf = X_train[\"content\"].apply(lambda x: tfidf.transform([x]))\n",
    "#måske med apply?"
   ]
  },
  {
   "cell_type": "code",
   "execution_count": 65,
   "metadata": {},
   "outputs": [
    {
     "name": "stdout",
     "output_type": "stream",
     "text": [
      "  (0, 36)\t11\n",
      "  (0, 114)\t5\n",
      "  (0, 115)\t2\n",
      "  (0, 213)\t1\n",
      "  (0, 283)\t1\n",
      "  (0, 345)\t1\n",
      "  (0, 650)\t1\n",
      "  (0, 762)\t1\n",
      "  (0, 861)\t1\n",
      "  (0, 884)\t1\n",
      "  (0, 1013)\t1\n",
      "  (0, 1088)\t1\n",
      "  (0, 1134)\t1\n",
      "  (0, 1323)\t1\n",
      "  (0, 1431)\t2\n",
      "  (0, 1446)\t4\n",
      "  (0, 1453)\t3\n",
      "  (0, 1662)\t2\n",
      "  (0, 1668)\t1\n",
      "  (0, 1739)\t6\n",
      "  (0, 2002)\t1\n",
      "  (0, 2049)\t1\n",
      "  (0, 2082)\t4\n",
      "  (0, 2120)\t1\n",
      "  (0, 2134)\t1\n",
      "  :\t:\n",
      "  (0, 7999)\t1\n",
      "  (0, 8034)\t1\n",
      "  (0, 8038)\t1\n",
      "  (0, 8077)\t2\n",
      "  (0, 8116)\t1\n",
      "  (0, 8321)\t1\n",
      "  (0, 8330)\t1\n",
      "  (0, 8481)\t1\n",
      "  (0, 8614)\t1\n",
      "  (0, 8673)\t3\n",
      "  (0, 8735)\t1\n",
      "  (0, 8832)\t1\n",
      "  (0, 8990)\t1\n",
      "  (0, 8993)\t2\n",
      "  (0, 9054)\t1\n",
      "  (0, 9302)\t1\n",
      "  (0, 9323)\t1\n",
      "  (0, 9343)\t4\n",
      "  (0, 9363)\t1\n",
      "  (0, 9515)\t1\n",
      "  (0, 9577)\t1\n",
      "  (0, 9584)\t1\n",
      "  (0, 9586)\t4\n",
      "  (0, 9602)\t1\n",
      "  (0, 9651)\t1\n"
     ]
    }
   ],
   "source": [
    "BoW = CountVectorizer(\n",
    "    analyzer='word',\n",
    "    tokenizer=fun,\n",
    "    preprocessor=fun,\n",
    "    token_pattern=None)  \n",
    "\n",
    "BoW.fit(X_train) #vær opmærksom på at vocab nu er relativt til træningssættet, men det skal det jo sådan set også være, ellers ville der være leakage\n",
    "BoW.vocabulary_\n",
    "X_BoW = X_train.apply(lambda x: BoW.transform([x]))\n",
    "\n",
    "\n",
    "print(BoW.transform([X_train[0]]))\n",
    "\n",
    "#tror det er rigtigt??\n"
   ]
  }
 ],
 "metadata": {
  "kernelspec": {
   "display_name": "base",
   "language": "python",
   "name": "python3"
  },
  "language_info": {
   "codemirror_mode": {
    "name": "ipython",
    "version": 3
   },
   "file_extension": ".py",
   "mimetype": "text/x-python",
   "name": "python",
   "nbconvert_exporter": "python",
   "pygments_lexer": "ipython3",
   "version": "3.11.5"
  }
 },
 "nbformat": 4,
 "nbformat_minor": 2
}
