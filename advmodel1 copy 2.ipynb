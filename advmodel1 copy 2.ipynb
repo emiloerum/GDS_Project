{
 "cells": [
  {
   "cell_type": "code",
   "execution_count": 1,
   "metadata": {},
   "outputs": [
    {
     "name": "stderr",
     "output_type": "stream",
     "text": [
      "C:\\Users\\astri\\AppData\\Local\\Temp\\ipykernel_8248\\663791057.py:10: DeprecationWarning: \n",
      "Pyarrow will become a required dependency of pandas in the next major release of pandas (pandas 3.0),\n",
      "(to allow more performant data types, such as the Arrow string type, and better interoperability with other libraries)\n",
      "but was not found to be installed on your system.\n",
      "If this would cause problems for you,\n",
      "please provide us feedback at https://github.com/pandas-dev/pandas/issues/54466\n",
      "        \n",
      "  import pandas as pd\n"
     ]
    }
   ],
   "source": [
    "#det her er den udgave med det cleanede data\n",
    "from sklearn.model_selection import GridSearchCV\n",
    "from sklearn.model_selection import RandomizedSearchCV\n",
    "from sklearn.feature_extraction.text import TfidfVectorizer\n",
    "from sklearn.model_selection import train_test_split\n",
    "from sklearn.linear_model import LogisticRegression\n",
    "from sklearn.neural_network import MLPClassifier\n",
    "from sklearn.metrics import accuracy_score, f1_score, precision_score, recall_score, confusion_matrix\n",
    "import matplotlib.pyplot as plt\n",
    "import pandas as pd\n",
    "import numpy as np"
   ]
  },
  {
   "cell_type": "code",
   "execution_count": 2,
   "metadata": {},
   "outputs": [
    {
     "ename": "NameError",
     "evalue": "name 'pd' is not defined",
     "output_type": "error",
     "traceback": [
      "\u001b[1;31m---------------------------------------------------------------------------\u001b[0m",
      "\u001b[1;31mNameError\u001b[0m                                 Traceback (most recent call last)",
      "Cell \u001b[1;32mIn[2], line 1\u001b[0m\n\u001b[1;32m----> 1\u001b[0m data \u001b[38;5;241m=\u001b[39m pd\u001b[38;5;241m.\u001b[39mread_pickle(\u001b[38;5;124m\"\u001b[39m\u001b[38;5;124mlabeled_content.pkl\u001b[39m\u001b[38;5;124m\"\u001b[39m)\n",
      "\u001b[1;31mNameError\u001b[0m: name 'pd' is not defined"
     ]
    }
   ],
   "source": [
    "data = pd.read_pickle(\"labeled_content.pkl\")"
   ]
  },
  {
   "cell_type": "code",
   "execution_count": 3,
   "metadata": {},
   "outputs": [
    {
     "name": "stdout",
     "output_type": "stream",
     "text": [
      "420761\n"
     ]
    }
   ],
   "source": [
    "print(len(data))\n",
    "def fun(doc):\n",
    "   return doc\n",
    "\n",
    "vectorizer = TfidfVectorizer(\n",
    "    tokenizer=fun,\n",
    "    preprocessor=fun,\n",
    "    token_pattern=None)  "
   ]
  },
  {
   "cell_type": "code",
   "execution_count": 4,
   "metadata": {},
   "outputs": [
    {
     "name": "stdout",
     "output_type": "stream",
     "text": [
      "vectorize\n",
      "(420761, 955247)\n"
     ]
    }
   ],
   "source": [
    "print(\"vectorize\")\n",
    "X = vectorizer.fit_transform(data[\"content\"])\n",
    "print(X.shape)"
   ]
  },
  {
   "cell_type": "code",
   "execution_count": 5,
   "metadata": {},
   "outputs": [],
   "source": [
    "def bin_target(x):\n",
    "    if x==\"reliable\":\n",
    "        return 0\n",
    "    if x==\"fake\":\n",
    "        return 1\n",
    "\n",
    "y = data[\"type\"].apply(lambda x:bin_target(x)).astype(int)\n",
    "\n",
    "X_train, X_val, y_train, y_val= train_test_split(X,y,test_size=0.2,random_state=0,shuffle=True)\n",
    "X_val, X_test, y_val, y_test = train_test_split(X_val,y_val, test_size=0.5,random_state=0,shuffle=True) "
   ]
  },
  {
   "cell_type": "code",
   "execution_count": 6,
   "metadata": {},
   "outputs": [
    {
     "name": "stderr",
     "output_type": "stream",
     "text": [
      "c:\\Users\\astri\\miniconda3\\Lib\\site-packages\\sklearn\\neural_network\\_multilayer_perceptron.py:698: UserWarning: Training interrupted by user.\n",
      "  warnings.warn(\"Training interrupted by user.\")\n"
     ]
    },
    {
     "ename": "AttributeError",
     "evalue": "'MLPClassifier' object has no attribute 'f_1_score'",
     "output_type": "error",
     "traceback": [
      "\u001b[1;31m---------------------------------------------------------------------------\u001b[0m",
      "\u001b[1;31mAttributeError\u001b[0m                            Traceback (most recent call last)",
      "Cell \u001b[1;32mIn[6], line 4\u001b[0m\n\u001b[0;32m      2\u001b[0m clf1 \u001b[38;5;241m=\u001b[39m MLPClassifier(random_state\u001b[38;5;241m=\u001b[39m\u001b[38;5;241m1\u001b[39m, hidden_layer_sizes\u001b[38;5;241m=\u001b[39m(\u001b[38;5;241m20\u001b[39m,\u001b[38;5;241m20\u001b[39m), max_iter\u001b[38;5;241m=\u001b[39m\u001b[38;5;241m1\u001b[39m,verbose\u001b[38;5;241m=\u001b[39m\u001b[38;5;28;01mTrue\u001b[39;00m,tol\u001b[38;5;241m=\u001b[39m\u001b[38;5;241m0.1\u001b[39m,n_iter_no_change\u001b[38;5;241m=\u001b[39m\u001b[38;5;241m2\u001b[39m)\u001b[38;5;241m.\u001b[39mfit(X_train, y_train)\n\u001b[0;32m      3\u001b[0m clf1\u001b[38;5;241m.\u001b[39mscore(X_val,y_val)\n\u001b[1;32m----> 4\u001b[0m clf1\u001b[38;5;241m.\u001b[39mf_1_score(X_val,y_val)\n",
      "\u001b[1;31mAttributeError\u001b[0m: 'MLPClassifier' object has no attribute 'f_1_score'"
     ]
    }
   ],
   "source": [
    "#reproducible\n",
    "clf1 = MLPClassifier(random_state=1, hidden_layer_sizes=(20,20), max_iter=1,verbose=True,tol=0.1,n_iter_no_change=2).fit(X_train, y_train)\n",
    "clf1.score(X_val,y_val)\n",
    "clf1.f_1_score(X_val,y_val)"
   ]
  },
  {
   "cell_type": "code",
   "execution_count": 7,
   "metadata": {},
   "outputs": [
    {
     "name": "stdout",
     "output_type": "stream",
     "text": [
      "Iteration 1, loss = 0.15056016\n"
     ]
    },
    {
     "name": "stderr",
     "output_type": "stream",
     "text": [
      "c:\\Users\\astri\\miniconda3\\Lib\\site-packages\\sklearn\\neural_network\\_multilayer_perceptron.py:691: ConvergenceWarning: Stochastic Optimizer: Maximum iterations (1) reached and the optimization hasn't converged yet.\n",
      "  warnings.warn(\n"
     ]
    },
    {
     "ename": "AttributeError",
     "evalue": "'MLPClassifier' object has no attribute 'f_1_score'",
     "output_type": "error",
     "traceback": [
      "\u001b[1;31m---------------------------------------------------------------------------\u001b[0m",
      "\u001b[1;31mAttributeError\u001b[0m                            Traceback (most recent call last)",
      "Cell \u001b[1;32mIn[7], line 4\u001b[0m\n\u001b[0;32m      2\u001b[0m clf2 \u001b[38;5;241m=\u001b[39m MLPClassifier(random_state\u001b[38;5;241m=\u001b[39m\u001b[38;5;241m1\u001b[39m, hidden_layer_sizes\u001b[38;5;241m=\u001b[39m(\u001b[38;5;241m20\u001b[39m,\u001b[38;5;241m20\u001b[39m), max_iter\u001b[38;5;241m=\u001b[39m\u001b[38;5;241m1\u001b[39m,verbose\u001b[38;5;241m=\u001b[39m\u001b[38;5;28;01mTrue\u001b[39;00m,tol\u001b[38;5;241m=\u001b[39m\u001b[38;5;241m0.1\u001b[39m,n_iter_no_change\u001b[38;5;241m=\u001b[39m\u001b[38;5;241m2\u001b[39m, activation\u001b[38;5;241m=\u001b[39m\u001b[38;5;124m\"\u001b[39m\u001b[38;5;124mtanh\u001b[39m\u001b[38;5;124m\"\u001b[39m)\u001b[38;5;241m.\u001b[39mfit(X_train, y_train)\n\u001b[0;32m      3\u001b[0m clf2\u001b[38;5;241m.\u001b[39mscore(X_val,y_val)\n\u001b[1;32m----> 4\u001b[0m clf2\u001b[38;5;241m.\u001b[39mf_1_score(X_val,y_val)\n",
      "\u001b[1;31mAttributeError\u001b[0m: 'MLPClassifier' object has no attribute 'f_1_score'"
     ]
    }
   ],
   "source": [
    "#try with different activation functio\n",
    "clf2 = MLPClassifier(random_state=1, hidden_layer_sizes=(20,20), max_iter=1,tol=0.1,n_iter_no_change=2, activation=\"tanh\").fit(X_train, y_train)\n",
    "clf2.score(X_val,y_val)\n",
    "clf2.f1_score(X_val,y_val)"
   ]
  },
  {
   "cell_type": "code",
   "execution_count": 10,
   "metadata": {},
   "outputs": [
    {
     "name": "stdout",
     "output_type": "stream",
     "text": [
      "accuracy: 0.9590740564692462\n",
      "F1: 0.9574015436374431\n"
     ]
    }
   ],
   "source": [
    "y_pred = clf2.predict(X_val)\n",
    "print(\"accuracy:\", accuracy_score(y_pred,y_val))\n",
    "print(\"F1:\", f1_score(y_pred,y_val))"
   ]
  },
  {
   "cell_type": "code",
   "execution_count": 11,
   "metadata": {},
   "outputs": [
    {
     "name": "stdout",
     "output_type": "stream",
     "text": [
      "Iteration 1, loss = 0.26011617\n"
     ]
    },
    {
     "name": "stderr",
     "output_type": "stream",
     "text": [
      "c:\\Users\\astri\\miniconda3\\Lib\\site-packages\\sklearn\\neural_network\\_multilayer_perceptron.py:691: ConvergenceWarning: Stochastic Optimizer: Maximum iterations (1) reached and the optimization hasn't converged yet.\n",
      "  warnings.warn(\n"
     ]
    },
    {
     "name": "stdout",
     "output_type": "stream",
     "text": [
      "accuracy: 0.9504705770510504\n",
      "F1: 0.9482518871672626\n"
     ]
    }
   ],
   "source": [
    "#try with different activation function\n",
    "clf3 = MLPClassifier(random_state=1, hidden_layer_sizes=(20,20), max_iter=1,verbose=True,tol=0.1,n_iter_no_change=2, activation=\"logistic\").fit(X_train, y_train)\n",
    "y_pred = clf3.predict(X_val)\n",
    "print(\"accuracy:\", accuracy_score(y_pred,y_val))\n",
    "print(\"F1:\", f1_score(y_pred,y_val))\n",
    "#ikke lige så god"
   ]
  },
  {
   "cell_type": "code",
   "execution_count": 12,
   "metadata": {},
   "outputs": [
    {
     "ename": "TypeError",
     "evalue": "unhashable type: 'csr_matrix'",
     "output_type": "error",
     "traceback": [
      "\u001b[1;31m---------------------------------------------------------------------------\u001b[0m",
      "\u001b[1;31mTypeError\u001b[0m                                 Traceback (most recent call last)",
      "Cell \u001b[1;32mIn[12], line 1\u001b[0m\n\u001b[1;32m----> 1\u001b[0m X_train \u001b[38;5;241m=\u001b[39m vectorizer\u001b[38;5;241m.\u001b[39mfit_transform(X_train)\n\u001b[0;32m      2\u001b[0m \u001b[38;5;28mprint\u001b[39m(X\u001b[38;5;241m.\u001b[39mshape)\n\u001b[0;32m      3\u001b[0m X_val \u001b[38;5;241m=\u001b[39m vectorizer\u001b[38;5;241m.\u001b[39mtransform(X_val)\n",
      "File \u001b[1;32mc:\\Users\\astri\\miniconda3\\Lib\\site-packages\\sklearn\\feature_extraction\\text.py:2138\u001b[0m, in \u001b[0;36mTfidfVectorizer.fit_transform\u001b[1;34m(self, raw_documents, y)\u001b[0m\n\u001b[0;32m   2131\u001b[0m \u001b[38;5;28mself\u001b[39m\u001b[38;5;241m.\u001b[39m_check_params()\n\u001b[0;32m   2132\u001b[0m \u001b[38;5;28mself\u001b[39m\u001b[38;5;241m.\u001b[39m_tfidf \u001b[38;5;241m=\u001b[39m TfidfTransformer(\n\u001b[0;32m   2133\u001b[0m     norm\u001b[38;5;241m=\u001b[39m\u001b[38;5;28mself\u001b[39m\u001b[38;5;241m.\u001b[39mnorm,\n\u001b[0;32m   2134\u001b[0m     use_idf\u001b[38;5;241m=\u001b[39m\u001b[38;5;28mself\u001b[39m\u001b[38;5;241m.\u001b[39muse_idf,\n\u001b[0;32m   2135\u001b[0m     smooth_idf\u001b[38;5;241m=\u001b[39m\u001b[38;5;28mself\u001b[39m\u001b[38;5;241m.\u001b[39msmooth_idf,\n\u001b[0;32m   2136\u001b[0m     sublinear_tf\u001b[38;5;241m=\u001b[39m\u001b[38;5;28mself\u001b[39m\u001b[38;5;241m.\u001b[39msublinear_tf,\n\u001b[0;32m   2137\u001b[0m )\n\u001b[1;32m-> 2138\u001b[0m X \u001b[38;5;241m=\u001b[39m \u001b[38;5;28msuper\u001b[39m()\u001b[38;5;241m.\u001b[39mfit_transform(raw_documents)\n\u001b[0;32m   2139\u001b[0m \u001b[38;5;28mself\u001b[39m\u001b[38;5;241m.\u001b[39m_tfidf\u001b[38;5;241m.\u001b[39mfit(X)\n\u001b[0;32m   2140\u001b[0m \u001b[38;5;66;03m# X is already a transformed view of raw_documents so\u001b[39;00m\n\u001b[0;32m   2141\u001b[0m \u001b[38;5;66;03m# we set copy to False\u001b[39;00m\n",
      "File \u001b[1;32mc:\\Users\\astri\\miniconda3\\Lib\\site-packages\\sklearn\\base.py:1351\u001b[0m, in \u001b[0;36m_fit_context.<locals>.decorator.<locals>.wrapper\u001b[1;34m(estimator, *args, **kwargs)\u001b[0m\n\u001b[0;32m   1344\u001b[0m     estimator\u001b[38;5;241m.\u001b[39m_validate_params()\n\u001b[0;32m   1346\u001b[0m \u001b[38;5;28;01mwith\u001b[39;00m config_context(\n\u001b[0;32m   1347\u001b[0m     skip_parameter_validation\u001b[38;5;241m=\u001b[39m(\n\u001b[0;32m   1348\u001b[0m         prefer_skip_nested_validation \u001b[38;5;129;01mor\u001b[39;00m global_skip_validation\n\u001b[0;32m   1349\u001b[0m     )\n\u001b[0;32m   1350\u001b[0m ):\n\u001b[1;32m-> 1351\u001b[0m     \u001b[38;5;28;01mreturn\u001b[39;00m fit_method(estimator, \u001b[38;5;241m*\u001b[39margs, \u001b[38;5;241m*\u001b[39m\u001b[38;5;241m*\u001b[39mkwargs)\n",
      "File \u001b[1;32mc:\\Users\\astri\\miniconda3\\Lib\\site-packages\\sklearn\\feature_extraction\\text.py:1389\u001b[0m, in \u001b[0;36mCountVectorizer.fit_transform\u001b[1;34m(self, raw_documents, y)\u001b[0m\n\u001b[0;32m   1381\u001b[0m             warnings\u001b[38;5;241m.\u001b[39mwarn(\n\u001b[0;32m   1382\u001b[0m                 \u001b[38;5;124m\"\u001b[39m\u001b[38;5;124mUpper case characters found in\u001b[39m\u001b[38;5;124m\"\u001b[39m\n\u001b[0;32m   1383\u001b[0m                 \u001b[38;5;124m\"\u001b[39m\u001b[38;5;124m vocabulary while \u001b[39m\u001b[38;5;124m'\u001b[39m\u001b[38;5;124mlowercase\u001b[39m\u001b[38;5;124m'\u001b[39m\u001b[38;5;124m\"\u001b[39m\n\u001b[0;32m   1384\u001b[0m                 \u001b[38;5;124m\"\u001b[39m\u001b[38;5;124m is True. These entries will not\u001b[39m\u001b[38;5;124m\"\u001b[39m\n\u001b[0;32m   1385\u001b[0m                 \u001b[38;5;124m\"\u001b[39m\u001b[38;5;124m be matched with any documents\u001b[39m\u001b[38;5;124m\"\u001b[39m\n\u001b[0;32m   1386\u001b[0m             )\n\u001b[0;32m   1387\u001b[0m             \u001b[38;5;28;01mbreak\u001b[39;00m\n\u001b[1;32m-> 1389\u001b[0m vocabulary, X \u001b[38;5;241m=\u001b[39m \u001b[38;5;28mself\u001b[39m\u001b[38;5;241m.\u001b[39m_count_vocab(raw_documents, \u001b[38;5;28mself\u001b[39m\u001b[38;5;241m.\u001b[39mfixed_vocabulary_)\n\u001b[0;32m   1391\u001b[0m \u001b[38;5;28;01mif\u001b[39;00m \u001b[38;5;28mself\u001b[39m\u001b[38;5;241m.\u001b[39mbinary:\n\u001b[0;32m   1392\u001b[0m     X\u001b[38;5;241m.\u001b[39mdata\u001b[38;5;241m.\u001b[39mfill(\u001b[38;5;241m1\u001b[39m)\n",
      "File \u001b[1;32mc:\\Users\\astri\\miniconda3\\Lib\\site-packages\\sklearn\\feature_extraction\\text.py:1278\u001b[0m, in \u001b[0;36mCountVectorizer._count_vocab\u001b[1;34m(self, raw_documents, fixed_vocab)\u001b[0m\n\u001b[0;32m   1276\u001b[0m \u001b[38;5;28;01mfor\u001b[39;00m feature \u001b[38;5;129;01min\u001b[39;00m analyze(doc):\n\u001b[0;32m   1277\u001b[0m     \u001b[38;5;28;01mtry\u001b[39;00m:\n\u001b[1;32m-> 1278\u001b[0m         feature_idx \u001b[38;5;241m=\u001b[39m vocabulary[feature]\n\u001b[0;32m   1279\u001b[0m         \u001b[38;5;28;01mif\u001b[39;00m feature_idx \u001b[38;5;129;01mnot\u001b[39;00m \u001b[38;5;129;01min\u001b[39;00m feature_counter:\n\u001b[0;32m   1280\u001b[0m             feature_counter[feature_idx] \u001b[38;5;241m=\u001b[39m \u001b[38;5;241m1\u001b[39m\n",
      "\u001b[1;31mTypeError\u001b[0m: unhashable type: 'csr_matrix'"
     ]
    }
   ],
   "source": [
    "X_train = vectorizer.fit_transform(X_train)\n",
    "print(X.shape)\n",
    "X_val = vectorizer.transform(X_val)"
   ]
  },
  {
   "cell_type": "code",
   "execution_count": 13,
   "metadata": {},
   "outputs": [
    {
     "name": "stderr",
     "output_type": "stream",
     "text": [
      "c:\\Users\\astri\\miniconda3\\Lib\\site-packages\\sklearn\\neural_network\\_multilayer_perceptron.py:698: UserWarning: Training interrupted by user.\n",
      "  warnings.warn(\"Training interrupted by user.\")\n"
     ]
    },
    {
     "name": "stdout",
     "output_type": "stream",
     "text": [
      "accuracy: 0.947998859207149\n",
      "F1: 0.9461508170899784\n"
     ]
    }
   ],
   "source": [
    "#try with more layers\n",
    "#husk at bruge den bedste aktivations-funktion\n",
    "clf4 = MLPClassifier(random_state=1, hidden_layer_sizes=(20,20,20,20,20), max_iter=1,verbose=True,tol=0.1,n_iter_no_change=2,activation=\"tanh\").fit(X_train, y_train)\n",
    "y_pred = clf4.predict(X_val)\n",
    "print(\"accuracy:\", accuracy_score(y_pred,y_val))\n",
    "print(\"F1:\", f1_score(y_pred,y_val))"
   ]
  },
  {
   "cell_type": "code",
   "execution_count": null,
   "metadata": {},
   "outputs": [],
   "source": [
    "#try with more layers and less neurons\n",
    "#husk at justere antal lag så det er det bedste\n",
    "clf5 = MLPClassifier(random_state=1, hidden_layer_sizes=(10,10,10,10,10), max_iter=1,verbose=True,tol=0.1,n_iter_no_change=2).fit(X_train, y_train)\n",
    "y_pred = clf5.predict(X_val)\n",
    "print(\"accuracy:\", accuracy_score(y_pred,y_val))\n",
    "print(\"F1:\", f1_score(y_pred,y_val))"
   ]
  },
  {
   "cell_type": "code",
   "execution_count": null,
   "metadata": {},
   "outputs": [
    {
     "name": "stderr",
     "output_type": "stream",
     "text": [
      "c:\\Users\\astri\\miniconda3\\Lib\\site-packages\\sklearn\\model_selection\\_search.py:318: UserWarning: The total space of parameters 9 is smaller than n_iter=10. Running 9 iterations. For exhaustive searches, use GridSearchCV.\n",
      "  warnings.warn(\n",
      "c:\\Users\\astri\\miniconda3\\Lib\\site-packages\\sklearn\\neural_network\\_multilayer_perceptron.py:698: UserWarning: Training interrupted by user.\n",
      "  warnings.warn(\"Training interrupted by user.\")\n",
      "c:\\Users\\astri\\miniconda3\\Lib\\site-packages\\sklearn\\neural_network\\_multilayer_perceptron.py:698: UserWarning: Training interrupted by user.\n",
      "  warnings.warn(\"Training interrupted by user.\")\n"
     ]
    }
   ],
   "source": [
    "#model = MLPClassifier(random_state=1, max_iter=1,tol=0.1,n_iter_no_change=2,early_stopping=True)\n",
    "#distributions = dict(hidden_layer_sizes=[(50,50,50),(20,20,20,20,20),(100,100,100)],activation=[\"logistic\", \"tanh\", \"relu\"])\n",
    "#get_best = RandomizedSearchCV(model, distributions, random_state=1)\n",
    "#search = get_best.fit(X_train, y_train)\n",
    "#search.best_params_\n"
   ]
  },
  {
   "cell_type": "code",
   "execution_count": null,
   "metadata": {},
   "outputs": [
    {
     "data": {
      "image/png": "[encoded data removed]",
      "text/plain": [
       "<Figure size 300x300 with 1 Axes>"
      ]
     },
     "metadata": {},
     "output_type": "display_data"
    }
   ],
   "source": [
    "#evaluation\n",
    "y_pred = clf.predict(X_val)\n",
    "cm = confusion_matrix(y_true=y_val,y_pred=y_pred)\n",
    "\n",
    "fig, ax = plt.subplots(figsize=(3,3))\n",
    "ax.matshow(cm, cmap=plt.cm.Blues, alpha=0.3)\n",
    "for i in range(2):\n",
    "    for j in range(2):\n",
    "        ax.text(x=j, y=i,s=cm[i, j], va='center', ha='center', size='medium')\n",
    " \n",
    "plt.xlabel('Predictions', fontsize=8)\n",
    "plt.ylabel('Actuals', fontsize=8)\n",
    "plt.title('Confusion Matrix, advanced model', fontsize=10)\n",
    "plt.show()\n"
   ]
  },
  {
   "cell_type": "code",
   "execution_count": null,
   "metadata": {},
   "outputs": [
    {
     "name": "stdout",
     "output_type": "stream",
     "text": [
      "accuracy: 0.9597395189656811\n",
      "F1: 0.9580983476798258\n",
      "Precision: 0.9599504337050806\n",
      "Recall: 0.9562533945588307\n"
     ]
    }
   ],
   "source": [
    "print(\"accuracy:\", accuracy_score(y_pred,y_val))\n",
    "print(\"F1:\", f1_score(y_pred,y_val))\n",
    "precision = precision_score(y_val, y_pred)\n",
    "recall = recall_score(y_val, y_pred)\n",
    "print(\"Precision:\", precision)\n",
    "print(\"Recall:\", recall)"
   ]
  },
  {
   "cell_type": "code",
   "execution_count": null,
   "metadata": {},
   "outputs": [],
   "source": [
    "model = MLPClassifier(random_state=1, max_iter=1,verbose=True,tol=0.01,n_iter_no_change=3,early_stopping=True)\n",
    "clf = GridSearchCV(model,{\"hidden_layer_sizes\":((50,50,50),(20,20,20,20,20),(50,)),\"activation\":\"‘identity’, ‘logistic’, ‘tanh’, ‘relu’\"}, scoring='f1', cv=5)\n",
    "clf.fit(X_train,y_train)"
   ]
  },
  {
   "cell_type": "markdown",
   "metadata": {},
   "source": [
    "Evaluation on Fake news test-set"
   ]
  },
  {
   "cell_type": "code",
   "execution_count": null,
   "metadata": {},
   "outputs": [],
   "source": [
    "bestmodel = clf\n",
    "def evaluate(model, name):\n",
    "    print(f\"evaluating {name}\")\n",
    "    y_pred = model.predict(X_test)\n",
    "    print(\"accuracy:\", accuracy_score(y_pred,y_test))\n",
    "    print(\"F1:\", f1_score(y_pred,y_test))\n",
    "    precision = precision_score(y_val, y_test)\n",
    "    recall = recall_score(y_val, y_test)\n",
    "    print(\"Precision:\", precision)\n",
    "    print(\"Recall:\", recall)\n",
    "    cm = confusion_matrix(y_true=y_test,y_pred=y_test)\n",
    "    fig, ax = plt.subplots(figsize=(3,3))\n",
    "    ax.matshow(cm, cmap=plt.cm.Blues, alpha=0.3)\n",
    "    for i in range(2):\n",
    "        for j in range(2):\n",
    "            ax.text(x=j, y=i,s=cm[i, j], va='center', ha='center', size='medium')\n",
    "    plt.xlabel('Predictions', fontsize=8)\n",
    "    plt.ylabel('Actuals', fontsize=8)\n",
    "    plt.title(f'Confusion Matrix, {name}', fontsize=10)\n",
    "    plt.show()"
   ]
  },
  {
   "cell_type": "code",
   "execution_count": null,
   "metadata": {},
   "outputs": [],
   "source": [
    "#evaluate(bestmodel, \"advanced model\")"
   ]
  },
  {
   "cell_type": "code",
   "execution_count": null,
   "metadata": {},
   "outputs": [],
   "source": [
    "#getting baseline for same dataset: logistic regression where x is length of article\n",
    "X_len_train = pd.DataFrame(X_train[\"content\"].apply(lambda x: len(x))) #get feature with length of article\n",
    "X_len_val = pd.DataFrame(X_val[\"content\"].apply(lambda x: len(x))) #get X for validation\n",
    "\n",
    "baseline = LogisticRegression()\n",
    "reg = baseline.fit(X_len_train,y_train)\n",
    "\n",
    "y_pred = baseline.predict(X_len_val) #er det test eller validation?\n",
    "acc = accuracy_score(y_pred,y_val)\n",
    "\n",
    "print(acc)"
   ]
  },
  {
   "cell_type": "code",
   "execution_count": null,
   "metadata": {},
   "outputs": [],
   "source": [
    "evaluate(baseline, \"baseline\")"
   ]
  },
  {
   "cell_type": "markdown",
   "metadata": {},
   "source": [
    "Evaluation on the LIAR dataset"
   ]
  },
  {
   "cell_type": "code",
   "execution_count": null,
   "metadata": {},
   "outputs": [],
   "source": [
    "liar = pd.concat([pd.read_csv(\"train.tsv\", sep=\"\\t\",header=None),pd.read_csv(\"test.tsv\", sep=\"\\t\",header=None),pd.read_csv(\"valid.tsv\", sep=\"\\t\",header=None)])\n",
    "\n"
   ]
  },
  {
   "cell_type": "code",
   "execution_count": null,
   "metadata": {},
   "outputs": [
    {
     "name": "stdout",
     "output_type": "stream",
     "text": [
      "12791\n",
      "1\n",
      "half-true      2627\n",
      "false          2507\n",
      "mostly-true    2454\n",
      "barely-true    2103\n",
      "true           2053\n",
      "pants-fire     1047\n",
      "Name: count, dtype: int64\n",
      "           0            1                                                  2   \\\n",
      "0   2635.json        false  Says the Annies List political group supports ...   \n",
      "1  10540.json    half-true  When did the decline of coal start? It started...   \n",
      "2    324.json  mostly-true  Hillary Clinton agrees with John McCain \"by vo...   \n",
      "3   1123.json        false  Health care reform legislation is likely to ma...   \n",
      "4   9028.json    half-true  The economic turnaround started at the end of ...   \n",
      "\n",
      "                                   3               4                     5   \\\n",
      "0                            abortion    dwayne-bohac  State representative   \n",
      "1  energy,history,job-accomplishments  scott-surovell        State delegate   \n",
      "2                      foreign-policy    barack-obama             President   \n",
      "3                         health-care    blog-posting                   NaN   \n",
      "4                        economy,jobs   charlie-crist                   NaN   \n",
      "\n",
      "         6           7     8     9      10     11    12                   13  \n",
      "0     Texas  republican   0.0   1.0    0.0    0.0   0.0             a mailer  \n",
      "1  Virginia    democrat   0.0   0.0    1.0    1.0   0.0      a floor speech.  \n",
      "2  Illinois    democrat  70.0  71.0  160.0  163.0   9.0               Denver  \n",
      "3       NaN        none   7.0  19.0    3.0    5.0  44.0       a news release  \n",
      "4   Florida    democrat  15.0   9.0   20.0   19.0   2.0  an interview on CNN  \n"
     ]
    }
   ],
   "source": [
    "print(len(liar))\n",
    "print(liar[1].value_counts())\n",
    "print(liar.head())"
   ]
  },
  {
   "cell_type": "code",
   "execution_count": null,
   "metadata": {},
   "outputs": [],
   "source": [
    "true = set([\"half-true\",\"mostly-true\",\"barely-true\",\"true\"])\n",
    "false = set([\"false\",\"pants-fire\"])\n",
    "def get_bin_y_liar(x):\n",
    "    if x in true:\n",
    "        return 0\n",
    "    if x in false:\n",
    "        return 1\n",
    "    \n",
    "y_test = liar[1]\n",
    "X_test = liar[2]"
   ]
  },
  {
   "cell_type": "code",
   "execution_count": null,
   "metadata": {},
   "outputs": [],
   "source": [
    "evaluate(bestmodel, \"advanced model\")"
   ]
  },
  {
   "cell_type": "code",
   "execution_count": null,
   "metadata": {},
   "outputs": [],
   "source": [
    "evaluate(baseline, \"baseline\")"
   ]
  }
 ],
 "metadata": {
  "kernelspec": {
   "display_name": "base",
   "language": "python",
   "name": "python3"
  },
  "language_info": {
   "codemirror_mode": {
    "name": "ipython",
    "version": 3
   },
   "file_extension": ".py",
   "mimetype": "text/x-python",
   "name": "python",
   "nbconvert_exporter": "python",
   "pygments_lexer": "ipython3",
   "version": "3.11.5"
  }
 },
 "nbformat": 4,
 "nbformat_minor": 2
}
