{
 "cells": [
  {
   "cell_type": "code",
   "execution_count": 15,
   "metadata": {},
   "outputs": [],
   "source": [
    "import pandas as pd\n",
    "import numpy as np\n",
    "from sklearn.model_selection import train_test_split\n",
    "from sklearn.linear_model import LogisticRegression\n",
    "from sklearn.metrics import accuracy_score\n",
    "from sklearn.model_selection import GridSearchCV\n",
    "\n",
    "pd.set_option('display.max_rows', None)\n",
    "pd.set_option('display.max_colwidth', 150)"
   ]
  },
  {
   "cell_type": "code",
   "execution_count": 16,
   "metadata": {},
   "outputs": [],
   "source": [
    "fakenews = set(['fake', 'conspiracy'])\n",
    "relevant = ['reliable', 'fake']\n",
    "\n",
    "def label_news(field):\n",
    "    '''function for labeling news articles as either fake, reliable or unknown'''\n",
    "    if field in fakenews:\n",
    "        return 'fake'\n",
    "    elif field == 'reliable':\n",
    "        return 'reliable'\n",
    "    else:\n",
    "        return 'unknown'\n",
    "    \n",
    "def bin_target(x):\n",
    "    '''returns 0 for reliable content and 1 for fake'''\n",
    "    if x==\"reliable\":\n",
    "        return 0\n",
    "    if x==\"fake\":\n",
    "        return 1\n",
    "    \n",
    "def word_count_reg(field,word):\n",
    "    count = 0\n",
    "    for words in field:\n",
    "        if words == word:\n",
    "            count+=1\n",
    "    return count   \n",
    "    \n",
    "#gridsearch to see if better models with same X exist\n",
    "def gridSearch(solver,penalties,data,target):\n",
    "    model = LogisticRegression()\n",
    "    parameters = {'solver' : solver,'penalty': penalties, 'C' : [0.00001,0.001, 0.01, 0.1, 1.0, 10]}\n",
    "    clf = GridSearchCV(model, parameters, scoring='accuracy', cv=5)\n",
    "    clf.fit(data,target)\n",
    "    return clf"
   ]
  },
  {
   "cell_type": "code",
   "execution_count": 17,
   "metadata": {},
   "outputs": [],
   "source": [
    "labeled_content = pd.read_pickle('data/labeled_content.pkl')"
   ]
  },
  {
   "cell_type": "code",
   "execution_count": 18,
   "metadata": {},
   "outputs": [],
   "source": [
    "X = labeled_content['content']\n",
    "y = labeled_content['type']"
   ]
  },
  {
   "cell_type": "code",
   "execution_count": 19,
   "metadata": {},
   "outputs": [],
   "source": [
    "X_train, X_val, y_train, y_val= train_test_split(X,y,test_size=0.2,random_state=0,shuffle=True)\n",
    "X_val, X_test, y_val, y_test = train_test_split(X_val,y_val, test_size=0.5,random_state=0,shuffle=True)"
   ]
  },
  {
   "cell_type": "code",
   "execution_count": 20,
   "metadata": {},
   "outputs": [
    {
     "name": "stdout",
     "output_type": "stream",
     "text": [
      "0.6211617073866337\n"
     ]
    }
   ],
   "source": [
    "#baseline2: logistic regression, X is number of \"fact\"-mentions\n",
    "def reg_from_one_word(word):\n",
    "    X_word_train = pd.DataFrame(X_train.apply(lambda x: word_count_reg(x,word)))\n",
    "    X_word_val = pd.DataFrame(X_val.apply(lambda x: word_count_reg(x,word)))\n",
    "    model = LogisticRegression()\n",
    "    reg = model.fit(X_word_train,y_train)\n",
    "    y_pred = model.predict(X_word_val)\n",
    "    return accuracy_score(y_pred,y_val)\n",
    "\n",
    "print(reg_from_one_word(\"fact\"))"
   ]
  },
  {
   "cell_type": "code",
   "execution_count": 22,
   "metadata": {},
   "outputs": [],
   "source": [
    "labeled_content_extended = pd.read_pickle('data/labeled_content_extended.pkl')"
   ]
  },
  {
   "cell_type": "code",
   "execution_count": 23,
   "metadata": {},
   "outputs": [],
   "source": [
    "X = labeled_content_extended['content']\n",
    "y = labeled_content_extended['type']"
   ]
  },
  {
   "cell_type": "code",
   "execution_count": 24,
   "metadata": {},
   "outputs": [],
   "source": [
    "X_train, X_val, y_train, y_val= train_test_split(X,y,test_size=0.2,random_state=0,shuffle=True)\n",
    "X_val, X_test, y_val, y_test = train_test_split(X_val,y_val, test_size=0.5,random_state=0,shuffle=True)"
   ]
  },
  {
   "cell_type": "code",
   "execution_count": 25,
   "metadata": {},
   "outputs": [
    {
     "name": "stdout",
     "output_type": "stream",
     "text": [
      "0.6221866842266174\n"
     ]
    }
   ],
   "source": [
    "print(reg_from_one_word(\"fact\"))"
   ]
  }
 ],
 "metadata": {
  "kernelspec": {
   "display_name": "ds_venv",
   "language": "python",
   "name": "python3"
  },
  "language_info": {
   "codemirror_mode": {
    "name": "ipython",
    "version": 3
   },
   "file_extension": ".py",
   "mimetype": "text/x-python",
   "name": "python",
   "nbconvert_exporter": "python",
   "pygments_lexer": "ipython3",
   "version": "3.12.1"
  }
 },
 "nbformat": 4,
 "nbformat_minor": 2
}
